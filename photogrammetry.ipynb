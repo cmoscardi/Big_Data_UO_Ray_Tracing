{
 "cells": [
  {
   "cell_type": "code",
   "execution_count": 1,
   "metadata": {
    "collapsed": false
   },
   "outputs": [
    {
     "data": {
      "text/plain": [
       "<pyspark.context.SparkContext at 0x70069e8>"
      ]
     },
     "execution_count": 1,
     "metadata": {},
     "output_type": "execute_result"
    }
   ],
   "source": [
    "sc"
   ]
  },
  {
   "cell_type": "code",
   "execution_count": 2,
   "metadata": {
    "collapsed": true
   },
   "outputs": [],
   "source": [
    "import numpy as np\n",
    "import optimize_camera as optimize\n",
    "import project_lidar as project\n",
    "import matplotlib.pyplot as pl\n",
    "%matplotlib inline"
   ]
  },
  {
   "cell_type": "code",
   "execution_count": 3,
   "metadata": {
    "collapsed": false
   },
   "outputs": [],
   "source": [
    "# #mymain.py\n",
    "\n",
    "# guess         = np.array([0.38, 0.026, 0.5, 977119, 210445, 145, 0.8e3])\n",
    "# score, params = optimize.run(\"lwir\", num_iter=100, params=guess)\n",
    "# print(\"score  = {0}\\nparams = {1}\".format(score,params))\n"
   ]
  },
  {
   "cell_type": "code",
   "execution_count": 4,
   "metadata": {
    "collapsed": false
   },
   "outputs": [],
   "source": [
    "score  = 1932.73583927\n",
    "\n",
    "params = [4.48603184e+00, -6.39366995e-02, 1.01077828e-35, 9.88508193e+05,\n",
    "          2.14483372e+05, 7.97190735e+02, 2.85647278e+03]"
   ]
  },
  {
   "cell_type": "code",
   "execution_count": 7,
   "metadata": {
    "collapsed": true
   },
   "outputs": [],
   "source": [
    "t1 = np.load('data_npy/x-1001507.241501_y-219055.073690.npy')"
   ]
  },
  {
   "cell_type": "code",
   "execution_count": 8,
   "metadata": {
    "collapsed": false
   },
   "outputs": [
    {
     "data": {
      "text/plain": [
       "(2566144L, 3L)"
      ]
     },
     "execution_count": 8,
     "metadata": {},
     "output_type": "execute_result"
    }
   ],
   "source": [
    "t1.shape"
   ]
  },
  {
   "cell_type": "code",
   "execution_count": 9,
   "metadata": {
    "collapsed": true
   },
   "outputs": [],
   "source": [
    "def colin(params, xyz_a):\n",
    "\n",
    "\t# Unwrap params\n",
    "\tkappa, phi, omega, xs, ys, zs, f = params\n",
    "\n",
    "\tomega = float(omega)\n",
    "\tphi = float(phi) + 0.5*np.pi\n",
    "\tkappa = float(kappa)\n",
    "\txs = float(xs)\n",
    "\tys = float(ys)\n",
    "\tzs = float(zs)\n",
    "\tf = float(f)\n",
    "\n",
    "\t# -- utils\n",
    "\tco = np.cos(omega)\n",
    "\tso = np.sin(omega)\n",
    "\tcp = np.cos(phi)\n",
    "\tsp = np.sin(phi)\n",
    "\tck = np.cos(kappa)\n",
    "\tsk = np.sin(kappa)\n",
    "\n",
    "\ta1 =  cp*ck+sp*so*sk\n",
    "\tb1 =  cp*sk+sp*so*ck\n",
    "\tc1 =  sp*co\n",
    "\ta2 = -co*sk\n",
    "\tb2 =  co*ck\n",
    "\tc2 =  so\n",
    "\ta3 =  sp*ck+cp*so*sk\n",
    "\tb3 =  sp*sk-cp*so*ck\n",
    "\tc3 =  cp*co\n",
    "\n",
    "\tynum  = a1*(xyz_a[:,0]-xs)+b1*(xyz_a[:,1]-ys)+c1*(xyz_a[:,2]-zs)\n",
    "\txnum  = a2*(xyz_a[:,0]-xs)+b2*(xyz_a[:,1]-ys)+c2*(xyz_a[:,2]-zs)\n",
    "\tdenom = a3*(xyz_a[:,0]-xs)+b3*(xyz_a[:,1]-ys)+c3*(xyz_a[:,2]-zs)\n",
    "\n",
    "\txx = -f*xnum/denom\n",
    "\tyy = f*ynum/denom\n",
    "\n",
    "\treturn np.vstack([xx,yy]).T"
   ]
  },
  {
   "cell_type": "code",
   "execution_count": 59,
   "metadata": {
    "collapsed": false
   },
   "outputs": [],
   "source": [
    "def project(_,content):\n",
    "    import numpy as np\n",
    "    import colin\n",
    "    from project_lidar import in_picture\n",
    "    from project_lidar import distance\n",
    "\n",
    "    # Finds the desired projection\n",
    "    \n",
    "#     if globparams == None:\n",
    "#         params = return_params(globname)\n",
    "#     else:\n",
    "#         params = globparams\n",
    "\n",
    "    params = [4.48603184e+00, -6.39366995e-02, 1.01077828e-35, 9.88508193e+05,\n",
    "          2.14483372e+05, 7.97190735e+02, 2.85647278e+03]\n",
    "\n",
    "    omega, phi, kappa, xs, ys, zs, f = params\n",
    "    image_dims = [1918, 2560]\n",
    "    image_dims_reversed = np.array([image_dims[1], \\\n",
    "        image_dims[0]])\n",
    "\n",
    "    # Rearrange\n",
    "#     print \"working on: \", filename\n",
    "#     dat = np.load(filename).copy()\n",
    "    dat = np.fromstring(content)\n",
    "\n",
    "    # Multiply by -1 because it apears as inverse; use orient?\n",
    "    pixel_xy = 1.0*colin.colin(params, dat) \n",
    "\n",
    "    # un-center pixel (x,y)\n",
    "    x = image_dims[0]/2 - pixel_xy[:,0].astype(int)\n",
    "    y = image_dims[1]/2 + pixel_xy[:,1].astype(int)\n",
    "\n",
    "    is_in_picture = in_picture(x,y,image_dims)\n",
    "\n",
    "    index = np.arange(is_in_picture.size)[is_in_picture>0]\n",
    "\n",
    "    print \"npix = \", index.size\n",
    "\n",
    "    distgrid = np.ones(image_dims_reversed)*(100000.0)\n",
    "    xgrid =  -1.*np.ones(image_dims_reversed)\n",
    "    ygrid = -1.*np.ones(image_dims_reversed)\n",
    "\n",
    "    if index.size==0:\n",
    "        #print \"no points, returning...\"\n",
    "        #return [distgrid, xgrid, ygrid]\n",
    "        yield [distgrid, xgrid, ygrid]\n",
    "\n",
    "    n   = distance(xs,ys,zs, dat[index,0],dat[index,1],dat[index,2]) \n",
    "    x   = x[index]\n",
    "    y   = y[index]\n",
    "    dat = dat[index]\n",
    "\n",
    "    # Add each point to the arrays, given it is visibile (vis[i] == 1)\n",
    "    # And it is closer to the camera than the current value stored in \n",
    "    # the corresponding pixel of the distance array\n",
    "\n",
    "    nx = distgrid.shape[1]-1\n",
    "    ny = distgrid.shape[0]-1\n",
    "\n",
    "    for ii in range(index.size):\n",
    "        if n[ii]<distgrid[ny-y[ii],nx-x[ii]] and n[ii]>500:\n",
    "            distgrid[ny-y[ii],nx-x[ii]] = n[ii]\n",
    "            xgrid[ny-y[ii],nx-x[ii]] = dat[ii,0]\n",
    "            ygrid[ny-y[ii],nx-x[ii]] = dat[ii,1]\n",
    "\n",
    "    #print \"Done with: \",filename\n",
    "    #return [distgrid, xgrid, ygrid]\n",
    "    yield [distgrid, xgrid, ygrid]\n"
   ]
  },
  {
   "cell_type": "code",
   "execution_count": 11,
   "metadata": {
    "collapsed": true
   },
   "outputs": [],
   "source": [
    "lidar_fiducials = np.array([\n",
    "                            [988224.09, 211951.573,1494.756662], #Empire state building\n",
    "                            [980598.406, 199043.071,1750.127224], #WTC\n",
    "                            [987656.616, 211766.233,493.89], # 1250 Broadway\n",
    "                            [983564.98, 199358.775,591.406796], # Marshall courthouse\n",
    "                            [987342.468, 212511.054,380.69], #  112 West 34th St\n",
    "                            [988596.086, 211789.785,255.31], # 347 5th Ave\n",
    "                            [988287.232, 213228.734,488.716947]])"
   ]
  },
  {
   "cell_type": "code",
   "execution_count": 12,
   "metadata": {
    "collapsed": true
   },
   "outputs": [],
   "source": [
    "np.save('bof_fiducials.npy', lidar_fiducials)"
   ]
  },
  {
   "cell_type": "code",
   "execution_count": 33,
   "metadata": {
    "collapsed": false
   },
   "outputs": [
    {
     "name": "stdout",
     "output_type": "stream",
     "text": [
      "working on:  data_npy/x-978979.241501_y-198575.073690.npy\n",
      "npix =  3283567\n",
      "Done with:  data_npy/x-978979.241501_y-198575.073690.npy\n"
     ]
    }
   ],
   "source": [
    "# x-978979.241501_y-208815.073690.npy\n",
    "distgrid, xgrid, ygrid = project('data_npy/x-978979.241501_y-198575.073690.npy')"
   ]
  },
  {
   "cell_type": "code",
   "execution_count": 34,
   "metadata": {
    "collapsed": false
   },
   "outputs": [
    {
     "data": {
      "text/plain": [
       "<matplotlib.colorbar.Colorbar at 0x1a7e82e8>"
      ]
     },
     "execution_count": 34,
     "metadata": {},
     "output_type": "execute_result"
    },
    {
     "data": {
      "image/png": "[encoded data removed]",
      "text/plain": [
       "<matplotlib.figure.Figure at 0x1bfa5c18>"
      ]
     },
     "metadata": {},
     "output_type": "display_data"
    }
   ],
   "source": [
    "#pl.figure(figsize=(12, 15))\n",
    "pl.imshow(xgrid)\n",
    "pl.colorbar()"
   ]
  },
  {
   "cell_type": "code",
   "execution_count": null,
   "metadata": {
    "collapsed": true
   },
   "outputs": [],
   "source": []
  },
  {
   "cell_type": "code",
   "execution_count": 21,
   "metadata": {
    "collapsed": false
   },
   "outputs": [],
   "source": [
    "def merge(final, new):\n",
    "    \n",
    "    out = [0, 0, 0]\n",
    "    replace = np.greater(final[0], new[0])\n",
    "    out[0] = final[0]*np.logical_not(replace) + new[0]*replace\n",
    "    out[1] = final[1]*np.logical_not(replace) + new[1]*replace\n",
    "    out[2] = final[2]*np.logical_not(replace) + new[2]*replace\n",
    "    return out"
   ]
  },
  {
   "cell_type": "code",
   "execution_count": null,
   "metadata": {
    "collapsed": true
   },
   "outputs": [],
   "source": [
    "def reducer(triple):\n",
    "    distgrid, \n",
    "    "
   ]
  },
  {
   "cell_type": "code",
   "execution_count": 61,
   "metadata": {
    "collapsed": false
   },
   "outputs": [],
   "source": [
    "rdd = sc.binaryFiles('data_npy/*') \\\n",
    "        .mapPartitionsWithIndex(project)\\\n",
    "        .map(lambda x: x).reduceByKey\n",
    "        \n",
    "#rdd.take(1)"
   ]
  }
 ],
 "metadata": {
  "anaconda-cloud": {},
  "kernelspec": {
   "display_name": "Python 2",
   "language": "python",
   "name": "python2"
  },
  "language_info": {
   "codemirror_mode": {
    "name": "ipython",
    "version": 2
   },
   "file_extension": ".py",
   "mimetype": "text/x-python",
   "name": "python",
   "nbconvert_exporter": "python",
   "pygments_lexer": "ipython2",
   "version": "2.7.13"
  }
 },
 "nbformat": 4,
 "nbformat_minor": 0
}
