{
 "cells": [
  {
   "cell_type": "code",
   "execution_count": 1,
   "metadata": {
    "collapsed": true
   },
   "outputs": [],
   "source": [
    "from scipy.optimize import minimize\n",
    "import numpy as np\n",
    "from random import gauss\n",
    "import scipy as sp"
   ]
  },
  {
   "cell_type": "code",
   "execution_count": 2,
   "metadata": {
    "collapsed": true
   },
   "outputs": [],
   "source": [
    "def center_image_fiducials(dimensions,fiducials):\n",
    "\n",
    "    ''' Centers image fiducial points using image dimensions  '''\n",
    "\n",
    "    for i in range(np.shape(fiducials)[0]):\n",
    "        fiducials[i,0] = fiducials[i,0] - (dimensions[0] / 2)\n",
    "        fiducials[i,1] = fiducials[i,1] - (dimensions[1] / 2)\n",
    "\n",
    "    return fiducials"
   ]
  },
  {
   "cell_type": "code",
   "execution_count": 4,
   "metadata": {
    "collapsed": true
   },
   "outputs": [],
   "source": [
    "def colin(params, xyz_a):\n",
    "\n",
    "\t# Unwrap params\n",
    "\tkappa, phi, omega, xs, ys, zs, f = params\n",
    "\n",
    "\tomega = float(omega)\n",
    "\tphi = float(phi) + 0.5*np.pi\n",
    "\tkappa = float(kappa)\n",
    "\txs = float(xs)\n",
    "\tys = float(ys)\n",
    "\tzs = float(zs)\n",
    "\tf = float(f)\n",
    "\n",
    "\t# -- utils\n",
    "\tco = np.cos(omega)\n",
    "\tso = np.sin(omega)\n",
    "\tcp = np.cos(phi)\n",
    "\tsp = np.sin(phi)\n",
    "\tck = np.cos(kappa)\n",
    "\tsk = np.sin(kappa)\n",
    "\n",
    "\ta1 =  cp*ck+sp*so*sk\n",
    "\tb1 =  cp*sk+sp*so*ck\n",
    "\tc1 =  sp*co\n",
    "\ta2 = -co*sk\n",
    "\tb2 =  co*ck\n",
    "\tc2 =  so\n",
    "\ta3 =  sp*ck+cp*so*sk\n",
    "\tb3 =  sp*sk-cp*so*ck\n",
    "\tc3 =  cp*co\n",
    "\n",
    "\tynum  = a1*(xyz_a[:,0]-xs)+b1*(xyz_a[:,1]-ys)+c1*(xyz_a[:,2]-zs)\n",
    "\txnum  = a2*(xyz_a[:,0]-xs)+b2*(xyz_a[:,1]-ys)+c2*(xyz_a[:,2]-zs)\n",
    "\tdenom = a3*(xyz_a[:,0]-xs)+b3*(xyz_a[:,1]-ys)+c3*(xyz_a[:,2]-zs)\n",
    "\n",
    "\txx = -f*xnum/denom\n",
    "\tyy = f*ynum/denom\n",
    "\n",
    "\treturn np.vstack([xx,yy]).T\n",
    "\n",
    "        '''\t\n",
    "\t# Get number of fiducial points\n",
    "\tN = int(xyz_a.shape[0])\n",
    "\n",
    "\t# Initialize the result vector\n",
    "\tcolin_xy = np.zeros((N,2))\n",
    "\n",
    "\t# Define c code that will evaluate the functions\n",
    "\tcode = \"\"\"\n",
    "\n",
    "\t\tdouble sinp = sinf(phi);\n",
    "\t\tdouble cosp = cosf(phi);\n",
    "\t\tdouble sino = sinf(omega);\n",
    "\t\tdouble coso = cosf(omega);\n",
    "\t\tdouble sink = sinf(kappa);\n",
    "\t\tdouble cosk = cosf(kappa);\n",
    "\n",
    "\t\tdouble a1 = cosp*cosk;\n",
    "\t\tdouble b1 = coso*sink + sino*sinp*cosk;\n",
    "\t\tdouble c1 = sino*sink - coso*sinp*cosk;\n",
    "\t\tdouble a2 = -1 * cosp*sink;\n",
    "\t\tdouble b2 = coso*cosk - sino*sinp*sink;\n",
    "\t\tdouble c2 = sino*cosk + coso*sinp*sink;\n",
    "\t\tdouble a3 = sinp;\n",
    "\t\tdouble b3 = -1*sino*cosp;\n",
    "\t\tdouble c3 = cosp*coso;\n",
    "\n",
    "\t\tint j;\n",
    "\t\tint k;\n",
    "\t\tdouble denom;\n",
    "\n",
    "\t\tfor(int i = 0; i < N; i++)\n",
    "\t\t{\n",
    "\t\t\tj = i*2;\n",
    "\t\t\tk = i*3;\n",
    "\t\t\tdenom = (a3*(xyz_a[k]-xs) + b3*(xyz_a[(k+1)]-ys) + c3*(xyz_a[(k+2)]-zs));\n",
    "\n",
    "\t\t\tcolin_xy[j] = -1.0*f*(a1*(xyz_a[k]-xs) + b1*(xyz_a[(k+1)]-ys) + c1*(xyz_a[(k+2)]-zs))/denom;\n",
    "\t\t\tcolin_xy[(j+1)] = -1.0*f*(a2*(xyz_a[k]-xs) + b2*(xyz_a[(k+1)]-ys) + c2*(xyz_a[(k+2)]-zs))/denom;\n",
    "\t\t}\n",
    "\t\treturn_val = 1;\n",
    "\t\"\"\"\n",
    "\n",
    "\t# Use scipy.weave.inline to run the c code\n",
    "\tres = inline(code, ['colin_xy', 'omega', 'phi', 'kappa', 'xs', \\\n",
    "\t\t'ys', 'zs', 'f', 'xyz_a', 'N'], headers = ['<math.h>'], \\\n",
    "\t\tcompiler = 'gcc')\n",
    "\t\n",
    "\t# Return the pixel (x,y) positions\n",
    "\treturn colin_xy\n",
    "\t'''"
   ]
  },
  {
   "cell_type": "code",
   "execution_count": 5,
   "metadata": {
    "collapsed": false
   },
   "outputs": [],
   "source": [
    "def colinN(params, xyz_a):\n",
    "\n",
    "\t# Unwrap params\n",
    "\tkappa, phi, omega, xs, ys, zs, f = params\n",
    "\n",
    "\tomega = float(omega)*2*np.pi\n",
    "\tphi = (float(phi)*0.5*np.pi)+0.5*np.pi\n",
    "\tkappa = float(kappa)*2*np.pi\n",
    "\txs = (float(xs)*25000)+975000\n",
    "\tys = (float(ys)*30000) + 192000\n",
    "\tzs = float(zs)*2000\n",
    "\tf = float(f)*3000\n",
    "\n",
    "\t# -- utils\n",
    "\tco = np.cos(omega)\n",
    "\tso = np.sin(omega)\n",
    "\tcp = np.cos(phi)\n",
    "\tsp = np.sin(phi)\n",
    "\tck = np.cos(kappa)\n",
    "\tsk = np.sin(kappa)\n",
    "\n",
    "\ta1 =  cp*ck+sp*so*sk\n",
    "\tb1 =  cp*sk+sp*so*ck\n",
    "\tc1 =  sp*co\n",
    "\ta2 = -co*sk\n",
    "\tb2 =  co*ck\n",
    "\tc2 =  so\n",
    "\ta3 =  sp*ck+cp*so*sk\n",
    "\tb3 =  sp*sk-cp*so*ck\n",
    "\tc3 =  cp*co\n",
    "\n",
    "\tynum  = a1*(xyz_a[:,0]-xs)+b1*(xyz_a[:,1]-ys)+c1*(xyz_a[:,2]-zs)\n",
    "\txnum  = a2*(xyz_a[:,0]-xs)+b2*(xyz_a[:,1]-ys)+c2*(xyz_a[:,2]-zs)\n",
    "\tdenom = a3*(xyz_a[:,0]-xs)+b3*(xyz_a[:,1]-ys)+c3*(xyz_a[:,2]-zs)\n",
    "\n",
    "\txx = -f*xnum/denom\n",
    "\tyy = f*ynum/denom\n",
    "\n",
    "\treturn np.vstack([xx,yy]).T\n",
    "\n",
    "        '''\t\n",
    "\t# Get number of fiducial points\n",
    "\tN = int(xyz_a.shape[0])\n",
    "\n",
    "\t# Initialize the result vector\n",
    "\tcolin_xy = np.zeros((N,2))\n",
    "\n",
    "\t# Define c code that will evaluate the functions\n",
    "\tcode = \"\"\"\n",
    "\n",
    "\t\tdouble sinp = sinf(phi);\n",
    "\t\tdouble cosp = cosf(phi);\n",
    "\t\tdouble sino = sinf(omega);\n",
    "\t\tdouble coso = cosf(omega);\n",
    "\t\tdouble sink = sinf(kappa);\n",
    "\t\tdouble cosk = cosf(kappa);\n",
    "\n",
    "\t\tdouble a1 = cosp*cosk;\n",
    "\t\tdouble b1 = coso*sink + sino*sinp*cosk;\n",
    "\t\tdouble c1 = sino*sink - coso*sinp*cosk;\n",
    "\t\tdouble a2 = -1 * cosp*sink;\n",
    "\t\tdouble b2 = coso*cosk - sino*sinp*sink;\n",
    "\t\tdouble c2 = sino*cosk + coso*sinp*sink;\n",
    "\t\tdouble a3 = sinp;\n",
    "\t\tdouble b3 = -1*sino*cosp;\n",
    "\t\tdouble c3 = cosp*coso;\n",
    "\n",
    "\t\tint j;\n",
    "\t\tint k;\n",
    "\t\tdouble denom;\n",
    "\n",
    "\t\tfor(int i = 0; i < N; i++)\n",
    "\t\t{\n",
    "\t\t\tj = i*2;\n",
    "\t\t\tk = i*3;\n",
    "\t\t\tdenom = (a3*(xyz_a[k]-xs) + b3*(xyz_a[(k+1)]-ys) + c3*(xyz_a[(k+2)]-zs));\n",
    "\n",
    "\t\t\tcolin_xy[j] = -1.0*f*(a1*(xyz_a[k]-xs) + b1*(xyz_a[(k+1)]-ys) + c1*(xyz_a[(k+2)]-zs))/denom;\n",
    "\t\t\tcolin_xy[(j+1)] = -1.0*f*(a2*(xyz_a[k]-xs) + b2*(xyz_a[(k+1)]-ys) + c2*(xyz_a[(k+2)]-zs))/denom;\n",
    "\t\t}\n",
    "\t\treturn_val = 1;\n",
    "\t\"\"\"\n",
    "\n",
    "\t# Use scipy.weave.inline to run the c code\n",
    "\tres = inline(code, ['colin_xy', 'omega', 'phi', 'kappa', 'xs', \\\n",
    "\t\t'ys', 'zs', 'f', 'xyz_a', 'N'], headers = ['<math.h>'], \\\n",
    "\t\tcompiler = 'gcc')\n",
    "\t\n",
    "\t# Return the pixel (x,y) positions\n",
    "\treturn colin_xy\n",
    "\t'''"
   ]
  },
  {
   "cell_type": "code",
   "execution_count": 6,
   "metadata": {
    "collapsed": true
   },
   "outputs": [],
   "source": [
    "def fullfunc(params,xyz_s,xy_t):\n",
    "\n",
    "    ''' Find the sum of squares difference '''\n",
    "    omega, phi, kappa, xs, ys, zs, f = params\n",
    "\n",
    "\n",
    "#     if (omega<0.0) or (omega>=2.0*np.pi):\n",
    "#         return 1e9+omega**4\n",
    "#     elif (phi<-0.5*np.pi) or (phi>=0.5*np.pi):\n",
    "#         return 1e9+phi**4\n",
    "#     elif (kappa<0.0) or (kappa>=2.0*np.pi):\n",
    "#         return 1e9+kappa**4\n",
    "#     elif zs<0.0:\n",
    "#         return 1e9+zs**4\n",
    "#     elif f<0.0:\n",
    "#         return 1e9+f**4\n",
    "\n",
    "#     elif (np.abs(params[3] - 977119)>1000) or \\\n",
    "#             (np.abs(params[4] - 210445)>1000):\n",
    "#         return 1e9 + xs**2\n",
    "\n",
    "    colin_xy = 1.0*colinN(params,xyz_s.astype(float))\n",
    "    diff = ((colin_xy - xy_t)**2).sum()\n",
    "\n",
    "    return diff"
   ]
  },
  {
   "cell_type": "code",
   "execution_count": 7,
   "metadata": {
    "collapsed": false
   },
   "outputs": [],
   "source": [
    "def call(params,xyz_s,xy_t):\n",
    "\n",
    "    ''' Guess parameters near start and brute-force minimize '''\n",
    "    start = params\n",
    "    \n",
    "    boundsN=[(0.01, 0.99), (-0.99, 0.99), (-0.1, 0.1),\n",
    "            (0.0001, 0.9999), (0.0001, 0.9999), (0.35, 0.45), (0.1, 1.2)]\n",
    "    \n",
    "    res = minimize(fullfunc, start,args=(xyz_s,xy_t), \\\n",
    "        method = 'L-BFGS-B', \\\n",
    "        #options={'maxfev': 10000, 'maxiter': 10000})    # Nelder-Mead\n",
    "        options={'disp': True, 'maxiter': 10000, 'gtol': 0.001}, bounds=boundsN) #BFGS\n",
    "\n",
    "    return res"
   ]
  },
  {
   "cell_type": "code",
   "execution_count": 9,
   "metadata": {
    "collapsed": false
   },
   "outputs": [],
   "source": [
    "def random_start(params):\n",
    "\n",
    "# \t''' Perturbs camera position in a gaussian fashion '''\n",
    "# \treturn params\n",
    "# \treturn params + np.array([gauss(0, 0.1), gauss(0, 0.1), \\\n",
    "# #\tgauss(0, 0.1),gauss(0, 20000),gauss(0, 20000), \\\n",
    "# \tgauss(0, 0.1),gauss(0, 100),gauss(0, 100), \\\n",
    "# \tgauss(0, 100), gauss(0, 30)])\n",
    "# #\tgauss(0, 10), gauss(0, 2000)])\n",
    "\n",
    "    return params + np.array([gauss(0, 0.1), gauss(0, 0.1), gauss(0, 0.1),\n",
    "                              gauss(0, 0.1), gauss(0, 0.1),\n",
    "                              gauss(0, 0.1), gauss(0, 0.1)])"
   ]
  },
  {
   "cell_type": "code",
   "execution_count": 10,
   "metadata": {
    "collapsed": true
   },
   "outputs": [],
   "source": [
    "lidar_fiducials = np.array([\n",
    "                            [988328.741, 211962.778,1020.623838], #Empire state building\n",
    "                            [980648.447, 199131.861,1380.707975], #WTC\n",
    "                            [987656.616, 211766.233,493.89], # 1250 Broadway\n",
    "                            [983564.98, 199358.775,591.406796], # Marshall courthouse\n",
    "                            [987342.468, 212511.054,380.69], #  112 West 34th St\n",
    "                            [988596.086, 211789.785,255.31], # 347 5th Ave\n",
    "                            [988287.232, 213228.734,488.716947],  # 66 W 38th St\n",
    "                            [984574.798, 204219.63, 303.263412], # 505 LaGuardia Place, second leftmost edge \n",
    "                            [987140.31, 209161.591, 324.317488], # Flatiron, left point on triange rooftop, under the fence\n",
    "                            [986252.724, 205516.404, 365.468789]]) # 755 Broadway, leftmost corner on the roof\n",
    "                            "
   ]
  },
  {
   "cell_type": "code",
   "execution_count": 11,
   "metadata": {
    "collapsed": true
   },
   "outputs": [],
   "source": [
    "xyz_s = lidar_fiducials"
   ]
  },
  {
   "cell_type": "code",
   "execution_count": 12,
   "metadata": {
    "collapsed": false
   },
   "outputs": [
    {
     "data": {
      "text/plain": [
       "(10L, 3L)"
      ]
     },
     "execution_count": 12,
     "metadata": {},
     "output_type": "execute_result"
    }
   ],
   "source": [
    "xyz_s.shape"
   ]
  },
  {
   "cell_type": "code",
   "execution_count": 13,
   "metadata": {
    "collapsed": true
   },
   "outputs": [],
   "source": [
    "fiducials = np.array([\n",
    "                        [507, 856],#Empire state building\n",
    "                        [1681, 1004],# WTC\n",
    "                        [1185, 1400], # 1250 Broadway\n",
    "                        [1217, 1143], # Marshall courthouse\n",
    "                        [1860, 1637], #  112 West 34th St\n",
    "                        [211, 1704], # 347 5th Ave\n",
    "                        [814, 1811], # 66 W 38th St\n",
    "                        [1362, 1234], # 505 LaGuardia Place\n",
    "                        [1037, 1355], # Flatiron\n",
    "                        [1013, 1237]]) # 755 Broadway\n",
    "\n",
    "dimensions = np.array([1918, 2560])\n",
    "fiducials = center_image_fiducials(dimensions,fiducials)"
   ]
  },
  {
   "cell_type": "code",
   "execution_count": 14,
   "metadata": {
    "collapsed": true
   },
   "outputs": [],
   "source": [
    "xy_t = fiducials"
   ]
  },
  {
   "cell_type": "code",
   "execution_count": 15,
   "metadata": {
    "collapsed": false
   },
   "outputs": [
    {
     "data": {
      "text/plain": [
       "0.53964"
      ]
     },
     "execution_count": 15,
     "metadata": {},
     "output_type": "execute_result"
    }
   ],
   "source": [
    "(988491.-975000)/25000"
   ]
  },
  {
   "cell_type": "code",
   "execution_count": 16,
   "metadata": {
    "collapsed": false
   },
   "outputs": [
    {
     "data": {
      "text/plain": [
       "0.7491666666666666"
      ]
     },
     "execution_count": 16,
     "metadata": {},
     "output_type": "execute_result"
    }
   ],
   "source": [
    "(214475. - 192000)/30000"
   ]
  },
  {
   "cell_type": "code",
   "execution_count": 17,
   "metadata": {
    "collapsed": false
   },
   "outputs": [
    {
     "data": {
      "text/plain": [
       "0.4"
      ]
     },
     "execution_count": 17,
     "metadata": {},
     "output_type": "execute_result"
    }
   ],
   "source": [
    "800./2000"
   ]
  },
  {
   "cell_type": "code",
   "execution_count": 18,
   "metadata": {
    "collapsed": false
   },
   "outputs": [
    {
     "data": {
      "text/plain": [
       "0.3333333333333333"
      ]
     },
     "execution_count": 18,
     "metadata": {},
     "output_type": "execute_result"
    }
   ],
   "source": [
    "1000./3000"
   ]
  },
  {
   "cell_type": "code",
   "execution_count": 19,
   "metadata": {
    "collapsed": false
   },
   "outputs": [
    {
     "name": "stdout",
     "output_type": "stream",
     "text": [
      "params:  [ 0.7269474  -0.11233614 -0.06723587  0.55417787  0.88267424  0.35\n",
      "  1.00153668]\n",
      "score:  1959793.7374\n",
      "params:  [ 0.01       -0.29919843  0.09775942  0.14327639  0.62760979  0.35004167\n",
      "  0.1       ]\n",
      "score:  2329823.3502\n",
      "params:  [ 0.01       -0.29909487  0.09776181  0.1432488   0.62758251  0.35        0.1       ]\n",
      "score:  2329823.30124\n",
      "params:  [  9.25508178e-01  -3.79471935e-01   1.00000000e-01   9.99900000e-01\n",
      "   1.00000000e-04   4.50000000e-01   1.00000000e-01]\n",
      "score:  3569646.68381\n",
      "params:  [ 0.87731508  0.33784449 -0.1         0.57766714  0.66024267  0.35        0.1       ]\n",
      "score:  2703353.44348\n",
      "params:  [ 0.01       -0.30086274  0.09795524  0.13922626  0.62304886  0.44994742\n",
      "  0.1       ]\n",
      "score:  2329888.60628\n",
      "params:  [ 0.01       -0.29909482  0.09776191  0.14324899  0.6275825   0.35        0.1       ]\n",
      "score:  2329823.30124\n",
      "params:  [ 0.72694814 -0.112335   -0.06723529  0.55417537  0.88266689  0.35\n",
      "  1.00151373]\n",
      "score:  1959793.73754\n",
      "params:  [  9.51624767e-01   2.68270368e-01  -1.00000000e-01   9.99900000e-01\n",
      "   1.00000000e-04   3.50000000e-01   1.00000000e-01]\n",
      "score:  3340864.61598\n",
      "params:  [ 0.45082869 -0.40587124  0.1         0.29064814  0.72487588  0.45\n",
      "  0.12387444]\n",
      "score:  2283752.16411\n",
      "params:  [ 0.72694797 -0.11233623 -0.06723675  0.55417614  0.88267007  0.35\n",
      "  1.0015229 ]\n",
      "score:  1959793.7374\n",
      "params:  [ 0.4508286  -0.40587517  0.1         0.2906521   0.72487581  0.45\n",
      "  0.12387359]\n",
      "score:  2283752.1641\n",
      "params:  [ 0.72694756 -0.11233655 -0.06723665  0.55417789  0.88267639  0.35\n",
      "  1.00153935]\n",
      "score:  1959793.73741\n",
      "params:  [  9.25508395e-01  -3.79474472e-01   1.00000000e-01   9.99900000e-01\n",
      "   1.00000000e-04   4.50000000e-01   1.00000000e-01]\n",
      "score:  3569646.68381\n",
      "params:  [ 0.29654831  0.04359991  0.08829891  0.5054387   0.71554552  0.35103482\n",
      "  0.10070379]\n",
      "score:  2606558.28325\n",
      "params:  [ 0.72694769 -0.11233673 -0.06723659  0.55417682  0.88267168  0.35\n",
      "  1.00152668]\n",
      "score:  1959793.73739\n",
      "params:  [  9.51624628e-01   2.68270621e-01  -1.00000000e-01   9.99900000e-01\n",
      "   1.00000000e-04   3.50000000e-01   1.00000000e-01]\n",
      "score:  3340864.61599\n",
      "params:  [ 0.87133156  0.45645663 -0.1         0.54423672  0.70461216  0.35        0.1       ]\n",
      "score:  2565455.00886\n",
      "params:  [ 0.72694846 -0.11233409 -0.06723436  0.5541745   0.88266119  0.35\n",
      "  1.00149574]\n",
      "score:  1959793.73824\n",
      "params:  [ 0.99       -0.56421458 -0.1         0.24633368  0.23391429  0.35        0.1       ]\n",
      "score:  4133808.65241\n",
      "params:  [  9.51624780e-01   2.68270436e-01  -1.00000000e-01   9.99900000e-01\n",
      "   1.00000000e-04   3.50000000e-01   1.00000000e-01]\n",
      "score:  3340864.61598\n",
      "params:  [ 0.99       -0.36034622  0.09680785  0.21137188  0.66313657  0.35141685\n",
      "  0.1       ]\n",
      "score:  2327131.26549\n",
      "params:  [ 0.72694768 -0.11233566 -0.06723589  0.55417705  0.8826729   0.35\n",
      "  1.00153125]\n",
      "score:  1959793.73736\n",
      "params:  [ 0.7269477  -0.11233617 -0.06723594  0.55417638  0.88266907  0.35\n",
      "  1.00152506]\n",
      "score:  1959793.7374\n",
      "params:  [ 0.87133189  0.45646089 -0.1         0.54423666  0.70461215  0.35        0.1       ]\n",
      "score:  2565455.00919\n",
      "params:  [ 0.01       -0.30086843  0.09795869  0.13922983  0.62306357  0.44992576\n",
      "  0.1       ]\n",
      "score:  2329888.59203\n",
      "params:  [ 0.45082907 -0.40587407  0.1         0.29065221  0.72487474  0.45\n",
      "  0.12387296]\n",
      "score:  2283752.16411\n",
      "params:  [ 0.01       -0.29909526  0.0977624   0.14325069  0.6275802   0.35        0.1       ]\n",
      "score:  2329823.30132\n",
      "params:  [ 0.01       -0.30042204  0.09709898  0.14253912  0.62814271  0.35242666\n",
      "  0.1       ]\n",
      "score:  2329854.30996\n",
      "params:  [  9.24758504e-01  -3.80562937e-01   1.00000000e-01   9.99900000e-01\n",
      "   1.00000000e-04   3.76789119e-01   1.00000000e-01]\n",
      "score:  3569696.45771\n",
      "params:  [ 0.45082941 -0.40587116  0.1         0.29064548  0.72487555  0.45\n",
      "  0.12387447]\n",
      "score:  2283752.1641\n",
      "params:  [ 0.01       -0.29909626  0.09776194  0.14324994  0.62758177  0.35        0.1       ]\n",
      "score:  2329823.30126\n",
      "params:  [ 0.99       -0.56421388 -0.1         0.2463337   0.23391425  0.35        0.1       ]\n",
      "score:  4133808.65243\n",
      "params:  [  9.25508595e-01  -3.79473353e-01   1.00000000e-01   9.99900000e-01\n",
      "   1.00000000e-04   4.50000000e-01   1.00000000e-01]\n",
      "score:  3569646.68379\n",
      "params:  [  9.51623683e-01   2.68266431e-01  -1.00000000e-01   9.99900000e-01\n",
      "   1.00000000e-04   3.50000000e-01   1.00000000e-01]\n",
      "score:  3340864.61607\n",
      "params:  [ 0.99       -0.35237391  0.09991159  0.1911519   0.66643957  0.35000591\n",
      "  0.1086191 ]\n",
      "score:  2329828.61561\n",
      "params:  [  1.15154621e-01   9.90000000e-01   1.00000000e-01   9.99900000e-01\n",
      "   1.00000000e-04   4.50000000e-01   1.00000000e-01]\n",
      "score:  6603018.16226\n",
      "params:  [ 0.45082928 -0.40587239  0.1         0.29064249  0.72487862  0.45\n",
      "  0.1238755 ]\n",
      "score:  2283752.16426\n",
      "params:  [  9.51624079e-01   2.68274275e-01  -1.00000000e-01   9.99900000e-01\n",
      "   1.00000000e-04   3.50000000e-01   1.00000000e-01]\n",
      "score:  3340864.61608\n",
      "params:  [ 0.01       -0.29924196  0.09780277  0.14334175  0.62750713  0.35015022\n",
      "  0.1       ]\n",
      "score:  2329823.65309\n",
      "params:  [  9.51624785e-01   2.68270383e-01  -1.00000000e-01   9.99900000e-01\n",
      "   1.00000000e-04   3.50000000e-01   1.00000000e-01]\n",
      "score:  3340864.61598\n",
      "params:  [ 0.72694726 -0.11233584 -0.06723568  0.55417889  0.88267831  0.35\n",
      "  1.00155145]\n",
      "score:  1959793.73747\n",
      "params:  [ 0.45082755 -0.40587409  0.1         0.29065698  0.72487678  0.45\n",
      "  0.12387394]\n",
      "score:  2283752.1642\n",
      "params:  [ 0.01       -0.29908948  0.09776272  0.14325157  0.627589    0.35        0.1       ]\n",
      "score:  2329823.30271\n",
      "params:  [ 0.45082528 -0.40587136  0.1         0.29067006  0.72487508  0.45\n",
      "  0.123873  ]\n",
      "score:  2283752.16496\n",
      "params:  [ 0.72685    -0.11245567 -0.06725274  0.55453619  0.88382484  0.35\n",
      "  1.00647795]\n",
      "score:  1959796.54006\n",
      "params:  [ 0.72694703 -0.11233603 -0.06723549  0.55417919  0.8826784   0.35\n",
      "  1.0015545 ]\n",
      "score:  1959793.73748\n",
      "params:  [ 0.72694834 -0.11233328 -0.06723594  0.55417625  0.88267108  0.35\n",
      "  1.00151141]\n",
      "score:  1959793.73836\n",
      "params:  [ 0.28368522  0.02852095 -0.02994082  0.39438023  0.99589004  0.4129229\n",
      "  0.50256992]\n",
      "score:  2009311.84236\n",
      "params:  [ 0.99       -0.36034027  0.09680636  0.21137279  0.66313943  0.35134769\n",
      "  0.1       ]\n",
      "score:  2327131.28148\n",
      "params:  [ 0.72694701 -0.11233651 -0.06723528  0.55417849  0.8826743   0.35\n",
      "  1.0015569 ]\n",
      "score:  1959793.73759\n",
      "params:  [ 0.45080306 -0.40588149  0.1         0.29071167  0.72489213  0.45\n",
      "  0.12389378]\n",
      "score:  2283752.17402\n",
      "params:  [ 0.45081831 -0.40587349  0.1         0.29060211  0.72490601  0.45\n",
      "  0.1239051 ]\n",
      "score:  2283752.17174\n",
      "params:  [ 0.87133126  0.45645762 -0.1         0.54423672  0.70461212  0.35        0.1       ]\n",
      "score:  2565455.00891\n",
      "params:  [ 0.87133128  0.45645765 -0.1         0.54423672  0.70461213  0.35        0.1       ]\n",
      "score:  2565455.0089\n",
      "params:  [  9.24650799e-01  -3.80723710e-01   1.00000000e-01   9.99900000e-01\n",
      "   1.00000000e-04   3.66167798e-01   1.00000000e-01]\n",
      "score:  3569704.36143\n",
      "params:  [  9.25508734e-01  -3.79473503e-01   1.00000000e-01   9.99900000e-01\n",
      "   1.00000000e-04   4.50000000e-01   1.00000000e-01]\n",
      "score:  3569646.68379\n",
      "params:  [  1.17585676e-01   9.90000000e-01  -1.00000000e-01   1.00000000e-04\n",
      "   9.99900000e-01   4.50000000e-01   1.00000000e-01]\n",
      "score:  4443966.74461\n",
      "params:  [ 0.01       -0.29909589  0.09776192  0.1432494   0.62758298  0.35        0.1       ]\n",
      "score:  2329823.30124\n",
      "params:  [ 0.01       -0.29910663  0.09776402  0.14325518  0.62758334  0.35        0.1       ]\n",
      "score:  2329823.30171\n",
      "params:  [ 0.99       0.99       0.1        0.4328831  0.9999     0.35       0.1      ]\n",
      "score:  5947904.98273\n",
      "params:  [ 0.01       -0.31568868  0.09991864  0.13026655  0.63717415  0.44987961\n",
      "  0.1037234 ]\n",
      "score:  2333299.55092\n",
      "params:  [ 0.45082884 -0.40587119  0.1         0.29064344  0.72487703  0.45\n",
      "  0.1238753 ]\n",
      "score:  2283752.16414\n",
      "params:  [ 0.77094509 -0.19343004 -0.1         0.51240421  0.51963022  0.35        0.1       ]\n",
      "score:  2724984.13904\n",
      "params:  [ 0.45091198 -0.40540197  0.1         0.28971005  0.72490712  0.45\n",
      "  0.12404832]\n",
      "score:  2283752.41924\n",
      "params:  [ 0.45082957 -0.40586986  0.1         0.2906469   0.7248746   0.45\n",
      "  0.12387328]\n",
      "score:  2283752.16415\n",
      "params:  [ 0.21418992  0.03569685 -0.00192143  0.54019444  0.74981337  0.39970552\n",
      "  0.94393925]\n",
      "score:  573.069201343\n",
      "params:  [ 0.21418993  0.03569685 -0.00192143  0.54019443  0.74981334  0.3997055\n",
      "  0.94393893]\n",
      "score:  573.069202378\n",
      "params:  [ 0.01       -0.29909411  0.09776195  0.14324878  0.62758219  0.35        0.1       ]\n",
      "score:  2329823.30124\n",
      "params:  [ 0.45082854 -0.40587629  0.1         0.29065879  0.72487436  0.45\n",
      "  0.12387187]\n",
      "score:  2283752.16415\n",
      "params:  [  1.15154624e-01   9.90000000e-01   1.00000000e-01   9.99900000e-01\n",
      "   1.00000000e-04   4.50000000e-01   1.00000000e-01]\n",
      "score:  6603018.16226\n",
      "params:  [  9.51624767e-01   2.68270491e-01  -1.00000000e-01   9.99900000e-01\n",
      "   1.00000000e-04   3.50000000e-01   1.00000000e-01]\n",
      "score:  3340864.61598\n",
      "params:  [ 0.21418992  0.03569687 -0.00192142  0.54019443  0.74981336  0.39970552\n",
      "  0.94393902]\n",
      "score:  573.069201823\n",
      "params:  [  9.51624787e-01   2.68270337e-01  -1.00000000e-01   9.99900000e-01\n",
      "   1.00000000e-04   3.50000000e-01   1.00000000e-01]\n",
      "score:  3340864.61598\n",
      "params:  [ 0.21418992  0.03569686 -0.00192143  0.54019444  0.74981337  0.39970553\n",
      "  0.94393925]\n",
      "score:  573.069201314\n",
      "params:  [  9.25508734e-01  -3.79473496e-01   1.00000000e-01   9.99900000e-01\n",
      "   1.00000000e-04   4.50000000e-01   1.00000000e-01]\n",
      "score:  3569646.68379\n",
      "params:  [ 0.72694698 -0.11233601 -0.0672365   0.55418053  0.88268644  0.35\n",
      "  1.00157997]\n",
      "score:  1959793.73775\n",
      "params:  [  9.25506032e-01  -3.79468945e-01   1.00000000e-01   9.99900000e-01\n",
      "   1.00000000e-04   4.49938143e-01   1.00000000e-01]\n",
      "score:  3569646.72265\n",
      "params:  [ 0.99       -0.36031454  0.09680076  0.21143405  0.66318218  0.35017886\n",
      "  0.1       ]\n",
      "score:  2327131.54907\n",
      "params:  [ 0.45083463 -0.40585226  0.1         0.29061616  0.7248722   0.45\n",
      "  0.12387599]\n",
      "score:  2283752.16474\n",
      "params:  [ 0.01       -0.29908455  0.09776136  0.14323675  0.62760212  0.35        0.1       ]\n",
      "score:  2329823.30687\n",
      "params:  [ 0.99       -0.36158116  0.09708995  0.20851454  0.66109848  0.40640846\n",
      "  0.1       ]\n",
      "score:  2327113.93109\n",
      "params:  [ 0.01       -0.29909425  0.09776142  0.14324888  0.62758217  0.35        0.1       ]\n",
      "score:  2329823.30125\n",
      "params:  [ 0.99       -0.36255796  0.09731854  0.20619903  0.65949734  0.45        0.1       ]\n",
      "score:  2327093.82327\n",
      "params:  [ 0.99       -0.36031502  0.09680178  0.21143913  0.66318607  0.35010298\n",
      "  0.1       ]\n",
      "score:  2327131.5664\n",
      "params:  [ 0.21418993  0.03569687 -0.00192143  0.54019443  0.74981336  0.39970554\n",
      "  0.94393907]\n",
      "score:  573.069201733\n",
      "params:  [  9.51624947e-01   2.68271508e-01  -1.00000000e-01   9.99900000e-01\n",
      "   1.00000000e-04   3.50000000e-01   1.00000000e-01]\n",
      "score:  3340864.61599\n",
      "params:  [ 0.14562921  0.99       -0.1         0.9999      0.07633779  0.35        0.1       ]\n",
      "score:  3708336.10009\n",
      "params:  [ 0.99       -0.36129285  0.09701688  0.20922311  0.66161     0.39273821\n",
      "  0.1       ]\n",
      "score:  2327119.09689\n",
      "params:  [ 0.99       -0.36031431  0.09680022  0.21144351  0.66318946  0.35000577\n",
      "  0.1       ]\n",
      "score:  2327131.58836\n",
      "params:  [ 0.21418992  0.03569686 -0.00192142  0.54019444  0.7498134   0.39970557\n",
      "  0.94393966]\n",
      "score:  573.06920061\n",
      "params:  [ 0.01       -0.3008672   0.09796106  0.13922928  0.62306451  0.44991474\n",
      "  0.1       ]\n",
      "score:  2329888.58543\n",
      "params:  [ 0.0140285  -0.26528629  0.09956209  0.11825033  0.60626103  0.44999307\n",
      "  0.10389809]\n",
      "score:  2333671.41204\n",
      "params:  [ 0.01       -0.30082999  0.09795518  0.13929884  0.62314423  0.4481246\n",
      "  0.1       ]\n",
      "score:  2329887.5069\n",
      "params:  [ 0.72694764 -0.11233666 -0.06723659  0.55417664  0.88267028  0.35\n",
      "  1.00153156]\n",
      "score:  1959793.73744\n",
      "params:  [  1.00000000e-02  -9.90000000e-01   1.00000000e-01   3.80848925e-01\n",
      "   1.00000000e-04   4.50000000e-01   1.00000000e-01]\n",
      "score:  4360993.21382\n",
      "params:  [ 0.27437029 -0.16042534 -0.1         0.54733995  0.62226352  0.35        0.1       ]\n",
      "score:  3252262.07637\n",
      "params:  [ 0.01       -0.25247995  0.1         0.09442717  0.6201252   0.43977704\n",
      "  0.11597093]\n",
      "score:  2336421.55135\n",
      "params:  [ 0.99       -0.56421478 -0.1         0.24633361  0.23391437  0.35        0.1       ]\n",
      "score:  4133808.65244\n",
      "params:  [ 0.01       -0.29909525  0.09776189  0.14324922  0.62758257  0.35        0.1       ]\n",
      "score:  2329823.30124\n"
     ]
    }
   ],
   "source": [
    "guessN = np.array([0.75, -0.2, 0, 0.53964, 0.7491666666666666, 0.4, 0.3333])\n",
    "#guess = np.array([4.48603184, -5.75616093e-02, 0.0115, 988491, 214475, 830, 1000])\n",
    "min_score = 100000000000000\n",
    "num_iter = 100\n",
    "params = guessN\n",
    "for i in range(0, num_iter):\n",
    "    start = random_start(params)\n",
    "    result = call(start,xyz_s,xy_t)\n",
    "    print \"params: \", result.x\n",
    "    print \"score: \", result.fun\n",
    "    if (result.fun < min_score):# and (result.x[3] < 980491):\n",
    "        min_score = result.fun\n",
    "        params = result.x"
   ]
  },
  {
   "cell_type": "code",
   "execution_count": 20,
   "metadata": {
    "collapsed": false
   },
   "outputs": [
    {
     "name": "stdout",
     "output_type": "stream",
     "text": [
      "[ 0.21418992  0.03569686 -0.00192142  0.54019444  0.7498134   0.39970557\n",
      "  0.94393966] 573.06920061\n"
     ]
    }
   ],
   "source": [
    "print params, min_score"
   ]
  },
  {
   "cell_type": "code",
   "execution_count": 21,
   "metadata": {
    "collapsed": false
   },
   "outputs": [],
   "source": [
    "def params_orig(params):\n",
    "    params_orig = [\n",
    "        params[0]*2*np.pi,\n",
    "        params[1]*0.5*np.pi,\n",
    "        params[2]*2*np.pi,\n",
    "        (params[3]*25000)+975000,\n",
    "        (params[4]*30000) + 192000,\n",
    "        params[5]*2000,\n",
    "        params[6]*3000\n",
    "\n",
    "    ]\n",
    "    return params_orig"
   ]
  },
  {
   "cell_type": "markdown",
   "metadata": {},
   "source": [
    "## BEST PARAMS SO FAR"
   ]
  },
  {
   "cell_type": "code",
   "execution_count": 23,
   "metadata": {
    "collapsed": false
   },
   "outputs": [
    {
     "data": {
      "text/plain": [
       "[1.345794960057916,\n",
       " 0.056072502823257861,\n",
       " -0.012072660480989369,\n",
       " 988504.86108153069,\n",
       " 214494.40203705645,\n",
       " 799.41113612974959,\n",
       " 2831.8189679364423]"
      ]
     },
     "execution_count": 23,
     "metadata": {},
     "output_type": "execute_result"
    }
   ],
   "source": [
    "params_orig(params)"
   ]
  },
  {
   "cell_type": "code",
   "execution_count": 24,
   "metadata": {
    "collapsed": false
   },
   "outputs": [
    {
     "name": "stdout",
     "output_type": "stream",
     "text": [
      "Populating the interactive namespace from numpy and matplotlib\n"
     ]
    }
   ],
   "source": [
    "import matplotlib.pyplot as pl\n",
    "%pylab inline"
   ]
  },
  {
   "cell_type": "code",
   "execution_count": 25,
   "metadata": {
    "collapsed": false
   },
   "outputs": [
    {
     "name": "stdout",
     "output_type": "stream",
     "text": [
      "1681 -1004\n"
     ]
    }
   ],
   "source": [
    "print fiducials[1,0]+1918/2, -(fiducials[1,1]+2560/2)"
   ]
  },
  {
   "cell_type": "code",
   "execution_count": 31,
   "metadata": {
    "collapsed": false
   },
   "outputs": [],
   "source": [
    "proj_fid = colin(params_orig(params), lidar_fiducials)"
   ]
  },
  {
   "cell_type": "code",
   "execution_count": 32,
   "metadata": {
    "collapsed": false,
    "scrolled": true
   },
   "outputs": [
    {
     "name": "stdout",
     "output_type": "stream",
     "text": [
      "1673 -1000\n"
     ]
    }
   ],
   "source": [
    "print (proj_fid[1, 0]+1918/2).astype(int), -(proj_fid[1,1]+2560/2).astype(int)"
   ]
  },
  {
   "cell_type": "code",
   "execution_count": 33,
   "metadata": {
    "collapsed": false
   },
   "outputs": [
    {
     "data": {
      "text/plain": [
       "(-2560, 0)"
      ]
     },
     "execution_count": 33,
     "metadata": {},
     "output_type": "execute_result"
    },
    {
     "data": {
      "image/png": "[encoded data removed]",
      "text/plain": [
       "<matplotlib.figure.Figure at 0xa1f5c50>"
      ]
     },
     "metadata": {},
     "output_type": "display_data"
    }
   ],
   "source": [
    "s=3\n",
    "pl.figure(figsize=(s*1.918,s*2.560))\n",
    "proj_fid = colin(params_orig(params), lidar_fiducials)\n",
    "pl.scatter(proj_fid[:, 0]+1918/2, -(proj_fid[:,1]+2560/2))\n",
    "pl.scatter(fiducials[:,0]+1918/2, -(fiducials[:,1]+2560/2))\n",
    "pl.xlim(0,1918)\n",
    "pl.ylim(-2560,0)"
   ]
  },
  {
   "cell_type": "markdown",
   "metadata": {},
   "source": [
    "### Testing function project"
   ]
  },
  {
   "cell_type": "code",
   "execution_count": 34,
   "metadata": {
    "collapsed": true
   },
   "outputs": [],
   "source": [
    "from project_lidar import in_picture\n",
    "from project_lidar import distance\n",
    "from PIL import Image"
   ]
  },
  {
   "cell_type": "code",
   "execution_count": 35,
   "metadata": {
    "collapsed": false
   },
   "outputs": [
    {
     "data": {
      "text/plain": [
       "1141969.4108800292"
      ]
     },
     "execution_count": 35,
     "metadata": {},
     "output_type": "execute_result"
    }
   ],
   "source": [
    "(980648 - 978979) + (199131.861 - 198575.07369)*2048 "
   ]
  },
  {
   "cell_type": "code",
   "execution_count": 40,
   "metadata": {
    "collapsed": false
   },
   "outputs": [
    {
     "data": {
      "text/plain": [
       "2"
      ]
     },
     "execution_count": 40,
     "metadata": {},
     "output_type": "execute_result"
    }
   ],
   "source": [
    "#980648.447, 199131.861,1380.707975 WTC\n",
    "len(np.where(dat[:, 2]>1000)[0])"
   ]
  },
  {
   "cell_type": "code",
   "execution_count": 64,
   "metadata": {
    "collapsed": false
   },
   "outputs": [
    {
     "name": "stdout",
     "output_type": "stream",
     "text": [
      "dat:\n",
      "[[  9.88328741e+05   2.11962778e+05   1.02062384e+03]\n",
      " [  9.80648447e+05   1.99131861e+05   1.38070798e+03]\n",
      " [  9.87656616e+05   2.11766233e+05   4.93890000e+02]\n",
      " [  9.83564980e+05   1.99358775e+05   5.91406796e+02]\n",
      " [  9.87342468e+05   2.12511054e+05   3.80690000e+02]\n",
      " [  9.88596086e+05   2.11789785e+05   2.55310000e+02]\n",
      " [  9.88287232e+05   2.13228734e+05   4.88716947e+02]\n",
      " [  9.84574798e+05   2.04219630e+05   3.03263412e+02]\n",
      " [  9.87140310e+05   2.09161591e+05   3.24317488e+02]\n",
      " [  9.86252724e+05   2.05516404e+05   3.65468789e+02]]\n",
      "pixel_xy:\n",
      "[[-445.5914584  -416.82219034]\n",
      " [ 714.59314992 -279.41435296]\n",
      " [ 222.223342    128.27739331]\n",
      " [ 257.91370181 -139.56533359]\n",
      " [ 909.31659387  361.00325947]\n",
      " [-752.35976065  428.3255714 ]\n",
      " [-149.07735807  521.04048917]\n",
      " [ 403.15677001  -49.31639646]\n",
      " [  75.66323992   70.20045468]\n",
      " [  60.70025305  -41.79430601]]\n",
      "x and y:\n",
      "[ 514 1673 1181 1216 1868  207  810 1362 1034 1019] [ 864 1001 1408 1141 1641 1708 1801 1231 1350 1239]\n",
      "is_in_picture:\n",
      "[ True  True  True  True  True  True  True  True  True  True]\n",
      "index:\n",
      "[0 1 2 3 4 5 6 7 8 9]\n",
      "npix =  10\n",
      "n:\n",
      "[  2547.36601367  17264.66956969   2873.28543269  15922.71637347\n",
      "   2336.69734924   2760.31182101   1321.29061009  11011.92529953\n",
      "   5525.08707493   9266.33024169]\n",
      "x:\n",
      "[ 514 1673 1181 1216 1868  207  810 1362 1034 1019]\n",
      "y:\n",
      "[ 864 1001 1408 1141 1641 1708 1801 1231 1350 1239]\n",
      "dat:\n",
      "[[  9.88328741e+05   2.11962778e+05   1.02062384e+03]\n",
      " [  9.80648447e+05   1.99131861e+05   1.38070798e+03]\n",
      " [  9.87656616e+05   2.11766233e+05   4.93890000e+02]\n",
      " [  9.83564980e+05   1.99358775e+05   5.91406796e+02]\n",
      " [  9.87342468e+05   2.12511054e+05   3.80690000e+02]\n",
      " [  9.88596086e+05   2.11789785e+05   2.55310000e+02]\n",
      " [  9.88287232e+05   2.13228734e+05   4.88716947e+02]\n",
      " [  9.84574798e+05   2.04219630e+05   3.03263412e+02]\n",
      " [  9.87140310e+05   2.09161591e+05   3.24317488e+02]\n",
      " [  9.86252724e+05   2.05516404e+05   3.65468789e+02]]\n"
     ]
    }
   ],
   "source": [
    "#def project(filename, params):  \n",
    "\n",
    "# Finds the desired projection\n",
    "\n",
    "omega, phi, kappa, xs, ys, zs, f = params_orig(params)\n",
    "image_dims = [1918, 2560]\n",
    "# image_dims_reversed = np.array([image_dims[1], \\\n",
    "#     image_dims[0]])\n",
    "\n",
    "# Rearrange\n",
    "#print \"working on: \", filename\n",
    "dat = lidar_fiducials\n",
    "#dat = np.load('data_npy_test/x-978979.241501_y-200623.073690.npy').copy()\n",
    "print \"dat:\\n\", dat[:10]\n",
    "\n",
    "\n",
    "# Multiply by -1 because it apears as inverse; use orient?\n",
    "pixel_xy = 1.0*colin(params_orig(params), dat)\n",
    "print \"pixel_xy:\\n\", pixel_xy[:10]\n",
    "\n",
    "# un-center pixel (x,y)\n",
    "x = image_dims[0]/2 + pixel_xy[:,0].astype(int)\n",
    "y = image_dims[1]/2 + pixel_xy[:,1].astype(int)\n",
    "print \"x and y:\\n\", x[:10], y[:10]\n",
    "\n",
    "is_in_picture = in_picture(x,y,image_dims)\n",
    "print \"is_in_picture:\\n\", is_in_picture[:10]\n",
    "\n",
    "index = np.arange(is_in_picture.size)[is_in_picture>0]\n",
    "print \"index:\\n\", index[:10]\n",
    "print \"npix = \", index.size\n",
    "\n",
    "# distgrid = np.ones(image_dims_reversed)*(100000.0)\n",
    "# xgrid =  -1.*np.ones(image_dims_reversed)\n",
    "# ygrid = -1.*np.ones(image_dims_reversed)\n",
    "\n",
    "distgrid = np.ones(image_dims)*(100000.0)\n",
    "xgrid =  -1.*np.ones(image_dims)\n",
    "ygrid = -1.*np.ones(image_dims)\n",
    "\n",
    "if index.size==0:\n",
    "    print \"no points, returning...\"\n",
    "    #return [distgrid, xgrid, ygrid]\n",
    "\n",
    "n   = distance(xs,ys,zs, dat[index,0],dat[index,1],dat[index,2]) \n",
    "x   = x[index]\n",
    "y   = y[index]\n",
    "dat = dat[index]\n",
    "\n",
    "print \"n:\\n\", n\n",
    "print \"x:\\n\", x\n",
    "print \"y:\\n\", y\n",
    "print \"dat:\\n\", dat\n",
    "\n",
    "# Add each point to the arrays, given it is visibile (vis[i] == 1)\n",
    "# And it is closer to the camera than the current value stored in \n",
    "# the corresponding pixel of the distance array\n",
    "\n",
    "nx = distgrid.shape[1]-1\n",
    "ny = distgrid.shape[0]-1\n",
    "\n",
    "for ii in range(index.size):\n",
    "    if n[ii]<distgrid[ny-y[ii],nx-x[ii]] and n[ii]>50:\n",
    "        distgrid[ny-y[ii],nx-x[ii]] = n[ii]\n",
    "        xgrid[ny-y[ii],nx-x[ii]] = dat[ii,0]\n",
    "        ygrid[ny-y[ii],nx-x[ii]] = dat[ii,1]\n",
    "\n",
    "# print \"Done with: \",filename\n",
    "# return [distgrid, xgrid, ygrid]\n"
   ]
  },
  {
   "cell_type": "code",
   "execution_count": 52,
   "metadata": {
    "collapsed": false,
    "scrolled": true
   },
   "outputs": [
    {
     "name": "stdout",
     "output_type": "stream",
     "text": [
      "(array([ 758,  851,  918, 1151, 1209, 1320, 1328, 1418, 1558, 1695], dtype=int64), array([1107, 1710,   49,  736,  883,  898,  555,  701,  244, 1403], dtype=int64))\n"
     ]
    }
   ],
   "source": [
    "print np.where(distgrid < 100000)"
   ]
  },
  {
   "cell_type": "code",
   "execution_count": 53,
   "metadata": {
    "collapsed": false
   },
   "outputs": [
    {
     "data": {
      "text/plain": [
       "10"
      ]
     },
     "execution_count": 53,
     "metadata": {},
     "output_type": "execute_result"
    }
   ],
   "source": [
    "len(np.where(distgrid < 100000)[0])"
   ]
  },
  {
   "cell_type": "code",
   "execution_count": 65,
   "metadata": {
    "collapsed": false
   },
   "outputs": [
    {
     "name": "stdout",
     "output_type": "stream",
     "text": [
      "nx:  1917\n",
      "ny:  2559\n"
     ]
    }
   ],
   "source": [
    "nx = distgrid.shape[1]-1\n",
    "ny = distgrid.shape[0]-1\n",
    "print \"nx: \", nx\n",
    "print \"ny: \", ny"
   ]
  },
  {
   "cell_type": "code",
   "execution_count": 56,
   "metadata": {
    "collapsed": false
   },
   "outputs": [
    {
     "data": {
      "text/plain": [
       "False"
      ]
     },
     "execution_count": 56,
     "metadata": {},
     "output_type": "execute_result"
    }
   ],
   "source": [
    "ii=0\n",
    "n[ii]<distgrid[ny-y[ii],nx-x[ii]]# and n[ii]>50"
   ]
  },
  {
   "cell_type": "code",
   "execution_count": 58,
   "metadata": {
    "collapsed": false
   },
   "outputs": [
    {
     "data": {
      "text/plain": [
       "2547.366013667679"
      ]
     },
     "execution_count": 58,
     "metadata": {},
     "output_type": "execute_result"
    }
   ],
   "source": [
    "n[ii]"
   ]
  },
  {
   "cell_type": "code",
   "execution_count": 62,
   "metadata": {
    "collapsed": false
   },
   "outputs": [
    {
     "data": {
      "text/plain": [
       "864"
      ]
     },
     "execution_count": 62,
     "metadata": {},
     "output_type": "execute_result"
    }
   ],
   "source": [
    "y[ii]"
   ]
  },
  {
   "cell_type": "code",
   "execution_count": 63,
   "metadata": {
    "collapsed": false
   },
   "outputs": [
    {
     "data": {
      "text/plain": [
       "514"
      ]
     },
     "execution_count": 63,
     "metadata": {},
     "output_type": "execute_result"
    }
   ],
   "source": [
    "x[ii]"
   ]
  },
  {
   "cell_type": "code",
   "execution_count": 61,
   "metadata": {
    "collapsed": false
   },
   "outputs": [
    {
     "data": {
      "text/plain": [
       "2547.366013667679"
      ]
     },
     "execution_count": 61,
     "metadata": {},
     "output_type": "execute_result"
    }
   ],
   "source": [
    "distgrid[ny-y[ii],nx-x[ii]]"
   ]
  },
  {
   "cell_type": "code",
   "execution_count": 57,
   "metadata": {
    "collapsed": false
   },
   "outputs": [
    {
     "data": {
      "text/plain": [
       "(2560L, 1918L)"
      ]
     },
     "execution_count": 57,
     "metadata": {},
     "output_type": "execute_result"
    }
   ],
   "source": [
    "distgrid.shape"
   ]
  },
  {
   "cell_type": "code",
   "execution_count": 141,
   "metadata": {
    "collapsed": false
   },
   "outputs": [
    {
     "data": {
      "text/plain": [
       "(2560L, 1918L, 3L)"
      ]
     },
     "execution_count": 141,
     "metadata": {},
     "output_type": "execute_result"
    }
   ],
   "source": [
    "imarray.shape"
   ]
  },
  {
   "cell_type": "code",
   "execution_count": 39,
   "metadata": {
    "collapsed": false
   },
   "outputs": [
    {
     "data": {
      "text/plain": [
       "<matplotlib.colorbar.Colorbar at 0xcd1f278>"
      ]
     },
     "execution_count": 39,
     "metadata": {},
     "output_type": "execute_result"
    },
    {
     "data": {
      "image/png": "[encoded data removed]",
      "text/plain": [
       "<matplotlib.figure.Figure at 0xa705630>"
      ]
     },
     "metadata": {},
     "output_type": "display_data"
    }
   ],
   "source": [
    "pl.figure(figsize=(10,10))\n",
    "\n",
    "im = Image.open('./bof_left.png')\n",
    "imarray = np.array(im)\n",
    "# pl.imshow(imarray[1250:1300, 950:970, :])\n",
    "# pl.imshow(distgrid[1250:1300, 950:970], alpha=0.5)\n",
    "pl.imshow(imarray)\n",
    "pl.imshow(distgrid, alpha=1)\n",
    "pl.colorbar()\n"
   ]
  }
 ],
 "metadata": {
  "kernelspec": {
   "display_name": "Python 2",
   "language": "python",
   "name": "python2"
  },
  "language_info": {
   "codemirror_mode": {
    "name": "ipython",
    "version": 2
   },
   "file_extension": ".py",
   "mimetype": "text/x-python",
   "name": "python",
   "nbconvert_exporter": "python",
   "pygments_lexer": "ipython2",
   "version": "2.7.13"
  }
 },
 "nbformat": 4,
 "nbformat_minor": 2
}
