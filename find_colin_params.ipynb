{
 "cells": [
  {
   "cell_type": "code",
   "execution_count": 1,
   "metadata": {
    "collapsed": true
   },
   "outputs": [],
   "source": [
    "from scipy.optimize import minimize\n",
    "import numpy as np\n",
    "from random import gauss\n",
    "import scipy as sp"
   ]
  },
  {
   "cell_type": "code",
   "execution_count": 48,
   "metadata": {
    "collapsed": true
   },
   "outputs": [],
   "source": [
    "def center_image_fiducials(dimensions,fiducials):\n",
    "\n",
    "    ''' Centers image fiducial points using image dimensions  '''\n",
    "\n",
    "    for i in range(np.shape(fiducials)[0]):\n",
    "        fiducials[i,0] = fiducials[i,0] - (dimensions[0] / 2)\n",
    "        fiducials[i,1] = fiducials[i,1] - (dimensions[1] / 2)\n",
    "\n",
    "    return fiducials"
   ]
  },
  {
   "cell_type": "code",
   "execution_count": 3,
   "metadata": {
    "collapsed": true
   },
   "outputs": [],
   "source": [
    "def colin(params, xyz_a):\n",
    "\n",
    "\t# Unwrap params\n",
    "\tkappa, phi, omega, xs, ys, zs, f = params\n",
    "\n",
    "\tomega = float(omega)\n",
    "\tphi = float(phi) + 0.5*np.pi\n",
    "\tkappa = float(kappa)\n",
    "\txs = float(xs)\n",
    "\tys = float(ys)\n",
    "\tzs = float(zs)\n",
    "\tf = float(f)\n",
    "\n",
    "\t# -- utils\n",
    "\tco = np.cos(omega)\n",
    "\tso = np.sin(omega)\n",
    "\tcp = np.cos(phi)\n",
    "\tsp = np.sin(phi)\n",
    "\tck = np.cos(kappa)\n",
    "\tsk = np.sin(kappa)\n",
    "\n",
    "\ta1 =  cp*ck+sp*so*sk\n",
    "\tb1 =  cp*sk+sp*so*ck\n",
    "\tc1 =  sp*co\n",
    "\ta2 = -co*sk\n",
    "\tb2 =  co*ck\n",
    "\tc2 =  so\n",
    "\ta3 =  sp*ck+cp*so*sk\n",
    "\tb3 =  sp*sk-cp*so*ck\n",
    "\tc3 =  cp*co\n",
    "\n",
    "\tynum  = a1*(xyz_a[:,0]-xs)+b1*(xyz_a[:,1]-ys)+c1*(xyz_a[:,2]-zs)\n",
    "\txnum  = a2*(xyz_a[:,0]-xs)+b2*(xyz_a[:,1]-ys)+c2*(xyz_a[:,2]-zs)\n",
    "\tdenom = a3*(xyz_a[:,0]-xs)+b3*(xyz_a[:,1]-ys)+c3*(xyz_a[:,2]-zs)\n",
    "\n",
    "\txx = -f*xnum/denom\n",
    "\tyy = f*ynum/denom\n",
    "\n",
    "\treturn np.vstack([xx,yy]).T\n",
    "\n",
    "        '''\t\n",
    "\t# Get number of fiducial points\n",
    "\tN = int(xyz_a.shape[0])\n",
    "\n",
    "\t# Initialize the result vector\n",
    "\tcolin_xy = np.zeros((N,2))\n",
    "\n",
    "\t# Define c code that will evaluate the functions\n",
    "\tcode = \"\"\"\n",
    "\n",
    "\t\tdouble sinp = sinf(phi);\n",
    "\t\tdouble cosp = cosf(phi);\n",
    "\t\tdouble sino = sinf(omega);\n",
    "\t\tdouble coso = cosf(omega);\n",
    "\t\tdouble sink = sinf(kappa);\n",
    "\t\tdouble cosk = cosf(kappa);\n",
    "\n",
    "\t\tdouble a1 = cosp*cosk;\n",
    "\t\tdouble b1 = coso*sink + sino*sinp*cosk;\n",
    "\t\tdouble c1 = sino*sink - coso*sinp*cosk;\n",
    "\t\tdouble a2 = -1 * cosp*sink;\n",
    "\t\tdouble b2 = coso*cosk - sino*sinp*sink;\n",
    "\t\tdouble c2 = sino*cosk + coso*sinp*sink;\n",
    "\t\tdouble a3 = sinp;\n",
    "\t\tdouble b3 = -1*sino*cosp;\n",
    "\t\tdouble c3 = cosp*coso;\n",
    "\n",
    "\t\tint j;\n",
    "\t\tint k;\n",
    "\t\tdouble denom;\n",
    "\n",
    "\t\tfor(int i = 0; i < N; i++)\n",
    "\t\t{\n",
    "\t\t\tj = i*2;\n",
    "\t\t\tk = i*3;\n",
    "\t\t\tdenom = (a3*(xyz_a[k]-xs) + b3*(xyz_a[(k+1)]-ys) + c3*(xyz_a[(k+2)]-zs));\n",
    "\n",
    "\t\t\tcolin_xy[j] = -1.0*f*(a1*(xyz_a[k]-xs) + b1*(xyz_a[(k+1)]-ys) + c1*(xyz_a[(k+2)]-zs))/denom;\n",
    "\t\t\tcolin_xy[(j+1)] = -1.0*f*(a2*(xyz_a[k]-xs) + b2*(xyz_a[(k+1)]-ys) + c2*(xyz_a[(k+2)]-zs))/denom;\n",
    "\t\t}\n",
    "\t\treturn_val = 1;\n",
    "\t\"\"\"\n",
    "\n",
    "\t# Use scipy.weave.inline to run the c code\n",
    "\tres = inline(code, ['colin_xy', 'omega', 'phi', 'kappa', 'xs', \\\n",
    "\t\t'ys', 'zs', 'f', 'xyz_a', 'N'], headers = ['<math.h>'], \\\n",
    "\t\tcompiler = 'gcc')\n",
    "\t\n",
    "\t# Return the pixel (x,y) positions\n",
    "\treturn colin_xy\n",
    "\t'''"
   ]
  },
  {
   "cell_type": "code",
   "execution_count": 21,
   "metadata": {
    "collapsed": false
   },
   "outputs": [],
   "source": [
    "def colinN(params, xyz_a):\n",
    "\n",
    "\t# Unwrap params\n",
    "\tkappa, phi, omega, xs, ys, zs, f = params\n",
    "\n",
    "\tomega = float(omega)*2*np.pi\n",
    "\tphi = (float(phi)*0.5*np.pi)+0.5*np.pi\n",
    "\tkappa = float(kappa)*2*np.pi\n",
    "\txs = (float(xs)*25000)+975000\n",
    "\tys = (float(ys)*30000) + 192000\n",
    "\tzs = float(zs)*2000\n",
    "\tf = float(f)*3000\n",
    "\n",
    "\t# -- utils\n",
    "\tco = np.cos(omega)\n",
    "\tso = np.sin(omega)\n",
    "\tcp = np.cos(phi)\n",
    "\tsp = np.sin(phi)\n",
    "\tck = np.cos(kappa)\n",
    "\tsk = np.sin(kappa)\n",
    "\n",
    "\ta1 =  cp*ck+sp*so*sk\n",
    "\tb1 =  cp*sk+sp*so*ck\n",
    "\tc1 =  sp*co\n",
    "\ta2 = -co*sk\n",
    "\tb2 =  co*ck\n",
    "\tc2 =  so\n",
    "\ta3 =  sp*ck+cp*so*sk\n",
    "\tb3 =  sp*sk-cp*so*ck\n",
    "\tc3 =  cp*co\n",
    "\n",
    "\tynum  = a1*(xyz_a[:,0]-xs)+b1*(xyz_a[:,1]-ys)+c1*(xyz_a[:,2]-zs)\n",
    "\txnum  = a2*(xyz_a[:,0]-xs)+b2*(xyz_a[:,1]-ys)+c2*(xyz_a[:,2]-zs)\n",
    "\tdenom = a3*(xyz_a[:,0]-xs)+b3*(xyz_a[:,1]-ys)+c3*(xyz_a[:,2]-zs)\n",
    "\n",
    "\txx = -f*xnum/denom\n",
    "\tyy = f*ynum/denom\n",
    "\n",
    "\treturn np.vstack([xx,yy]).T\n",
    "\n",
    "        '''\t\n",
    "\t# Get number of fiducial points\n",
    "\tN = int(xyz_a.shape[0])\n",
    "\n",
    "\t# Initialize the result vector\n",
    "\tcolin_xy = np.zeros((N,2))\n",
    "\n",
    "\t# Define c code that will evaluate the functions\n",
    "\tcode = \"\"\"\n",
    "\n",
    "\t\tdouble sinp = sinf(phi);\n",
    "\t\tdouble cosp = cosf(phi);\n",
    "\t\tdouble sino = sinf(omega);\n",
    "\t\tdouble coso = cosf(omega);\n",
    "\t\tdouble sink = sinf(kappa);\n",
    "\t\tdouble cosk = cosf(kappa);\n",
    "\n",
    "\t\tdouble a1 = cosp*cosk;\n",
    "\t\tdouble b1 = coso*sink + sino*sinp*cosk;\n",
    "\t\tdouble c1 = sino*sink - coso*sinp*cosk;\n",
    "\t\tdouble a2 = -1 * cosp*sink;\n",
    "\t\tdouble b2 = coso*cosk - sino*sinp*sink;\n",
    "\t\tdouble c2 = sino*cosk + coso*sinp*sink;\n",
    "\t\tdouble a3 = sinp;\n",
    "\t\tdouble b3 = -1*sino*cosp;\n",
    "\t\tdouble c3 = cosp*coso;\n",
    "\n",
    "\t\tint j;\n",
    "\t\tint k;\n",
    "\t\tdouble denom;\n",
    "\n",
    "\t\tfor(int i = 0; i < N; i++)\n",
    "\t\t{\n",
    "\t\t\tj = i*2;\n",
    "\t\t\tk = i*3;\n",
    "\t\t\tdenom = (a3*(xyz_a[k]-xs) + b3*(xyz_a[(k+1)]-ys) + c3*(xyz_a[(k+2)]-zs));\n",
    "\n",
    "\t\t\tcolin_xy[j] = -1.0*f*(a1*(xyz_a[k]-xs) + b1*(xyz_a[(k+1)]-ys) + c1*(xyz_a[(k+2)]-zs))/denom;\n",
    "\t\t\tcolin_xy[(j+1)] = -1.0*f*(a2*(xyz_a[k]-xs) + b2*(xyz_a[(k+1)]-ys) + c2*(xyz_a[(k+2)]-zs))/denom;\n",
    "\t\t}\n",
    "\t\treturn_val = 1;\n",
    "\t\"\"\"\n",
    "\n",
    "\t# Use scipy.weave.inline to run the c code\n",
    "\tres = inline(code, ['colin_xy', 'omega', 'phi', 'kappa', 'xs', \\\n",
    "\t\t'ys', 'zs', 'f', 'xyz_a', 'N'], headers = ['<math.h>'], \\\n",
    "\t\tcompiler = 'gcc')\n",
    "\t\n",
    "\t# Return the pixel (x,y) positions\n",
    "\treturn colin_xy\n",
    "\t'''"
   ]
  },
  {
   "cell_type": "code",
   "execution_count": 36,
   "metadata": {
    "collapsed": true
   },
   "outputs": [],
   "source": [
    "def fullfunc(params,xyz_s,xy_t):\n",
    "\n",
    "    ''' Find the sum of squares difference '''\n",
    "    omega, phi, kappa, xs, ys, zs, f = params\n",
    "\n",
    "\n",
    "#     if (omega<0.0) or (omega>=2.0*np.pi):\n",
    "#         return 1e9+omega**4\n",
    "#     elif (phi<-0.5*np.pi) or (phi>=0.5*np.pi):\n",
    "#         return 1e9+phi**4\n",
    "#     elif (kappa<0.0) or (kappa>=2.0*np.pi):\n",
    "#         return 1e9+kappa**4\n",
    "#     elif zs<0.0:\n",
    "#         return 1e9+zs**4\n",
    "#     elif f<0.0:\n",
    "#         return 1e9+f**4\n",
    "\n",
    "#     elif (np.abs(params[3] - 977119)>1000) or \\\n",
    "#             (np.abs(params[4] - 210445)>1000):\n",
    "#         return 1e9 + xs**2\n",
    "\n",
    "    colin_xy = 1.0*colinN(params,xyz_s.astype(float))\n",
    "    diff = ((colin_xy - xy_t)**2).sum()\n",
    "\n",
    "    return diff"
   ]
  },
  {
   "cell_type": "code",
   "execution_count": 43,
   "metadata": {
    "collapsed": false
   },
   "outputs": [],
   "source": [
    "def call(params,xyz_s,xy_t):\n",
    "\n",
    "    ''' Guess parameters near start and brute-force minimize '''\n",
    "    start = params\n",
    "    \n",
    "    boundsN=[(0.01, 0.99), (-0.99, 0.99), (-0.1, 0.1),\n",
    "            (0.0001, 0.9999), (0.0001, 0.9999), (0.35, 0.45), (0.1, 1.2)]\n",
    "    \n",
    "    res = minimize(fullfunc, start,args=(xyz_s,xy_t), \\\n",
    "        method = 'L-BFGS-B', \\\n",
    "        #options={'maxfev': 10000, 'maxiter': 10000})    # Nelder-Mead\n",
    "        options={'disp': True, 'maxiter': 10000, 'gtol': 0.001}, bounds=boundsN) #BFGS\n",
    "\n",
    "    return res"
   ]
  },
  {
   "cell_type": "code",
   "execution_count": 8,
   "metadata": {
    "collapsed": false
   },
   "outputs": [],
   "source": [
    "def random_start(params):\n",
    "\n",
    "# \t''' Perturbs camera position in a gaussian fashion '''\n",
    "# \treturn params\n",
    "# \treturn params + np.array([gauss(0, 0.1), gauss(0, 0.1), \\\n",
    "# #\tgauss(0, 0.1),gauss(0, 20000),gauss(0, 20000), \\\n",
    "# \tgauss(0, 0.1),gauss(0, 100),gauss(0, 100), \\\n",
    "# \tgauss(0, 100), gauss(0, 30)])\n",
    "# #\tgauss(0, 10), gauss(0, 2000)])\n",
    "\n",
    "    return params + np.array([gauss(0, 0.1), gauss(0, 0.1), gauss(0, 0.1),\n",
    "                              gauss(0, 0.1), gauss(0, 0.1),\n",
    "                              gauss(0, 0.1), gauss(0, 0.1)])"
   ]
  },
  {
   "cell_type": "code",
   "execution_count": 68,
   "metadata": {
    "collapsed": true
   },
   "outputs": [],
   "source": [
    "lidar_fiducials = np.array([\n",
    "                            [988328.741, 211962.778,1020.623838], #Empire state building\n",
    "                            [980648.447, 199131.861,1380.707975], #WTC\n",
    "                            [987656.616, 211766.233,493.89], # 1250 Broadway\n",
    "                            [983564.98, 199358.775,591.406796], # Marshall courthouse\n",
    "                            [987342.468, 212511.054,380.69], #  112 West 34th St\n",
    "                            [988596.086, 211789.785,255.31], # 347 5th Ave\n",
    "                            [988287.232, 213228.734,488.716947],  # 66 W 38th St\n",
    "                            [984574.798, 204219.63, 303.263412], # 505 LaGuardia Place, second leftmost edge \n",
    "                            [987140.31, 209161.591, 324.317488], # Flatiron, left point on triange rooftop, under the fence\n",
    "                            [986252.724, 205516.404, 365.468789]]) # 755 Broadway, leftmost corner on the roof\n",
    "                            "
   ]
  },
  {
   "cell_type": "code",
   "execution_count": 69,
   "metadata": {
    "collapsed": true
   },
   "outputs": [],
   "source": [
    "xyz_s = lidar_fiducials"
   ]
  },
  {
   "cell_type": "code",
   "execution_count": 93,
   "metadata": {
    "collapsed": false
   },
   "outputs": [
    {
     "data": {
      "text/plain": [
       "(10L, 3L)"
      ]
     },
     "execution_count": 93,
     "metadata": {},
     "output_type": "execute_result"
    }
   ],
   "source": [
    "xyz_s.shape"
   ]
  },
  {
   "cell_type": "code",
   "execution_count": 70,
   "metadata": {
    "collapsed": true
   },
   "outputs": [],
   "source": [
    "fiducials = np.array([\n",
    "                        [507, 856],#Empire state building\n",
    "                        [1681, 1004],# WTC\n",
    "                        [1185, 1400], # 1250 Broadway\n",
    "                        [1217, 1143], # Marshall courthouse\n",
    "                        [1860, 1637], #  112 West 34th St\n",
    "                        [211, 1704], # 347 5th Ave\n",
    "                        [814, 1811], # 66 W 38th St\n",
    "                        [1362, 1234], # 505 LaGuardia Place\n",
    "                        [1037, 1355], # Flatiron\n",
    "                        [1013, 1237]]) # 755 Broadway\n",
    "\n",
    "dimensions = np.array([1918, 2560])\n",
    "fiducials = center_image_fiducials(dimensions,fiducials)"
   ]
  },
  {
   "cell_type": "code",
   "execution_count": 71,
   "metadata": {
    "collapsed": true
   },
   "outputs": [],
   "source": [
    "xy_t = fiducials"
   ]
  },
  {
   "cell_type": "code",
   "execution_count": 42,
   "metadata": {
    "collapsed": false
   },
   "outputs": [
    {
     "data": {
      "text/plain": [
       "0.53964"
      ]
     },
     "execution_count": 42,
     "metadata": {},
     "output_type": "execute_result"
    }
   ],
   "source": [
    "(988491.-975000)/25000"
   ]
  },
  {
   "cell_type": "code",
   "execution_count": 45,
   "metadata": {
    "collapsed": false
   },
   "outputs": [
    {
     "data": {
      "text/plain": [
       "0.7491666666666666"
      ]
     },
     "execution_count": 45,
     "metadata": {},
     "output_type": "execute_result"
    }
   ],
   "source": [
    "(214475. - 192000)/30000"
   ]
  },
  {
   "cell_type": "code",
   "execution_count": 48,
   "metadata": {
    "collapsed": false
   },
   "outputs": [
    {
     "data": {
      "text/plain": [
       "0.4"
      ]
     },
     "execution_count": 48,
     "metadata": {},
     "output_type": "execute_result"
    }
   ],
   "source": [
    "800./2000"
   ]
  },
  {
   "cell_type": "code",
   "execution_count": 49,
   "metadata": {
    "collapsed": false
   },
   "outputs": [
    {
     "data": {
      "text/plain": [
       "0.3333333333333333"
      ]
     },
     "execution_count": 49,
     "metadata": {},
     "output_type": "execute_result"
    }
   ],
   "source": [
    "1000./3000"
   ]
  },
  {
   "cell_type": "code",
   "execution_count": 72,
   "metadata": {
    "collapsed": false
   },
   "outputs": [
    {
     "name": "stdout",
     "output_type": "stream",
     "text": [
      "params:  [ 0.87731517  0.33784641 -0.1         0.57766698  0.66024252  0.35        0.1       ]\n",
      "score:  2703353.44362\n",
      "params:  [  9.25509068e-01  -3.79471193e-01   1.00000000e-01   9.99900000e-01\n",
      "   1.00000000e-04   4.50000000e-01   1.00000000e-01]\n",
      "score:  3569646.68383\n",
      "params:  [  9.51624761e-01   2.68270282e-01  -1.00000000e-01   9.99900000e-01\n",
      "   1.00000000e-04   3.50000000e-01   1.00000000e-01]\n",
      "score:  3340864.61598\n",
      "params:  [ 0.77094506 -0.19343022 -0.1         0.5124042   0.51963018  0.35        0.1       ]\n",
      "score:  2724984.13904\n",
      "params:  [ 0.99       -0.36085288  0.09692096  0.21022123  0.66231518  0.37363438\n",
      "  0.1       ]\n",
      "score:  2327125.37074\n",
      "params:  [ 0.99       -0.36145984  0.09706053  0.20878908  0.66129328  0.40107684\n",
      "  0.1       ]\n",
      "score:  2327116.0116\n",
      "params:  [ 0.99       -0.36052967  0.0968469   0.21096261  0.66284526  0.35931213\n",
      "  0.1       ]\n",
      "score:  2327129.34499\n",
      "params:  [ 0.99       -0.36064261  0.096873    0.21068253  0.66264468  0.36462069\n",
      "  0.1       ]\n",
      "score:  2327127.94554\n",
      "params:  [ 0.99       -0.36178307  0.09714045  0.2080119   0.66073692  0.41596563\n",
      "  0.1       ]\n",
      "score:  2327109.98971\n",
      "params:  [ 0.99       -0.3603552   0.0968094   0.211348    0.66312061  0.3518503\n",
      "  0.1       ]\n",
      "score:  2327131.16505\n",
      "params:  [ 0.99       -0.36044609  0.09682951  0.21114305  0.66297355  0.35582489\n",
      "  0.1       ]\n",
      "score:  2327130.21704\n",
      "params:  [  9.51624877e-01   2.68272056e-01  -1.00000000e-01   9.99900000e-01\n",
      "   1.00000000e-04   3.50000000e-01   1.00000000e-01]\n",
      "score:  3340864.61599\n",
      "params:  [  9.51624558e-01   2.68268373e-01  -1.00000000e-01   9.99900000e-01\n",
      "   1.00000000e-04   3.50000000e-01   1.00000000e-01]\n",
      "score:  3340864.616\n",
      "params:  [ 0.99       -0.36040975  0.09682296  0.21121309  0.66302421  0.35443534\n",
      "  0.1       ]\n",
      "score:  2327130.55413\n",
      "params:  [ 0.99       -0.36035596  0.09680914  0.21135158  0.66312358  0.35180896\n",
      "  0.1       ]\n",
      "score:  2327131.17469\n",
      "params:  [ 0.99       -0.36200663  0.09719719  0.20742967  0.66032402  0.42701494\n",
      "  0.1       ]\n",
      "score:  2327105.09693\n",
      "params:  [ 0.01       -0.2990949   0.0977618   0.14324885  0.62758248  0.35        0.1       ]\n",
      "score:  2329823.30124\n",
      "params:  [ 0.01       -0.29887255  0.09775057  0.14319286  0.62746541  0.35        0.1       ]\n",
      "score:  2329823.40352\n",
      "params:  [ 0.45083063 -0.40588692  0.1         0.29067971  0.72486906  0.45\n",
      "  0.12386248]\n",
      "score:  2283752.16468\n",
      "params:  [ 0.4508286  -0.40587342  0.1         0.2906509   0.72487546  0.45\n",
      "  0.12387393]\n",
      "score:  2283752.1641\n",
      "params:  [ 0.45082985 -0.40587355  0.1         0.29064652  0.7248749   0.45\n",
      "  0.12387376]\n",
      "score:  2283752.16413\n",
      "params:  [ 0.45082788 -0.40587389  0.1         0.29065118  0.7248763   0.45\n",
      "  0.12387476]\n",
      "score:  2283752.16411\n",
      "params:  [  9.51624795e-01   2.68271542e-01  -1.00000000e-01   9.99900000e-01\n",
      "   1.00000000e-04   3.50000000e-01   1.00000000e-01]\n",
      "score:  3340864.61599\n",
      "params:  [  1.00000000e-02  -9.90000000e-01   1.00000000e-01   3.80848903e-01\n",
      "   1.00000000e-04   4.50000000e-01   1.00000000e-01]\n",
      "score:  4360993.21382\n",
      "params:  [ 0.87133528  0.45646871 -0.1         0.54423692  0.70461237  0.35        0.1       ]\n",
      "score:  2565455.01058\n",
      "params:  [ 0.01       -0.282524    0.1         0.10393211  0.63767187  0.39822149\n",
      "  0.11289917]\n",
      "score:  2336634.98159\n",
      "params:  [ 0.01       -0.29907591  0.0977626   0.14323642  0.62758157  0.35        0.1       ]\n",
      "score:  2329823.30291\n",
      "params:  [ 0.45082846 -0.40587264  0.1         0.29064877  0.72487634  0.45\n",
      "  0.12387486]\n",
      "score:  2283752.1641\n",
      "params:  [ 0.45082881 -0.4058728   0.1         0.29064942  0.72487567  0.45\n",
      "  0.1238741 ]\n",
      "score:  2283752.1641\n",
      "params:  [ 0.45082828 -0.40587183  0.1         0.29064602  0.72487704  0.45\n",
      "  0.12387596]\n",
      "score:  2283752.1641\n",
      "params:  [ 0.45083009 -0.40586464  0.1         0.29063485  0.72487581  0.45\n",
      "  0.12387732]\n",
      "score:  2283752.16418\n",
      "params:  [ 0.45082856 -0.40587292  0.1         0.29064906  0.72487614  0.45\n",
      "  0.12387462]\n",
      "score:  2283752.1641\n",
      "params:  [  1.15154624e-01   9.90000000e-01   1.00000000e-01   9.99900000e-01\n",
      "   1.00000000e-04   4.50000000e-01   1.00000000e-01]\n",
      "score:  6603018.16226\n",
      "params:  [  1.00000000e-02  -9.90000000e-01   1.00000000e-01   3.80848918e-01\n",
      "   1.00000000e-04   4.50000000e-01   1.00000000e-01]\n",
      "score:  4360993.21382\n",
      "params:  [ 0.01       -0.29908165  0.0977622   0.14324314  0.62758459  0.35        0.1       ]\n",
      "score:  2329823.30197\n",
      "params:  [ 0.45082759 -0.40587446  0.1         0.29065699  0.72487583  0.45\n",
      "  0.12387339]\n",
      "score:  2283752.16415\n",
      "params:  [ 0.45082791 -0.40587421  0.1         0.29064876  0.72487775  0.45\n",
      "  0.12387543]\n",
      "score:  2283752.16413\n",
      "params:  [ 0.21418994  0.03569706 -0.00192133  0.54019444  0.74981338  0.39970554\n",
      "  0.94393881]\n",
      "score:  573.069201455\n",
      "params:  [ 0.01       -0.29895809  0.09775412  0.14319296  0.62754727  0.35        0.1       ]\n",
      "score:  2329823.33404\n",
      "params:  [ 0.87133164  0.45646256 -0.1         0.54423668  0.70461204  0.35        0.1       ]\n",
      "score:  2565455.0101\n",
      "params:  [  9.25508088e-01  -3.79475020e-01   1.00000000e-01   9.99900000e-01\n",
      "   1.00000000e-04   4.49863903e-01   1.00000000e-01]\n",
      "score:  3569646.76876\n",
      "params:  [ 0.01        0.99       -0.1         0.55087451  0.9999      0.45        0.1       ]\n",
      "score:  3958019.83592\n",
      "params:  [ 0.21418993  0.0356969  -0.0019214   0.54019443  0.7498134   0.39970562\n",
      "  0.94393942]\n",
      "score:  573.069201009\n",
      "params:  [ 0.99       -0.36246969  0.09731679  0.20621409  0.65945766  0.45        0.1       ]\n",
      "score:  2327093.77974\n",
      "params:  [ 0.21418992  0.03569688 -0.00192142  0.54019444  0.74981339  0.39970557\n",
      "  0.9439394 ]\n",
      "score:  573.069200738\n",
      "params:  [  9.25507343e-01  -3.79477039e-01   1.00000000e-01   9.99900000e-01\n",
      "   1.00000000e-04   4.50000000e-01   1.00000000e-01]\n",
      "score:  3569646.684\n",
      "params:  [  9.25508149e-01  -3.79472553e-01   1.00000000e-01   9.99900000e-01\n",
      "   1.00000000e-04   4.50000000e-01   1.00000000e-01]\n",
      "score:  3569646.68381\n",
      "params:  [ 0.92140212 -0.55876293  0.1         0.46949296  0.7091439   0.45        0.1       ]\n",
      "score:  2184177.6782\n",
      "params:  [  9.51624776e-01   2.68270369e-01  -1.00000000e-01   9.99900000e-01\n",
      "   1.00000000e-04   3.50000000e-01   1.00000000e-01]\n",
      "score:  3340864.61598\n",
      "params:  [ 0.01        0.99       -0.1         0.55087451  0.9999      0.45        0.1       ]\n",
      "score:  3958019.83592\n",
      "params:  [  9.51624779e-01   2.68270457e-01  -1.00000000e-01   9.99900000e-01\n",
      "   1.00000000e-04   3.50000000e-01   1.00000000e-01]\n",
      "score:  3340864.61598\n",
      "params:  [ 0.21418991  0.03569677 -0.00192146  0.54019445  0.74981344  0.39970554\n",
      "  0.94394015]\n",
      "score:  573.069200852\n",
      "params:  [  1.00000000e-02  -9.90000000e-01   1.00000000e-01   3.80848928e-01\n",
      "   1.00000000e-04   4.50000000e-01   1.00000000e-01]\n",
      "score:  4360993.21382\n",
      "params:  [ 0.21418992  0.03569687 -0.00192143  0.54019443  0.74981337  0.39970557\n",
      "  0.94393922]\n",
      "score:  573.06920133\n",
      "params:  [ 0.74911663  0.17101467  0.1         0.52709697  0.70040487  0.35\n",
      "  0.15048233]\n",
      "score:  1863360.35598\n",
      "params:  [ 0.450836   -0.40587344  0.1         0.29067319  0.72485651  0.45\n",
      "  0.12385432]\n",
      "score:  2283752.16711\n",
      "params:  [ 0.45082742 -0.40587334  0.1         0.29064593  0.72487836  0.45\n",
      "  0.12387753]\n",
      "score:  2283752.16416\n",
      "params:  [ 0.01       -0.29909422  0.09776108  0.14325046  0.62758265  0.35        0.1       ]\n",
      "score:  2329823.30138\n",
      "params:  [  9.24905926e-01  -3.80346872e-01   1.00000000e-01   9.99900000e-01\n",
      "   1.00000000e-04   3.91152230e-01   1.00000000e-01]\n",
      "score:  3569686.04554\n",
      "params:  [  9.25508745e-01  -3.79473484e-01   1.00000000e-01   9.99900000e-01\n",
      "   1.00000000e-04   4.50000000e-01   1.00000000e-01]\n",
      "score:  3569646.68379\n",
      "params:  [ 0.01       -0.29908639  0.09776     0.14324735  0.62757963  0.35        0.1       ]\n",
      "score:  2329823.30157\n",
      "params:  [  9.51624230e-01   2.68269323e-01  -1.00000000e-01   9.99900000e-01\n",
      "   1.00000000e-04   3.50000000e-01   1.00000000e-01]\n",
      "score:  3340864.616\n",
      "params:  [ 0.21418991  0.03569686 -0.00192143  0.54019445  0.74981342  0.39970558\n",
      "  0.94393963]\n",
      "score:  573.069200343\n",
      "params:  [  9.51624872e-01   2.68271383e-01  -1.00000000e-01   9.99900000e-01\n",
      "   1.00000000e-04   3.50000000e-01   1.00000000e-01]\n",
      "score:  3340864.61599\n",
      "params:  [ 0.21418993  0.03569686 -0.00192143  0.54019443  0.74981337  0.39970552\n",
      "  0.94393923]\n",
      "score:  573.069201541\n",
      "params:  [ 0.01       -0.29909303  0.09776185  0.1432487   0.62758198  0.35        0.1       ]\n",
      "score:  2329823.30125\n",
      "params:  [  9.25509088e-01  -3.79474530e-01   1.00000000e-01   9.99900000e-01\n",
      "   1.00000000e-04   4.50000000e-01   1.00000000e-01]\n",
      "score:  3569646.6838\n",
      "params:  [  9.25480331e-01  -3.79514336e-01   1.00000000e-01   9.99900000e-01\n",
      "   1.00000000e-04   4.47404288e-01   1.00000000e-01]\n",
      "score:  3569648.30878\n",
      "params:  [ 0.99       -0.36114573  0.09698936  0.20950269  0.66180417  0.38726073\n",
      "  0.1       ]\n",
      "score:  2327121.00819\n",
      "params:  [ 0.21418992  0.03569685 -0.00192143  0.54019443  0.74981337  0.39970552\n",
      "  0.94393924]\n",
      "score:  573.069201443\n",
      "params:  [  9.51624780e-01   2.68270423e-01  -1.00000000e-01   9.99900000e-01\n",
      "   1.00000000e-04   3.50000000e-01   1.00000000e-01]\n",
      "score:  3340864.61598\n",
      "params:  [  9.51624748e-01   2.68270639e-01  -1.00000000e-01   9.99900000e-01\n",
      "   1.00000000e-04   3.50000000e-01   1.00000000e-01]\n",
      "score:  3340864.61599\n",
      "params:  [ 0.01       -0.29909735  0.09776314  0.14325179  0.62758512  0.35        0.1       ]\n",
      "score:  2329823.30138\n",
      "params:  [  9.51624780e-01   2.68270457e-01  -1.00000000e-01   9.99900000e-01\n",
      "   1.00000000e-04   3.50000000e-01   1.00000000e-01]\n",
      "score:  3340864.61598\n",
      "params:  [  9.25840447e-01  -3.81946382e-01   1.00000000e-01   9.99900000e-01\n",
      "   1.00000000e-04   4.44739415e-01   1.00000000e-01]\n",
      "score:  3569676.86609\n",
      "params:  [ 0.01       -0.29903207  0.09775738  0.14321662  0.62758304  0.35        0.1       ]\n",
      "score:  2329823.31271\n",
      "params:  [ 0.14562881  0.99       -0.1         0.9999      0.07633443  0.35        0.1       ]\n",
      "score:  3708336.10009\n",
      "params:  [ 0.14562941  0.99       -0.1         0.9999      0.07633827  0.35        0.1       ]\n",
      "score:  3708336.10008\n",
      "params:  [ 0.21418992  0.03569688 -0.00192142  0.54019444  0.74981339  0.39970558\n",
      "  0.94393927]\n",
      "score:  573.069200823\n",
      "params:  [ 0.14562885  0.99       -0.1         0.9999      0.07633398  0.35        0.1       ]\n",
      "score:  3708336.1001\n",
      "params:  [  9.25508371e-01  -3.79483870e-01   1.00000000e-01   9.99900000e-01\n",
      "   1.00000000e-04   4.50000000e-01   1.00000000e-01]\n",
      "score:  3569646.68435\n",
      "params:  [ 0.72694788 -0.1123359  -0.06723603  0.55417633  0.88266985  0.35\n",
      "  1.00152324]\n",
      "score:  1959793.7374\n",
      "params:  [ 0.14562964  0.99       -0.1         0.9999      0.07633958  0.35        0.1       ]\n",
      "score:  3708336.10008\n",
      "params:  [ 0.99       -0.36031183  0.09680017  0.21144371  0.66318834  0.35000622\n",
      "  0.1       ]\n",
      "score:  2327131.58824\n",
      "params:  [ 0.01       -0.30087132  0.09795847  0.13922843  0.62305645  0.44998784\n",
      "  0.1       ]\n",
      "score:  2329888.62932\n",
      "params:  [ 0.01       -0.29909516  0.09776214  0.143249    0.62758314  0.35        0.1       ]\n",
      "score:  2329823.30124\n",
      "params:  [ 0.14562964  0.99       -0.1         0.9999      0.07633958  0.35        0.1       ]\n",
      "score:  3708336.10008\n",
      "params:  [ 0.01       -0.29909518  0.09776181  0.14324885  0.62758293  0.35        0.1       ]\n",
      "score:  2329823.30124\n",
      "params:  [  9.51624339e-01   2.68271797e-01  -1.00000000e-01   9.99900000e-01\n",
      "   1.00000000e-04   3.50000000e-01   1.00000000e-01]\n",
      "score:  3340864.61601\n",
      "params:  [ 0.21418992  0.03569675 -0.00192145  0.54019444  0.74981337  0.39970538\n",
      "  0.94393919]\n",
      "score:  573.069202203\n",
      "params:  [ 0.99       0.99       0.1        0.4328831  0.9999     0.35       0.1      ]\n",
      "score:  5947904.98273\n",
      "params:  [ 0.21418992  0.03569686 -0.00192142  0.54019444  0.74981339  0.39970554\n",
      "  0.94393944]\n",
      "score:  573.069200785\n",
      "params:  [ 0.99       -0.36113193  0.09698467  0.20956965  0.66184964  0.38615398\n",
      "  0.1       ]\n",
      "score:  2327121.38322\n",
      "params:  [ 0.21418993  0.03569689 -0.00192143  0.54019444  0.74981338  0.39970573\n",
      "  0.94393929]\n",
      "score:  573.069201803\n",
      "params:  [ 0.01       -0.29927555  0.09777984  0.14277213  0.6270533   0.3615593\n",
      "  0.1       ]\n",
      "score:  2329831.38867\n",
      "params:  [ 0.15921262 -0.07624591  0.04334436  0.25310165  0.23621727  0.45        0.1       ]\n",
      "score:  2604725.33969\n",
      "params:  [  9.51624881e-01   2.68273032e-01  -1.00000000e-01   9.99900000e-01\n",
      "   1.00000000e-04   3.50000000e-01   1.00000000e-01]\n",
      "score:  3340864.616\n",
      "params:  [ 0.2141899   0.03569692 -0.0019214   0.54019446  0.74981341  0.39970554\n",
      "  0.94393998]\n",
      "score:  573.069200347\n",
      "params:  [ 0.87133117  0.45645797 -0.1         0.54423672  0.70461211  0.35        0.1       ]\n",
      "score:  2565455.00894\n",
      "params:  [ 0.01       -0.29909486  0.09776183  0.14324896  0.62758256  0.35        0.1       ]\n",
      "score:  2329823.30124\n"
     ]
    }
   ],
   "source": [
    "guessN = np.array([0.75, -0.2, 0, 0.53964, 0.7491666666666666, 0.4, 0.3333])\n",
    "#guess = np.array([4.48603184, -5.75616093e-02, 0.0115, 988491, 214475, 830, 1000])\n",
    "min_score = 100000000000000\n",
    "num_iter = 100\n",
    "params = guessN\n",
    "for i in range(0, num_iter):\n",
    "    start = random_start(params)\n",
    "    result = call(start,xyz_s,xy_t)\n",
    "    print \"params: \", result.x\n",
    "    print \"score: \", result.fun\n",
    "    if (result.fun < min_score):# and (result.x[3] < 980491):\n",
    "        min_score = result.fun\n",
    "        params = result.x"
   ]
  },
  {
   "cell_type": "code",
   "execution_count": 86,
   "metadata": {
    "collapsed": false
   },
   "outputs": [
    {
     "name": "stdout",
     "output_type": "stream",
     "text": [
      "[ 0.21418991  0.03569686 -0.00192143  0.54019445  0.74981342  0.39970558\n",
      "  0.94393963] 573.069200343\n"
     ]
    }
   ],
   "source": [
    "print params, min_score"
   ]
  },
  {
   "cell_type": "code",
   "execution_count": 46,
   "metadata": {
    "collapsed": false
   },
   "outputs": [],
   "source": [
    "def params_orig(params):\n",
    "    params_orig = [\n",
    "        params[0]*2*np.pi,\n",
    "        params[1]*0.5*np.pi,\n",
    "        params[2]*2*np.pi,\n",
    "        (params[3]*25000)+975000,\n",
    "        (params[4]*30000) + 192000,\n",
    "        params[5]*2000,\n",
    "        params[6]*3000\n",
    "\n",
    "    ]\n",
    "    return params_orig"
   ]
  },
  {
   "cell_type": "markdown",
   "metadata": {},
   "source": [
    "## BEST PARAMS SO FAR"
   ]
  },
  {
   "cell_type": "code",
   "execution_count": 87,
   "metadata": {
    "collapsed": false
   },
   "outputs": [
    {
     "data": {
      "text/plain": [
       "[1.3457948995547115,\n",
       " 0.056072499162356862,\n",
       " -0.012072703267366824,\n",
       " 988504.86135706992,\n",
       " 214494.40249620657,\n",
       " 799.41116991077035,\n",
       " 2831.818902032514]"
      ]
     },
     "execution_count": 87,
     "metadata": {},
     "output_type": "execute_result"
    }
   ],
   "source": [
    "params_orig(params)"
   ]
  },
  {
   "cell_type": "code",
   "execution_count": 52,
   "metadata": {
    "collapsed": false
   },
   "outputs": [
    {
     "name": "stdout",
     "output_type": "stream",
     "text": [
      "Populating the interactive namespace from numpy and matplotlib\n"
     ]
    }
   ],
   "source": [
    "import matplotlib.pyplot as pl\n",
    "%pylab inline"
   ]
  },
  {
   "cell_type": "code",
   "execution_count": 77,
   "metadata": {
    "collapsed": false
   },
   "outputs": [
    {
     "name": "stdout",
     "output_type": "stream",
     "text": [
      "1681 -1004\n"
     ]
    }
   ],
   "source": [
    "print fiducials[1,0]+1918/2, -(fiducials[1,1]+2560/2)"
   ]
  },
  {
   "cell_type": "code",
   "execution_count": 88,
   "metadata": {
    "collapsed": false,
    "scrolled": true
   },
   "outputs": [
    {
     "name": "stdout",
     "output_type": "stream",
     "text": [
      "1673 -1000\n"
     ]
    }
   ],
   "source": [
    "print (proj_fid[1, 0]+1918/2).astype(int), -(proj_fid[1,1]+2560/2).astype(int)"
   ]
  },
  {
   "cell_type": "code",
   "execution_count": 78,
   "metadata": {
    "collapsed": false
   },
   "outputs": [
    {
     "data": {
      "text/plain": [
       "(-2560, 0)"
      ]
     },
     "execution_count": 78,
     "metadata": {},
     "output_type": "execute_result"
    },
    {
     "data": {
      "image/png": "[encoded data removed]",
      "text/plain": [
       "<matplotlib.figure.Figure at 0xc09a128>"
      ]
     },
     "metadata": {},
     "output_type": "display_data"
    }
   ],
   "source": [
    "s=3\n",
    "pl.figure(figsize=(s*1.918,s*2.560))\n",
    "proj_fid = colin(params_orig(params), lidar_fiducials)\n",
    "pl.scatter(proj_fid[:, 0]+1918/2, -(proj_fid[:,1]+2560/2))\n",
    "pl.scatter(fiducials[:,0]+1918/2, -(fiducials[:,1]+2560/2))\n",
    "pl.xlim(0,1918)\n",
    "pl.ylim(-2560,0)"
   ]
  },
  {
   "cell_type": "markdown",
   "metadata": {},
   "source": [
    "### Testing function project"
   ]
  },
  {
   "cell_type": "code",
   "execution_count": null,
   "metadata": {
    "collapsed": true
   },
   "outputs": [],
   "source": []
  },
  {
   "cell_type": "code",
   "execution_count": 84,
   "metadata": {
    "collapsed": true
   },
   "outputs": [],
   "source": [
    "from project_lidar import in_picture\n",
    "from project_lidar import distance"
   ]
  },
  {
   "cell_type": "code",
   "execution_count": 102,
   "metadata": {
    "collapsed": false
   },
   "outputs": [
    {
     "name": "stdout",
     "output_type": "stream",
     "text": [
      "[[ 0.01328748 -0.03444055]\n",
      " [ 0.01328767 -0.03444055]\n",
      " [ 0.01328785 -0.03444055]\n",
      " [ 0.01328804 -0.03444055]\n",
      " [ 0.01328823 -0.03444055]\n",
      " [ 0.01328842 -0.03444055]\n",
      " [ 0.01328861 -0.03444055]\n",
      " [ 0.01328879 -0.03444055]\n",
      " [ 0.01328898 -0.03444055]\n",
      " [ 0.01328917 -0.03444055]]\n",
      "[959 959 959 959 959 959 959 959 959 959] [1280 1280 1280 1280 1280 1280 1280 1280 1280 1280]\n",
      "[ True  True  True  True  True  True  True  True  True  True]\n",
      "[0 1 2 3 4 5 6 7 8 9]\n",
      "npix =  4194304\n"
     ]
    }
   ],
   "source": [
    "#def project(filename, params):  \n",
    "\n",
    "# Finds the desired projection\n",
    "\n",
    "omega, phi, kappa, xs, ys, zs, f = params_orig(params)\n",
    "image_dims = [1918, 2560]\n",
    "image_dims_reversed = np.array([image_dims[1], \\\n",
    "    image_dims[0]])\n",
    "\n",
    "# Rearrange\n",
    "#print \"working on: \", filename\n",
    "dat = np.load('data_npy_test/x-978979.241501_y-198575.073690.npy').copy()\n",
    "\n",
    "\n",
    "# Multiply by -1 because it apears as inverse; use orient?\n",
    "pixel_xy = 1.0*colin(params, dat)\n",
    "print pixel_xy[:10]\n",
    "\n",
    "# un-center pixel (x,y)\n",
    "x = image_dims[0]/2 + pixel_xy[:,0].astype(int)\n",
    "y = image_dims[1]/2 + pixel_xy[:,1].astype(int)\n",
    "print x[:10], y[:10]\n",
    "\n",
    "is_in_picture = in_picture(x,y,image_dims)\n",
    "print is_in_picture[:10]\n",
    "\n",
    "index = np.arange(is_in_picture.size)[is_in_picture>0]\n",
    "print index[:10]\n",
    "print \"npix = \", index.size\n",
    "\n",
    "distgrid = np.ones(image_dims_reversed)*(100000.0)\n",
    "xgrid =  -1.*np.ones(image_dims_reversed)\n",
    "ygrid = -1.*np.ones(image_dims_reversed)\n",
    "\n",
    "if index.size==0:\n",
    "    print \"no points, returning...\"\n",
    "    #return [distgrid, xgrid, ygrid]\n",
    "\n",
    "n   = distance(xs,ys,zs, dat[index,0],dat[index,1],dat[index,2]) \n",
    "x   = x[index]\n",
    "y   = y[index]\n",
    "dat = dat[index]\n",
    "\n",
    "# # Add each point to the arrays, given it is visibile (vis[i] == 1)\n",
    "# # And it is closer to the camera than the current value stored in \n",
    "# # the corresponding pixel of the distance array\n",
    "\n",
    "# nx = distgrid.shape[1]-1\n",
    "# ny = distgrid.shape[0]-1\n",
    "\n",
    "# for ii in range(index.size):\n",
    "#     if n[ii]<distgrid[ny-y[ii],nx-x[ii]] and n[ii]>500:\n",
    "#         distgrid[ny-y[ii],nx-x[ii]] = n[ii]\n",
    "#         xgrid[ny-y[ii],nx-x[ii]] = dat[ii,0]\n",
    "#         ygrid[ny-y[ii],nx-x[ii]] = dat[ii,1]\n",
    "\n",
    "# print \"Done with: \",filename\n",
    "# return [distgrid, xgrid, ygrid]\n"
   ]
  },
  {
   "cell_type": "code",
   "execution_count": 103,
   "metadata": {
    "collapsed": false
   },
   "outputs": [
    {
     "ename": "NameError",
     "evalue": "name 'npix' is not defined",
     "output_type": "error",
     "traceback": [
      "\u001b[0;31m---------------------------------------------------------------------------\u001b[0m",
      "\u001b[0;31mNameError\u001b[0m                                 Traceback (most recent call last)",
      "\u001b[0;32m<ipython-input-103-dca20a729d13>\u001b[0m in \u001b[0;36m<module>\u001b[0;34m()\u001b[0m\n\u001b[0;32m----> 1\u001b[0;31m \u001b[0mnpix\u001b[0m\u001b[1;33m/\u001b[0m\u001b[1;36m2064\u001b[0m\u001b[1;33m\u001b[0m\u001b[0m\n\u001b[0m",
      "\u001b[0;31mNameError\u001b[0m: name 'npix' is not defined"
     ]
    }
   ],
   "source": [
    "npix/2064"
   ]
  }
 ],
 "metadata": {
  "kernelspec": {
   "display_name": "Python 2",
   "language": "python",
   "name": "python2"
  },
  "language_info": {
   "codemirror_mode": {
    "name": "ipython",
    "version": 2
   },
   "file_extension": ".py",
   "mimetype": "text/x-python",
   "name": "python",
   "nbconvert_exporter": "python",
   "pygments_lexer": "ipython2",
   "version": "2.7.13"
  }
 },
 "nbformat": 4,
 "nbformat_minor": 2
}
