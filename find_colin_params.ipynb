{
 "cells": [
  {
   "cell_type": "code",
   "execution_count": 1,
   "metadata": {
    "collapsed": true
   },
   "outputs": [],
   "source": [
    "from scipy.optimize import minimize\n",
    "import numpy as np\n",
    "from random import gauss\n",
    "import scipy as sp"
   ]
  },
  {
   "cell_type": "code",
   "execution_count": 2,
   "metadata": {
    "collapsed": true
   },
   "outputs": [],
   "source": [
    "def center_image_fiducials(dimensions,fiducials):\n",
    "\n",
    "    ''' Centers image fiducial points using image dimensions  '''\n",
    "\n",
    "    for i in range(np.shape(fiducials)[0]):\n",
    "        fiducials[i,0] = fiducials[i,0] - (dimensions[0] / 2)\n",
    "        fiducials[i,1] = (dimensions[1] / 2) - fiducials[i,1]\n",
    "\n",
    "    return fiducials"
   ]
  },
  {
   "cell_type": "code",
   "execution_count": 3,
   "metadata": {
    "collapsed": true
   },
   "outputs": [],
   "source": [
    "def colin(params, xyz_a):\n",
    "\n",
    "\t# Unwrap params\n",
    "\tkappa, phi, omega, xs, ys, zs, f = params\n",
    "\n",
    "\tomega = float(omega)\n",
    "\tphi = float(phi) + 0.5*np.pi\n",
    "\tkappa = float(kappa)\n",
    "\txs = float(xs)\n",
    "\tys = float(ys)\n",
    "\tzs = float(zs)\n",
    "\tf = float(f)\n",
    "\n",
    "\t# -- utils\n",
    "\tco = np.cos(omega)\n",
    "\tso = np.sin(omega)\n",
    "\tcp = np.cos(phi)\n",
    "\tsp = np.sin(phi)\n",
    "\tck = np.cos(kappa)\n",
    "\tsk = np.sin(kappa)\n",
    "\n",
    "\ta1 =  cp*ck+sp*so*sk\n",
    "\tb1 =  cp*sk+sp*so*ck\n",
    "\tc1 =  sp*co\n",
    "\ta2 = -co*sk\n",
    "\tb2 =  co*ck\n",
    "\tc2 =  so\n",
    "\ta3 =  sp*ck+cp*so*sk\n",
    "\tb3 =  sp*sk-cp*so*ck\n",
    "\tc3 =  cp*co\n",
    "\n",
    "\tynum  = a1*(xyz_a[:,0]-xs)+b1*(xyz_a[:,1]-ys)+c1*(xyz_a[:,2]-zs)\n",
    "\txnum  = a2*(xyz_a[:,0]-xs)+b2*(xyz_a[:,1]-ys)+c2*(xyz_a[:,2]-zs)\n",
    "\tdenom = a3*(xyz_a[:,0]-xs)+b3*(xyz_a[:,1]-ys)+c3*(xyz_a[:,2]-zs)\n",
    "\n",
    "\txx = -f*xnum/denom\n",
    "\tyy = f*ynum/denom\n",
    "\n",
    "\treturn np.vstack([xx,yy]).T\n",
    "\n",
    "        '''\t\n",
    "\t# Get number of fiducial points\n",
    "\tN = int(xyz_a.shape[0])\n",
    "\n",
    "\t# Initialize the result vector\n",
    "\tcolin_xy = np.zeros((N,2))\n",
    "\n",
    "\t# Define c code that will evaluate the functions\n",
    "\tcode = \"\"\"\n",
    "\n",
    "\t\tdouble sinp = sinf(phi);\n",
    "\t\tdouble cosp = cosf(phi);\n",
    "\t\tdouble sino = sinf(omega);\n",
    "\t\tdouble coso = cosf(omega);\n",
    "\t\tdouble sink = sinf(kappa);\n",
    "\t\tdouble cosk = cosf(kappa);\n",
    "\n",
    "\t\tdouble a1 = cosp*cosk;\n",
    "\t\tdouble b1 = coso*sink + sino*sinp*cosk;\n",
    "\t\tdouble c1 = sino*sink - coso*sinp*cosk;\n",
    "\t\tdouble a2 = -1 * cosp*sink;\n",
    "\t\tdouble b2 = coso*cosk - sino*sinp*sink;\n",
    "\t\tdouble c2 = sino*cosk + coso*sinp*sink;\n",
    "\t\tdouble a3 = sinp;\n",
    "\t\tdouble b3 = -1*sino*cosp;\n",
    "\t\tdouble c3 = cosp*coso;\n",
    "\n",
    "\t\tint j;\n",
    "\t\tint k;\n",
    "\t\tdouble denom;\n",
    "\n",
    "\t\tfor(int i = 0; i < N; i++)\n",
    "\t\t{\n",
    "\t\t\tj = i*2;\n",
    "\t\t\tk = i*3;\n",
    "\t\t\tdenom = (a3*(xyz_a[k]-xs) + b3*(xyz_a[(k+1)]-ys) + c3*(xyz_a[(k+2)]-zs));\n",
    "\n",
    "\t\t\tcolin_xy[j] = -1.0*f*(a1*(xyz_a[k]-xs) + b1*(xyz_a[(k+1)]-ys) + c1*(xyz_a[(k+2)]-zs))/denom;\n",
    "\t\t\tcolin_xy[(j+1)] = -1.0*f*(a2*(xyz_a[k]-xs) + b2*(xyz_a[(k+1)]-ys) + c2*(xyz_a[(k+2)]-zs))/denom;\n",
    "\t\t}\n",
    "\t\treturn_val = 1;\n",
    "\t\"\"\"\n",
    "\n",
    "\t# Use scipy.weave.inline to run the c code\n",
    "\tres = inline(code, ['colin_xy', 'omega', 'phi', 'kappa', 'xs', \\\n",
    "\t\t'ys', 'zs', 'f', 'xyz_a', 'N'], headers = ['<math.h>'], \\\n",
    "\t\tcompiler = 'gcc')\n",
    "\t\n",
    "\t# Return the pixel (x,y) positions\n",
    "\treturn colin_xy\n",
    "\t'''"
   ]
  },
  {
   "cell_type": "code",
   "execution_count": 21,
   "metadata": {
    "collapsed": false
   },
   "outputs": [],
   "source": [
    "def colinN(params, xyz_a):\n",
    "\n",
    "\t# Unwrap params\n",
    "\tkappa, phi, omega, xs, ys, zs, f = params\n",
    "\n",
    "\tomega = float(omega)*2*np.pi\n",
    "\tphi = (float(phi)*0.5*np.pi)+0.5*np.pi\n",
    "\tkappa = float(kappa)*2*np.pi\n",
    "\txs = (float(xs)*25000)+975000\n",
    "\tys = (float(ys)*30000) + 192000\n",
    "\tzs = float(zs)*2000\n",
    "\tf = float(f)*3000\n",
    "\n",
    "\t# -- utils\n",
    "\tco = np.cos(omega)\n",
    "\tso = np.sin(omega)\n",
    "\tcp = np.cos(phi)\n",
    "\tsp = np.sin(phi)\n",
    "\tck = np.cos(kappa)\n",
    "\tsk = np.sin(kappa)\n",
    "\n",
    "\ta1 =  cp*ck+sp*so*sk\n",
    "\tb1 =  cp*sk+sp*so*ck\n",
    "\tc1 =  sp*co\n",
    "\ta2 = -co*sk\n",
    "\tb2 =  co*ck\n",
    "\tc2 =  so\n",
    "\ta3 =  sp*ck+cp*so*sk\n",
    "\tb3 =  sp*sk-cp*so*ck\n",
    "\tc3 =  cp*co\n",
    "\n",
    "\tynum  = a1*(xyz_a[:,0]-xs)+b1*(xyz_a[:,1]-ys)+c1*(xyz_a[:,2]-zs)\n",
    "\txnum  = a2*(xyz_a[:,0]-xs)+b2*(xyz_a[:,1]-ys)+c2*(xyz_a[:,2]-zs)\n",
    "\tdenom = a3*(xyz_a[:,0]-xs)+b3*(xyz_a[:,1]-ys)+c3*(xyz_a[:,2]-zs)\n",
    "\n",
    "\txx = -f*xnum/denom\n",
    "\tyy = f*ynum/denom\n",
    "\n",
    "\treturn np.vstack([xx,yy]).T\n",
    "\n",
    "        '''\t\n",
    "\t# Get number of fiducial points\n",
    "\tN = int(xyz_a.shape[0])\n",
    "\n",
    "\t# Initialize the result vector\n",
    "\tcolin_xy = np.zeros((N,2))\n",
    "\n",
    "\t# Define c code that will evaluate the functions\n",
    "\tcode = \"\"\"\n",
    "\n",
    "\t\tdouble sinp = sinf(phi);\n",
    "\t\tdouble cosp = cosf(phi);\n",
    "\t\tdouble sino = sinf(omega);\n",
    "\t\tdouble coso = cosf(omega);\n",
    "\t\tdouble sink = sinf(kappa);\n",
    "\t\tdouble cosk = cosf(kappa);\n",
    "\n",
    "\t\tdouble a1 = cosp*cosk;\n",
    "\t\tdouble b1 = coso*sink + sino*sinp*cosk;\n",
    "\t\tdouble c1 = sino*sink - coso*sinp*cosk;\n",
    "\t\tdouble a2 = -1 * cosp*sink;\n",
    "\t\tdouble b2 = coso*cosk - sino*sinp*sink;\n",
    "\t\tdouble c2 = sino*cosk + coso*sinp*sink;\n",
    "\t\tdouble a3 = sinp;\n",
    "\t\tdouble b3 = -1*sino*cosp;\n",
    "\t\tdouble c3 = cosp*coso;\n",
    "\n",
    "\t\tint j;\n",
    "\t\tint k;\n",
    "\t\tdouble denom;\n",
    "\n",
    "\t\tfor(int i = 0; i < N; i++)\n",
    "\t\t{\n",
    "\t\t\tj = i*2;\n",
    "\t\t\tk = i*3;\n",
    "\t\t\tdenom = (a3*(xyz_a[k]-xs) + b3*(xyz_a[(k+1)]-ys) + c3*(xyz_a[(k+2)]-zs));\n",
    "\n",
    "\t\t\tcolin_xy[j] = -1.0*f*(a1*(xyz_a[k]-xs) + b1*(xyz_a[(k+1)]-ys) + c1*(xyz_a[(k+2)]-zs))/denom;\n",
    "\t\t\tcolin_xy[(j+1)] = -1.0*f*(a2*(xyz_a[k]-xs) + b2*(xyz_a[(k+1)]-ys) + c2*(xyz_a[(k+2)]-zs))/denom;\n",
    "\t\t}\n",
    "\t\treturn_val = 1;\n",
    "\t\"\"\"\n",
    "\n",
    "\t# Use scipy.weave.inline to run the c code\n",
    "\tres = inline(code, ['colin_xy', 'omega', 'phi', 'kappa', 'xs', \\\n",
    "\t\t'ys', 'zs', 'f', 'xyz_a', 'N'], headers = ['<math.h>'], \\\n",
    "\t\tcompiler = 'gcc')\n",
    "\t\n",
    "\t# Return the pixel (x,y) positions\n",
    "\treturn colin_xy\n",
    "\t'''"
   ]
  },
  {
   "cell_type": "code",
   "execution_count": 36,
   "metadata": {
    "collapsed": true
   },
   "outputs": [],
   "source": [
    "def fullfunc(params,xyz_s,xy_t):\n",
    "\n",
    "    ''' Find the sum of squares difference '''\n",
    "    omega, phi, kappa, xs, ys, zs, f = params\n",
    "\n",
    "\n",
    "#     if (omega<0.0) or (omega>=2.0*np.pi):\n",
    "#         return 1e9+omega**4\n",
    "#     elif (phi<-0.5*np.pi) or (phi>=0.5*np.pi):\n",
    "#         return 1e9+phi**4\n",
    "#     elif (kappa<0.0) or (kappa>=2.0*np.pi):\n",
    "#         return 1e9+kappa**4\n",
    "#     elif zs<0.0:\n",
    "#         return 1e9+zs**4\n",
    "#     elif f<0.0:\n",
    "#         return 1e9+f**4\n",
    "\n",
    "#     elif (np.abs(params[3] - 977119)>1000) or \\\n",
    "#             (np.abs(params[4] - 210445)>1000):\n",
    "#         return 1e9 + xs**2\n",
    "\n",
    "    colin_xy = 1.0*colinN(params,xyz_s.astype(float))\n",
    "    diff = ((colin_xy - xy_t)**2).sum()\n",
    "\n",
    "    return diff"
   ]
  },
  {
   "cell_type": "code",
   "execution_count": 32,
   "metadata": {
    "collapsed": false
   },
   "outputs": [],
   "source": [
    "def call(params,xyz_s,xy_t):\n",
    "\n",
    "    ''' Guess parameters near start and brute-force minimize '''\n",
    "    start = params\n",
    "    \n",
    "    boundsN=[(0.01, 0.99), (-0.99, 0.99), (0.01, 0.99),\n",
    "            (0.0001, 0.9999), (0.0001, 0.9999), (0.35, 0.45), (0.1, 1.2)]\n",
    "    \n",
    "    res = minimize(fullfunc, start,args=(xyz_s,xy_t), \\\n",
    "        method = 'L-BFGS-B', \\\n",
    "        #options={'maxfev': 10000, 'maxiter': 10000})    # Nelder-Mead\n",
    "        options={'disp': True, 'maxiter': 10000, 'gtol': 0.001}, bounds=boundsN) #BFGS\n",
    "\n",
    "    return res"
   ]
  },
  {
   "cell_type": "code",
   "execution_count": 8,
   "metadata": {
    "collapsed": false
   },
   "outputs": [],
   "source": [
    "def random_start(params):\n",
    "\n",
    "# \t''' Perturbs camera position in a gaussian fashion '''\n",
    "# \treturn params\n",
    "# \treturn params + np.array([gauss(0, 0.1), gauss(0, 0.1), \\\n",
    "# #\tgauss(0, 0.1),gauss(0, 20000),gauss(0, 20000), \\\n",
    "# \tgauss(0, 0.1),gauss(0, 100),gauss(0, 100), \\\n",
    "# \tgauss(0, 100), gauss(0, 30)])\n",
    "# #\tgauss(0, 10), gauss(0, 2000)])\n",
    "\n",
    "    return params + np.array([gauss(0, 0.1), gauss(0, 0.1), gauss(0, 0.1),\n",
    "                              gauss(0, 0.1), gauss(0, 0.1),\n",
    "                              gauss(0, 0.1), gauss(0, 0.1)])"
   ]
  },
  {
   "cell_type": "code",
   "execution_count": 9,
   "metadata": {
    "collapsed": true
   },
   "outputs": [],
   "source": [
    "lidar_fiducials = np.array([\n",
    "                            [988328.741, 211962.778,1020.623838], #Empire state building\n",
    "                            [980648.447, 199131.861,1380.707975], #WTC\n",
    "                            [987656.616, 211766.233,493.89], # 1250 Broadway\n",
    "                            [983564.98, 199358.775,591.406796], # Marshall courthouse\n",
    "                            [987342.468, 212511.054,380.69], #  112 West 34th St\n",
    "                            [988596.086, 211789.785,255.31], # 347 5th Ave\n",
    "                            [988287.232, 213228.734,488.716947],  # 66 W 38th St\n",
    "                            [984574.798, 204219.63, 303.263412], # 505 LaGuardia Place, second leftmost edge \n",
    "                            [987140.31, 209161.591, 324.317488], # Flatiron, left point on triange rooftop, under the fence\n",
    "                            [986252.724, 205516.404, 365.468789]]) # 755 Broadway, leftmost corner on the roof\n",
    "                            "
   ]
  },
  {
   "cell_type": "code",
   "execution_count": 37,
   "metadata": {
    "collapsed": true
   },
   "outputs": [],
   "source": [
    "xyz_s = lidar_fiducials"
   ]
  },
  {
   "cell_type": "code",
   "execution_count": 38,
   "metadata": {
    "collapsed": true
   },
   "outputs": [],
   "source": [
    "fiducials = np.array([\n",
    "                        [507, 856],#Empire state building\n",
    "                        [1681, 1004],# WTC\n",
    "                        [1185, 1400], # 1250 Broadway\n",
    "                        [1217, 1143], # Marshall courthouse\n",
    "                        [1860, 1637], #  112 West 34th St\n",
    "                        [211, 1704], # 347 5th Ave\n",
    "                        [814, 1811], # 66 W 38th St\n",
    "                        [1362, 1234], # 505 LaGuardia Place\n",
    "                        [1037, 1355], # Flatiron\n",
    "                        [1013, 1237]]) # 755 Broadway\n",
    "\n",
    "dimensions = np.array([2560, 1918])\n",
    "fiducials = center_image_fiducials(dimensions,fiducials)"
   ]
  },
  {
   "cell_type": "code",
   "execution_count": 40,
   "metadata": {
    "collapsed": true
   },
   "outputs": [],
   "source": [
    "xy_t = fiducials"
   ]
  },
  {
   "cell_type": "code",
   "execution_count": 42,
   "metadata": {
    "collapsed": false
   },
   "outputs": [
    {
     "data": {
      "text/plain": [
       "0.53964"
      ]
     },
     "execution_count": 42,
     "metadata": {},
     "output_type": "execute_result"
    }
   ],
   "source": [
    "(988491.-975000)/25000"
   ]
  },
  {
   "cell_type": "code",
   "execution_count": 45,
   "metadata": {
    "collapsed": false
   },
   "outputs": [
    {
     "data": {
      "text/plain": [
       "0.7491666666666666"
      ]
     },
     "execution_count": 45,
     "metadata": {},
     "output_type": "execute_result"
    }
   ],
   "source": [
    "(214475. - 192000)/30000"
   ]
  },
  {
   "cell_type": "code",
   "execution_count": 48,
   "metadata": {
    "collapsed": false
   },
   "outputs": [
    {
     "data": {
      "text/plain": [
       "0.4"
      ]
     },
     "execution_count": 48,
     "metadata": {},
     "output_type": "execute_result"
    }
   ],
   "source": [
    "800./2000"
   ]
  },
  {
   "cell_type": "code",
   "execution_count": 49,
   "metadata": {
    "collapsed": false
   },
   "outputs": [
    {
     "data": {
      "text/plain": [
       "0.3333333333333333"
      ]
     },
     "execution_count": 49,
     "metadata": {},
     "output_type": "execute_result"
    }
   ],
   "source": [
    "1000./3000"
   ]
  },
  {
   "cell_type": "code",
   "execution_count": 41,
   "metadata": {
    "collapsed": false
   },
   "outputs": [
    {
     "name": "stdout",
     "output_type": "stream",
     "text": [
      "params:  [ 0.63725499  0.52588546  0.01        0.42960859  0.41830942  0.45\n",
      "  0.1203711 ]\n",
      "score:  3003527.49976\n",
      "params:  [ 0.4135676   0.19657533  0.38644949  0.5677964   0.29963699  0.45        0.1       ]\n",
      "score:  2189758.2703\n",
      "params:  [ 0.41356306  0.19650606  0.3864337   0.56774665  0.2996375   0.45        0.1       ]\n",
      "score:  2189758.26423\n",
      "params:  [ 0.4135639   0.19651161  0.38643577  0.56775325  0.29963331  0.45        0.1       ]\n",
      "score:  2189758.26391\n",
      "params:  [ 0.241461    0.49738704  0.29951742  0.28146491  0.28801361  0.43321059\n",
      "  0.19132298]\n",
      "score:  2505137.74926\n",
      "params:  [ 0.41356364  0.19651406  0.38643632  0.5677547   0.29962709  0.45        0.1       ]\n",
      "score:  2189758.26431\n",
      "params:  [ 0.71943095  0.54206355  0.24576627  0.96066607  0.91843774  0.45        0.1       ]\n",
      "score:  2570433.73899\n",
      "params:  [ 0.4135619   0.19651315  0.38643604  0.56774771  0.29963107  0.45        0.1       ]\n",
      "score:  2189758.26409\n",
      "params:  [ 0.74249177  0.38493108  0.55564381  0.44153148  0.55984434  0.45\n",
      "  0.15690229]\n",
      "score:  2787774.94045\n",
      "params:  [ 0.41356387  0.19650819  0.38643499  0.5677515   0.29963392  0.45        0.1       ]\n",
      "score:  2189758.26393\n",
      "params:  [ 0.78802919  0.48276971  0.36220896  0.35356428  0.25531741  0.45        0.1       ]\n",
      "score:  2274552.4063\n",
      "params:  [ 0.41356201  0.19650756  0.38643424  0.56774463  0.2996276   0.45        0.1       ]\n",
      "score:  2189758.26434\n",
      "params:  [ 0.69640964  0.00666969  0.99        0.54138299  0.74986573  0.40911897\n",
      "  0.94887117]\n",
      "score:  8195.82946885\n",
      "params:  [  6.16113005e-01  -4.51592033e-01   7.42013252e-01   1.00000000e-04\n",
      "   6.05118570e-01   3.50000000e-01   8.90342828e-01]\n",
      "score:  2869322.9468\n",
      "params:  [ 0.99       -0.50494722  0.82789473  0.48285218  0.84317127  0.35        0.1       ]\n",
      "score:  2612068.67588\n",
      "params:  [ 0.69640965  0.00666973  0.99        0.54138298  0.74986573  0.40911903\n",
      "  0.94887097]\n",
      "score:  8195.82946921\n",
      "params:  [ 0.41356692  0.19651399  0.38643675  0.56776341  0.29963865  0.45        0.1       ]\n",
      "score:  2189758.26442\n",
      "params:  [ 0.69640963  0.00666969  0.99        0.54138299  0.74986572  0.40911888\n",
      "  0.9488712 ]\n",
      "score:  8195.82946921\n",
      "params:  [ 0.69640966  0.00666988  0.99        0.54138298  0.74986573  0.40911821\n",
      "  0.94887019]\n",
      "score:  8195.82949289\n",
      "params:  [ 0.65750717  0.31129514  0.93736478  0.53022358  0.68054838  0.35\n",
      "  0.16246496]\n",
      "score:  846870.175572\n",
      "params:  [ 0.74249357  0.38493741  0.55564842  0.44153043  0.55984494  0.45\n",
      "  0.15690014]\n",
      "score:  2787774.94039\n",
      "params:  [ 0.84728799 -0.21323672  0.26929856  0.51857553  0.9999      0.35\n",
      "  0.54302867]\n",
      "score:  3209542.59089\n",
      "params:  [ 0.61420355 -0.45317825  0.77469599  0.55180411  0.41062759  0.35\n",
      "  1.00766816]\n",
      "score:  2515536.82852\n",
      "params:  [ 0.14201857  0.49439279  0.96115526  0.53509311  0.71635164  0.35        0.1       ]\n",
      "score:  1304705.43841\n",
      "params:  [ 0.69640966  0.00666964  0.99        0.541383    0.74986581  0.409119\n",
      "  0.94887177]\n",
      "score:  8195.82946816\n",
      "params:  [ 0.69640966  0.0066698   0.99        0.54138297  0.74986573  0.40911872\n",
      "  0.94887126]\n",
      "score:  8195.82946958\n",
      "params:  [ 0.69640964  0.00666973  0.99        0.54138298  0.74986572  0.40911893\n",
      "  0.94887114]\n",
      "score:  8195.82946913\n",
      "params:  [ 0.41356283  0.19651344  0.38643547  0.56775123  0.2996323   0.45        0.1       ]\n",
      "score:  2189758.2639\n",
      "params:  [ 0.69640964  0.00666975  0.99        0.54138298  0.74986572  0.40911886\n",
      "  0.94887112]\n",
      "score:  8195.82946899\n",
      "params:  [ 0.69640972  0.00666969  0.99        0.54138298  0.74986575  0.40911874\n",
      "  0.94887325]\n",
      "score:  8195.82948247\n",
      "params:  [ 0.69640964  0.00666974  0.99        0.54138298  0.74986571  0.40911884\n",
      "  0.9488712 ]\n",
      "score:  8195.82946914\n",
      "params:  [ 0.69640964  0.00666981  0.99        0.54138296  0.74986567  0.40911887\n",
      "  0.94887034]\n",
      "score:  8195.82947198\n",
      "params:  [ 0.69640959  0.00667014  0.99        0.54138287  0.74986544  0.40911785\n",
      "  0.9488672 ]\n",
      "score:  8195.82950455\n",
      "params:  [ 0.61420352 -0.45317824  0.77469612  0.55180326  0.41062784  0.35\n",
      "  1.00766551]\n",
      "score:  2515536.82856\n",
      "params:  [ 0.69640965  0.00666975  0.99        0.54138298  0.74986572  0.40911884\n",
      "  0.94887117]\n",
      "score:  8195.82946903\n",
      "params:  [ 0.99       -0.50494628  0.82789468  0.48285248  0.84317131  0.35        0.1       ]\n",
      "score:  2612068.67588\n",
      "params:  [ 0.69640964  0.00666978  0.99        0.54138298  0.7498657   0.40911878\n",
      "  0.948871  ]\n",
      "score:  8195.82946949\n",
      "params:  [ 0.14201858  0.49439181  0.96115501  0.53509309  0.71635161  0.35        0.1       ]\n",
      "score:  1304705.43854\n",
      "params:  [  5.13556763e-01   9.90000000e-01   6.86395552e-01   1.00000000e-04\n",
      "   9.99900000e-01   3.50000000e-01   1.51984931e-01]\n",
      "score:  2821978.75259\n",
      "params:  [ 0.92078067  0.12722863  0.37719451  0.55889663  0.31575078  0.35        0.1       ]\n",
      "score:  2138096.50743\n",
      "params:  [ 0.92077946  0.12723688  0.37719595  0.55889703  0.31575383  0.35        0.1       ]\n",
      "score:  2138096.50719\n",
      "params:  [ 0.69640964  0.00666974  0.99        0.54138298  0.74986572  0.40911887\n",
      "  0.94887117]\n",
      "score:  8195.82946891\n",
      "params:  [ 0.69640968  0.00666947  0.99        0.54138307  0.74986603  0.40911941\n",
      "  0.94887376]\n",
      "score:  8195.8294686\n",
      "params:  [ 0.69640964  0.00666974  0.99        0.54138299  0.74986573  0.40911889\n",
      "  0.94887131]\n",
      "score:  8195.82946856\n",
      "params:  [ 0.69640964  0.00666974  0.99        0.54138298  0.74986572  0.40911888\n",
      "  0.94887122]\n",
      "score:  8195.82946885\n",
      "params:  [ 0.99       -0.04655041  0.82272716  0.21212867  0.22331122  0.35\n",
      "  0.11524397]\n",
      "score:  2471598.69453\n",
      "params:  [ 0.99       -0.50494559  0.82789473  0.48285272  0.84317107  0.35        0.1       ]\n",
      "score:  2612068.67588\n",
      "params:  [ 0.69640966  0.00666965  0.99        0.541383    0.7498658   0.40911895\n",
      "  0.94887228]\n",
      "score:  8195.82946746\n",
      "params:  [ 0.69640964  0.00666974  0.99        0.54138299  0.74986573  0.40911884\n",
      "  0.94887135]\n",
      "score:  8195.82946881\n",
      "params:  [  1.39078999e-02   1.93983144e-01   8.94257952e-01   1.00000000e-04\n",
      "   3.26056543e-01   4.50000000e-01   1.75502797e-01]\n",
      "score:  2426607.24086\n",
      "params:  [ 0.69640966  0.00666971  0.99        0.54138295  0.74986569  0.40911872\n",
      "  0.94887069]\n",
      "score:  8195.82947457\n",
      "params:  [ 0.69652032  0.05804464  0.01        0.53915747  0.7482344   0.39548168\n",
      "  0.93246635]\n",
      "score:  8217.51114594\n",
      "params:  [ 0.61420386 -0.45317998  0.77469534  0.55180697  0.41062745  0.35\n",
      "  1.00769355]\n",
      "score:  2515536.82889\n",
      "params:  [ 0.76146481  0.48979951  0.72993408  0.9999      0.42340005  0.45        0.1       ]\n",
      "score:  2470179.79494\n",
      "params:  [ 0.69640959  0.0066698   0.99        0.541383    0.7498657   0.40911874\n",
      "  0.94886999]\n",
      "score:  8195.82947779\n",
      "params:  [ 0.69640963  0.00666968  0.99        0.54138301  0.74986578  0.4091189\n",
      "  0.94887207]\n",
      "score:  8195.82946736\n",
      "params:  [ 0.69640965  0.0066697   0.99        0.54138299  0.74986575  0.40911896\n",
      "  0.94887142]\n",
      "score:  8195.82946813\n",
      "params:  [ 0.69640964  0.00666974  0.99        0.54138298  0.74986572  0.40911886\n",
      "  0.94887113]\n",
      "score:  8195.82946909\n",
      "params:  [ 0.69640964  0.00666974  0.99        0.54138298  0.74986573  0.40911889\n",
      "  0.94887124]\n",
      "score:  8195.82946874\n",
      "params:  [ 0.69640964  0.00666974  0.99        0.54138298  0.74986572  0.40911887\n",
      "  0.94887118]\n",
      "score:  8195.82946888\n",
      "params:  [  5.13556254e-01   9.90000000e-01   6.86396746e-01   1.00000000e-04\n",
      "   9.99900000e-01   3.50000000e-01   1.51985465e-01]\n",
      "score:  2821978.75239\n",
      "params:  [ 0.69640964  0.00666968  0.99        0.54138301  0.74986577  0.40911908\n",
      "  0.94887175]\n",
      "score:  8195.82946783\n",
      "params:  [ 0.69640964  0.00666957  0.99        0.54138304  0.74986585  0.40911916\n",
      "  0.94887299]\n",
      "score:  8195.82946613\n",
      "params:  [ 0.01        0.99        0.66255033  0.06857635  0.87898329  0.45        0.1       ]\n",
      "score:  2732007.13142\n",
      "params:  [ 0.69640964  0.00666976  0.99        0.54138298  0.74986571  0.40911881\n",
      "  0.94887097]\n",
      "score:  8195.8294696\n",
      "params:  [ 0.69640964  0.00666978  0.99        0.54138298  0.74986571  0.40911887\n",
      "  0.94887091]\n",
      "score:  8195.82946945\n",
      "params:  [ 0.69640964  0.00666976  0.99        0.54138297  0.74986569  0.40911882\n",
      "  0.94887092]\n",
      "score:  8195.82947001\n",
      "params:  [ 0.01        0.99        0.66255051  0.06857795  0.87898095  0.45        0.1       ]\n",
      "score:  2732007.1315\n",
      "params:  [ 0.69640962  0.00666967  0.99        0.54138301  0.74986578  0.40911892\n",
      "  0.94887194]\n",
      "score:  8195.82946808\n",
      "params:  [ 0.01        0.99        0.6625504   0.06857699  0.87898263  0.45        0.1       ]\n",
      "score:  2732007.13143\n",
      "params:  [ 0.69640963  0.00666982  0.99        0.54138296  0.74986563  0.40911876\n",
      "  0.94886994]\n",
      "score:  8195.82947309\n",
      "params:  [ 0.69640964  0.00666974  0.99        0.54138298  0.74986572  0.40911887\n",
      "  0.94887121]\n",
      "score:  8195.82946877\n",
      "params:  [ 0.92078501  0.12722632  0.37719558  0.55890627  0.31577073  0.35        0.1       ]\n",
      "score:  2138096.50991\n",
      "params:  [ 0.69640964  0.00666974  0.99        0.54138298  0.74986572  0.40911887\n",
      "  0.94887121]\n",
      "score:  8195.82946878\n",
      "params:  [ 0.69640964  0.00666974  0.99        0.54138298  0.74986573  0.40911888\n",
      "  0.94887123]\n",
      "score:  8195.82946873\n",
      "params:  [ 0.14201841  0.49438672  0.96115869  0.53509307  0.71635096  0.35        0.1       ]\n",
      "score:  1304705.44986\n",
      "params:  [ 0.69640965  0.00666974  0.99        0.54138298  0.74986572  0.40911889\n",
      "  0.94887119]\n",
      "score:  8195.82946884\n",
      "params:  [ 0.69640965  0.00666973  0.99        0.54138298  0.74986572  0.40911888\n",
      "  0.94887122]\n",
      "score:  8195.82946883\n",
      "params:  [ 0.65750742  0.31129012  0.9373654   0.53022344  0.68054862  0.35\n",
      "  0.16246685]\n",
      "score:  846870.175497\n",
      "params:  [ 0.69640964  0.00666974  0.99        0.54138298  0.74986572  0.40911887\n",
      "  0.94887118]\n",
      "score:  8195.82946888\n",
      "params:  [ 0.61396825 -0.45967807  0.76875855  0.62468238  0.46826484  0.35\n",
      "  1.07041184]\n",
      "score:  2549713.65786\n",
      "params:  [ 0.69640964  0.00666972  0.99        0.54138299  0.74986575  0.40911891\n",
      "  0.94887155]\n",
      "score:  8195.82946799\n",
      "params:  [ 0.70797974  0.25033729  0.49853966  0.50288945  0.64843657  0.35\n",
      "  0.25659677]\n",
      "score:  1247134.61794\n",
      "params:  [ 0.69640963  0.00666982  0.99        0.54138295  0.74986561  0.4091187\n",
      "  0.94886985]\n",
      "score:  8195.82947387\n",
      "params:  [ 0.69640963  0.00666963  0.99        0.541383    0.74986575  0.40911893\n",
      "  0.94887185]\n",
      "score:  8195.82946899\n",
      "params:  [ 0.99       -0.50493803  0.82789611  0.48285743  0.84316258  0.35        0.1       ]\n",
      "score:  2612068.67642\n",
      "params:  [ 0.98555222  0.98286906  0.16695179  0.67770851  0.74919013  0.45        0.1       ]\n",
      "score:  2620977.63671\n",
      "params:  [ 0.74249402  0.38495112  0.55564178  0.44153258  0.55984524  0.45\n",
      "  0.15689737]\n",
      "score:  2787774.94119\n",
      "params:  [  5.13556345e-01   9.90000000e-01   6.86396619e-01   1.00000000e-04\n",
      "   9.99900000e-01   3.50000000e-01   1.51985675e-01]\n",
      "score:  2821978.7524\n",
      "params:  [ 0.14201846  0.49439151  0.96115487  0.53509309  0.71635159  0.35        0.1       ]\n",
      "score:  1304705.43854\n",
      "params:  [ 0.69640966  0.00666976  0.99        0.54138296  0.74986571  0.40911871\n",
      "  0.94887088]\n",
      "score:  8195.82947132\n",
      "params:  [ 0.69640968  0.00666975  0.99        0.54138297  0.74986576  0.40911892\n",
      "  0.94887102]\n",
      "score:  8195.82947034\n",
      "params:  [ 0.69640964  0.00666974  0.99        0.541383    0.74986577  0.40911889\n",
      "  0.94887176]\n",
      "score:  8195.82946745\n",
      "params:  [ 0.69640965  0.00666973  0.99        0.54138298  0.74986573  0.40911885\n",
      "  0.94887127]\n",
      "score:  8195.82946878\n",
      "params:  [ 0.7614654   0.48980031  0.72993397  0.9999      0.42340183  0.45        0.1       ]\n",
      "score:  2470179.79485\n",
      "params:  [ 0.61396859 -0.45967663  0.76875743  0.6246882   0.46825603  0.35\n",
      "  1.07042639]\n",
      "score:  2549713.65279\n",
      "params:  [ 0.99       -0.50494686  0.8278947   0.48285219  0.84317168  0.35        0.1       ]\n",
      "score:  2612068.67588\n",
      "params:  [ 0.69640964  0.00666977  0.99        0.54138298  0.74986572  0.4091189\n",
      "  0.94887094]\n",
      "score:  8195.82946915\n",
      "params:  [ 0.25964982  0.49217845  0.72543646  0.9999      0.40575215  0.35        0.1       ]\n",
      "score:  2433852.30074\n",
      "params:  [ 0.69640964  0.00666968  0.99        0.54138299  0.74986574  0.40911896\n",
      "  0.94887137]\n",
      "score:  8195.82946855\n"
     ]
    }
   ],
   "source": [
    "guessN = np.array([0.75, -0.2, 0, 0.53964, 0.7491666666666666, 0.4, 0.3333])\n",
    "#guess = np.array([4.48603184, -5.75616093e-02, 0.0115, 988491, 214475, 830, 1000])\n",
    "min_score = 100000000000000\n",
    "num_iter = 100\n",
    "params = guessN\n",
    "for i in range(0, num_iter):\n",
    "    start = random_start(params)\n",
    "    result = call(start,xyz_s,xy_t)\n",
    "    print \"params: \", result.x\n",
    "    print \"score: \", result.fun\n",
    "    if (result.fun < min_score):# and (result.x[3] < 980491):\n",
    "        min_score = result.fun\n",
    "        params = result.x"
   ]
  },
  {
   "cell_type": "code",
   "execution_count": 42,
   "metadata": {
    "collapsed": false
   },
   "outputs": [
    {
     "name": "stdout",
     "output_type": "stream",
     "text": [
      "[ 0.69640964  0.00666957  0.99        0.54138304  0.74986585  0.40911916\n",
      "  0.94887299] 8195.82946613\n"
     ]
    }
   ],
   "source": [
    "print params, min_score"
   ]
  },
  {
   "cell_type": "code",
   "execution_count": 19,
   "metadata": {
    "collapsed": false
   },
   "outputs": [],
   "source": [
    "def params_orig(params):\n",
    "    params_orig = [\n",
    "        params[0]*2*np.pi,\n",
    "        params[1]*0.5*np.pi,\n",
    "        params[2]*2*np.pi,\n",
    "        (params[3]*25000)+975000,\n",
    "        (params[4]*30000) + 192000,\n",
    "        params[5]*2000,\n",
    "        params[6]*3000\n",
    "\n",
    "    ]\n",
    "    return params_orig"
   ]
  },
  {
   "cell_type": "code",
   "execution_count": 29,
   "metadata": {
    "collapsed": false
   },
   "outputs": [
    {
     "data": {
      "text/plain": [
       "[2.8006137726991773,\n",
       " 1.5773565325573278,\n",
       " -4.6622863564207586,\n",
       " 988515.6299398191,\n",
       " 214506.4613172313,\n",
       " 802.36941702193383,\n",
       " 2836.4987635824887]"
      ]
     },
     "execution_count": 29,
     "metadata": {},
     "output_type": "execute_result"
    }
   ],
   "source": [
    "params_orig(params)"
   ]
  },
  {
   "cell_type": "raw",
   "metadata": {},
   "source": []
  },
  {
   "cell_type": "code",
   "execution_count": null,
   "metadata": {
    "collapsed": true
   },
   "outputs": [],
   "source": []
  }
 ],
 "metadata": {
  "kernelspec": {
   "display_name": "Python 2",
   "language": "python",
   "name": "python2"
  },
  "language_info": {
   "codemirror_mode": {
    "name": "ipython",
    "version": 2
   },
   "file_extension": ".py",
   "mimetype": "text/x-python",
   "name": "python",
   "nbconvert_exporter": "python",
   "pygments_lexer": "ipython2",
   "version": "2.7.13"
  }
 },
 "nbformat": 4,
 "nbformat_minor": 2
}
