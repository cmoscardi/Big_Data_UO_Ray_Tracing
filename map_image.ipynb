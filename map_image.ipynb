{
 "cells": [
  {
   "cell_type": "code",
   "execution_count": 62,
   "metadata": {
    "collapsed": false
   },
   "outputs": [
    {
     "data": {
      "text/plain": [
       "<pyspark.context.SparkContext at 0x7fa5d04baad0>"
      ]
     },
     "execution_count": 62,
     "metadata": {},
     "output_type": "execute_result"
    }
   ],
   "source": [
    "sc"
   ]
  },
  {
   "cell_type": "code",
   "execution_count": 4,
   "metadata": {
    "collapsed": true
   },
   "outputs": [],
   "source": [
    "from scipy.optimize import minimize\n",
    "import numpy as np\n",
    "import pandas as pd\n",
    "from random import gauss\n",
    "import scipy as sp\n",
    "import matplotlib.pyplot as pl\n",
    "%matplotlib inline"
   ]
  },
  {
   "cell_type": "code",
   "execution_count": 3,
   "metadata": {
    "collapsed": true
   },
   "outputs": [],
   "source": [
    "def distance(xs,ys,zs,x,y,z):\n",
    "\n",
    "    dist = 1.0*((x - xs)**2 + (y - ys)**2 + (z - zs)**2)**0.5\n",
    "\n",
    "    return dist"
   ]
  },
  {
   "cell_type": "code",
   "execution_count": 4,
   "metadata": {
    "collapsed": true
   },
   "outputs": [],
   "source": [
    "def in_picture(x,y,image_dimensions):\n",
    "    # Check if point gets mapped to a pixel within the specified x and y\n",
    "    # sizes of the image\n",
    "\n",
    "    is_in_picture = (x < image_dimensions[0])*(x > 0)*(y > 0)*\\\n",
    "    (y < image_dimensions[1])\n",
    "\n",
    "    return is_in_picture"
   ]
  },
  {
   "cell_type": "code",
   "execution_count": 5,
   "metadata": {
    "collapsed": true
   },
   "outputs": [],
   "source": [
    "def center_image_fiducials(dimensions,fiducials):\n",
    "\n",
    "    ''' Centers image fiducial points using image dimensions  '''\n",
    "\n",
    "    for i in range(np.shape(fiducials)[0]):\n",
    "        fiducials[i,0] = fiducials[i,0] - (dimensions[0] / 2)\n",
    "        fiducials[i,1] = (dimensions[1] / 2) - fiducials[i,1]\n",
    "\n",
    "    return fiducials"
   ]
  },
  {
   "cell_type": "code",
   "execution_count": 6,
   "metadata": {
    "collapsed": true
   },
   "outputs": [],
   "source": [
    "def colin(params, xyz_a):\n",
    "\n",
    "\t# Unwrap params\n",
    "\tkappa, phi, omega, xs, ys, zs, f = params\n",
    "\n",
    "\tomega = float(omega)\n",
    "\tphi = float(phi) + 0.5*np.pi\n",
    "\tkappa = float(kappa)\n",
    "\txs = float(xs)\n",
    "\tys = float(ys)\n",
    "\tzs = float(zs)\n",
    "\tf = float(f)\n",
    "\n",
    "\t# -- utils\n",
    "\tco = np.cos(omega)\n",
    "\tso = np.sin(omega)\n",
    "\tcp = np.cos(phi)\n",
    "\tsp = np.sin(phi)\n",
    "\tck = np.cos(kappa)\n",
    "\tsk = np.sin(kappa)\n",
    "\n",
    "\ta1 =  cp*ck+sp*so*sk\n",
    "\tb1 =  cp*sk+sp*so*ck\n",
    "\tc1 =  sp*co\n",
    "\ta2 = -co*sk\n",
    "\tb2 =  co*ck\n",
    "\tc2 =  so\n",
    "\ta3 =  sp*ck+cp*so*sk\n",
    "\tb3 =  sp*sk-cp*so*ck\n",
    "\tc3 =  cp*co\n",
    "\n",
    "\tynum  = a1*(xyz_a[:,0]-xs)+b1*(xyz_a[:,1]-ys)+c1*(xyz_a[:,2]-zs)\n",
    "\txnum  = a2*(xyz_a[:,0]-xs)+b2*(xyz_a[:,1]-ys)+c2*(xyz_a[:,2]-zs)\n",
    "\tdenom = a3*(xyz_a[:,0]-xs)+b3*(xyz_a[:,1]-ys)+c3*(xyz_a[:,2]-zs)\n",
    "\n",
    "\txx = -f*xnum/denom\n",
    "\tyy = f*ynum/denom\n",
    "\n",
    "\treturn np.vstack([xx,yy]).T"
   ]
  },
  {
   "cell_type": "code",
   "execution_count": 7,
   "metadata": {
    "collapsed": true
   },
   "outputs": [],
   "source": [
    "def fullfunc(params,xyz_s,xy_t):\n",
    "\n",
    "    ''' Find the sum of squares difference '''\n",
    "    omega, phi, kappa, xs, ys, zs, f = params\n",
    "\n",
    "\n",
    "    if (omega<0.0) or (omega>=2.0*np.pi):\n",
    "        return 1e9+omega**4\n",
    "    elif (phi<-0.5*np.pi) or (phi>=0.5*np.pi):\n",
    "        return 1e9+phi**4\n",
    "    elif (kappa<0.0) or (kappa>=2.0*np.pi):\n",
    "        return 1e9+kappa**4\n",
    "    elif zs<0.0:\n",
    "        return 1e9+zs**4\n",
    "    elif f<0.0:\n",
    "        return 1e9+f**4\n",
    "#     elif (np.abs(params[3] - 977119)>1000) or \\\n",
    "#             (np.abs(params[4] - 210445)>1000):\n",
    "#         return 1e9 + xs**2\n",
    "\n",
    "    colin_xy = 1.0*colin(params,xyz_s.astype(float))\n",
    "    diff = ((colin_xy - xy_t)**2).sum()\n",
    "    \n",
    "    return diff"
   ]
  },
  {
   "cell_type": "code",
   "execution_count": 8,
   "metadata": {
    "collapsed": true
   },
   "outputs": [],
   "source": [
    "def call(params,xyz_s,xy_t):\n",
    "\n",
    "    ''' Guess parameters near start and brute-force minimize '''\n",
    "    start = params\n",
    "\n",
    "    res = minimize(fullfunc, start,args=(xyz_s,xy_t), \\\n",
    "        method = 'Nelder-Mead', \\\n",
    "        options={'maxfev': 10000, 'maxiter': 10000})\n",
    "\n",
    "    return res"
   ]
  },
  {
   "cell_type": "markdown",
   "metadata": {},
   "source": [
    "# Main Code"
   ]
  },
  {
   "cell_type": "code",
   "execution_count": 9,
   "metadata": {
    "collapsed": true
   },
   "outputs": [],
   "source": [
    "guess = np.array([4.48603184, -5.75616093e-02, 0.0115, 987818.3984021898, 214563.46676424053, 800, 3000])"
   ]
  },
  {
   "cell_type": "code",
   "execution_count": 10,
   "metadata": {
    "collapsed": false
   },
   "outputs": [
    {
     "name": "stdout",
     "output_type": "stream",
     "text": [
      "score  = 1577.18645579\n",
      "params = [  4.48723386e+00  -5.75616144e-02   1.14226011e-02   9.88501080e+05\n",
      "   2.14474001e+05   7.93662680e+02   2.84534724e+03]\n"
     ]
    }
   ],
   "source": [
    "lidar_fiducials = np.array([\n",
    "                            [988224.09, 211951.573,1494.756662], #Empire state building\n",
    "                            [980598.406, 199043.071,1750.127224], #WTC\n",
    "                            [987656.616, 211766.233,493.89], # 1250 Broadway\n",
    "                            [983564.98, 199358.775,591.406796], # Marshall courthouse\n",
    "                            [987342.468, 212511.054,380.69], #  112 West 34th St\n",
    "                            [988596.086, 211789.785,255.31], # 347 5th Ave\n",
    "                            [988287.232, 213228.734,488.716947]]) # 66 W 38th St\n",
    "\n",
    "fiducials = np.array([\n",
    "                        [621, 305],#Empire state building\n",
    "                        [1683, 936],#WTC\n",
    "                        [1185, 1400], # 1250 Broadway\n",
    "                        [1217, 1143], # Marshall courthouse\n",
    "                        [1860, 1637], #  112 West 34th St\n",
    "                        [211, 1704], # 347 5th Ave\n",
    "                        [814, 1811]])# 66 W 38th St\n",
    "\n",
    "\n",
    "\n",
    "dimensions = np.array([1918, 2560])\n",
    "fiducials = center_image_fiducials(dimensions,fiducials)\n",
    "\n",
    "xyz_s = lidar_fiducials\n",
    "xy_t = fiducials\n",
    "\n",
    "min_score = 100000000000000\n",
    "num_iter = 100\n",
    "params = guess\n",
    "\n",
    "for i in range(0, num_iter):\n",
    "    result = call(params,xyz_s,xy_t)\n",
    "#     print \"params, score\", result.x, result.fun\n",
    "    if (result.fun < min_score):# and (result.x[3] < 980491):\n",
    "        min_score = result.fun\n",
    "        params = result.x\n",
    "\n",
    "print(\"score  = {0}\\nparams = {1}\".format(min_score,params))"
   ]
  },
  {
   "cell_type": "code",
   "execution_count": 13,
   "metadata": {
    "collapsed": false
   },
   "outputs": [],
   "source": [
    "def getStops(_, part):\n",
    "\n",
    "#     array = np.frombuffer(bytes(part[1]))\n",
    "#     reshaped = array[10:0].reshape(-1,3)\n",
    "#     return reshaped.tolist()\n",
    "    \n",
    "    for fn,contents in part:\n",
    "        a = np.fromstring(contents)[10:]\n",
    "        reshaped = a.reshape(-1,3)\n",
    "        yield reshaped\n",
    "        break"
   ]
  },
  {
   "cell_type": "code",
   "execution_count": 14,
   "metadata": {
    "collapsed": false
   },
   "outputs": [],
   "source": [
    "rdd = sc.binaryFiles('./one/').mapPartitionsWithIndex(getStops)\n",
    "# rdd = sc.binaryFiles('one_new/*').map(getStops)"
   ]
  },
  {
   "cell_type": "code",
   "execution_count": 15,
   "metadata": {
    "collapsed": false,
    "scrolled": false
   },
   "outputs": [],
   "source": [
    "a= rdd.take(1)"
   ]
  },
  {
   "cell_type": "code",
   "execution_count": 16,
   "metadata": {
    "collapsed": false
   },
   "outputs": [
    {
     "data": {
      "text/plain": [
       "(4194304, 3)"
      ]
     },
     "execution_count": 16,
     "metadata": {},
     "output_type": "execute_result"
    }
   ],
   "source": [
    "a[0].shape"
   ]
  },
  {
   "cell_type": "code",
   "execution_count": 23,
   "metadata": {
    "collapsed": true
   },
   "outputs": [],
   "source": [
    "def project(_, part):  \n",
    "    \n",
    "\n",
    "    for fn,contents in part:\n",
    "        a = np.fromstring(contents)[10:]\n",
    "        reshaped = a.reshape(-1,3)\n",
    "        \n",
    "    \n",
    "    # Finds the desired projection\n",
    "    \n",
    "    if globparams == None:\n",
    "        params = return_params(globname)\n",
    "    else:\n",
    "        params = globparams\n",
    "\n",
    "    omega, phi, kappa, xs, ys, zs, f = params\n",
    "    image_dims = image_dimensions(globname)\n",
    "    image_dims_reversed = np.array([image_dims[1], \\\n",
    "        image_dims[0]])\n",
    "\n",
    "    # Rearrange\n",
    "    print \"working on: \", filename\n",
    "    dat = np.load(filename).T.copy()\n",
    "\n",
    "    # Multiply by -1 because it apears as inverse; use orient?\n",
    "    pixel_xy = 1.0*colin(params, dat) \n",
    "\n",
    "    # un-center pixel (x,y)\n",
    "    x = image_dims[0]/2 - pixel_xy[:,0].astype(int)\n",
    "    y = image_dims[1]/2 + pixel_xy[:,1].astype(int)\n",
    "\n",
    "    is_in_picture = in_picture(x,y,image_dims)\n",
    "\n",
    "    index = np.arange(is_in_picture.size)[is_in_picture>0]\n",
    "\n",
    "    print \"npix = \", index.size\n",
    "\n",
    "    distgrid = np.ones(image_dims_reversed)*(100000.0)\n",
    "    xgrid =  -1.*np.ones(image_dims_reversed)\n",
    "    ygrid = -1.*np.ones(image_dims_reversed)\n",
    "\n",
    "    if index.size==0:\n",
    "        print \"no points, returning...\"\n",
    "        return [distgrid, xgrid, ygrid]\n",
    "\n",
    "    n   = distance(xs,ys,zs, dat[index,0],dat[index,1],dat[index,2]) \n",
    "    x   = x[index]\n",
    "    y   = y[index]\n",
    "    dat = dat[index]\n",
    "\n",
    "    # Add each point to the arrays, given it is visibile (vis[i] == 1)\n",
    "    # And it is closer to the camera than the current value stored in \n",
    "    # the corresponding pixel of the distance array\n",
    "\n",
    "    nx = distgrid.shape[1]-1\n",
    "    ny = distgrid.shape[0]-1\n",
    "\n",
    "    for ii in range(index.size):\n",
    "        if n[ii]<distgrid[ny-y[ii],nx-x[ii]] and n[ii]>500:\n",
    "            distgrid[ny-y[ii],nx-x[ii]] = n[ii]\n",
    "            xgrid[ny-y[ii],nx-x[ii]] = dat[ii,0]\n",
    "            ygrid[ny-y[ii],nx-x[ii]] = dat[ii,1]\n",
    "\n",
    "    print \"Done with: \",filename\n",
    "    return [distgrid, xgrid, ygrid]\n",
    "\n",
    "yield reshaped\n",
    "        break"
   ]
  },
  {
   "cell_type": "code",
   "execution_count": null,
   "metadata": {
    "collapsed": true
   },
   "outputs": [],
   "source": []
  }
 ],
 "metadata": {
  "anaconda-cloud": {},
  "kernelspec": {
   "display_name": "Python [default]",
   "language": "python",
   "name": "python2"
  },
  "language_info": {
   "codemirror_mode": {
    "name": "ipython",
    "version": 2
   },
   "file_extension": ".py",
   "mimetype": "text/x-python",
   "name": "python",
   "nbconvert_exporter": "python",
   "pygments_lexer": "ipython2",
   "version": "2.7.12"
  }
 },
 "nbformat": 4,
 "nbformat_minor": 1
}
