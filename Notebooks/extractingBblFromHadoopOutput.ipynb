{
 "cells": [
  {
   "cell_type": "markdown",
   "metadata": {},
   "source": [
    "# Identifying the Building block lot (BBL) information of each pixel of an image\n",
    "\n",
    "The input of this file is the xgrid and ygrid obtained after running the data in the hadoop cluster and cascading the data. The xgrid contains the longitude location of the information in the pixel. The ygrid contains the latitude location of the information of the pixel.\n",
    "\n",
    "As an output to this file, we obtain the BBLs of each pixel in the image."
   ]
  },
  {
   "cell_type": "code",
   "execution_count": null,
   "metadata": {
    "collapsed": false
   },
   "outputs": [],
   "source": [
    "import numpy as np\n",
    "import geopandas as gp\n",
    "from shapely.geometry import Point"
   ]
  },
  {
   "cell_type": "code",
   "execution_count": null,
   "metadata": {
    "collapsed": false
   },
   "outputs": [],
   "source": [
    "#Loading the xgrid and ygrid data obtained after cascading the data\n",
    "xgrid = np.load('final_grids/xgrid_cascade.npy')\n",
    "ygrid = np.load('final_grids/ygrid_cascade.npy')"
   ]
  },
  {
   "cell_type": "code",
   "execution_count": null,
   "metadata": {
    "collapsed": false
   },
   "outputs": [],
   "source": [
    "#Reading the Map Pluto Data\n",
    "print \"Reading data from mappluto data and extracting x,y of lot centroids\"\n",
    "mn = gp.GeoDataFrame('Mn_mappluto_16v2/MNMapPLUTO.shp')\n",
    "mn_cenx = np.array([i.x for i in mn['geometry'].centroid])\n",
    "mn_ceny = np.array([i.y for i in mn['geometry'].centroid])\n",
    "mn_geo  = np.array(mn['geometry'])\n",
    "mn_bbl  = np.array(mn['BBL'])"
   ]
  },
  {
   "cell_type": "code",
   "execution_count": null,
   "metadata": {
    "collapsed": true
   },
   "outputs": [],
   "source": [
    "#Initializing a numpy array which will contain the borough-building-lot information\n",
    "bblgrid = np.zeros(xgrid.shape)\n",
    "rad2 = 500.**2 #Initializing a radius of 500 feet and squaring it\n",
    "nrow, ncol = xgrid.shape"
   ]
  },
  {
   "cell_type": "markdown",
   "metadata": {},
   "source": [
    "### Note: The for loop below is computationally expensive"
   ]
  },
  {
   "cell_type": "code",
   "execution_count": null,
   "metadata": {
    "collapsed": false
   },
   "outputs": [],
   "source": [
    "#Loop to identify the BBL number contained in each pixel of the image using the xgrid and ygrid information\n",
    "for ii in range(nrow):\n",
    "    print \"row {0} of {1}\\r\".format(ii+1,nrow),\n",
    "    sys.stdout.flush()\n",
    "    for jj in range(ncol):\n",
    "        xpos = xgrid[ii,jj]\n",
    "        ypos = ygrid[ii,jj]\n",
    "        pnt  = Point(xpos,ypos)\n",
    "        ind  = ((mn_cenx-xpos)**2+(mn_ceny-ypos)**2)<rad2\n",
    "\n",
    "        for geo,bbl in zip(mn_geo[ind],mn_bbl[ind]):\n",
    "            if geo.contains(pnt):\n",
    "                bblgrid[ii,jj] = bbl\n",
    "                continue\n",
    "\n",
    "#Saving output to numpy file\n",
    "np.save('bbl_image.npy',bblgrid)"
   ]
  }
 ],
 "metadata": {
  "kernelspec": {
   "display_name": "Python 2",
   "language": "python",
   "name": "python2"
  },
  "language_info": {
   "codemirror_mode": {
    "name": "ipython",
    "version": 2
   },
   "file_extension": ".py",
   "mimetype": "text/x-python",
   "name": "python",
   "nbconvert_exporter": "python",
   "pygments_lexer": "ipython2",
   "version": "2.7.13"
  }
 },
 "nbformat": 4,
 "nbformat_minor": 2
}
