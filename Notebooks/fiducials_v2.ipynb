{
 "cells": [
  {
   "cell_type": "code",
   "execution_count": 7,
   "metadata": {
    "collapsed": true
   },
   "outputs": [],
   "source": [
    "# Empire State, upper corner \n",
    "\n",
    "# Coord: 988328.741, 211962.778\n",
    "# Pixel: 507, 856 (column, row) \n",
    "# Height = 1020.623838"
   ]
  },
  {
   "cell_type": "code",
   "execution_count": 2,
   "metadata": {
    "collapsed": true
   },
   "outputs": [],
   "source": [
    "# 1 WTC, center edge\n",
    "\n",
    "# Coord: 980648.447, 199131.861\n",
    "# Pixel: 1681, 1004\n",
    "# Height = 1380.707975"
   ]
  },
  {
   "cell_type": "code",
   "execution_count": 4,
   "metadata": {
    "collapsed": true
   },
   "outputs": [],
   "source": [
    "# LaGuardia Place, second leftmost edge \n",
    "\n",
    "# Coord: 984574.798, 204219.63\n",
    "# Pixel: 1362, 1234\n",
    "# Height = 303.263412"
   ]
  },
  {
   "cell_type": "code",
   "execution_count": 5,
   "metadata": {
    "collapsed": true
   },
   "outputs": [],
   "source": [
    "# Flatiron, left point on triange rooftop, under the fence \n",
    "\n",
    "# Coord: 987140.31, 209161.591\n",
    "# Pixel: 1037, 1355\n",
    "# Height = 324.317488"
   ]
  },
  {
   "cell_type": "code",
   "execution_count": 8,
   "metadata": {
    "collapsed": true
   },
   "outputs": [],
   "source": [
    "# 755 Broadway, leftmost corner on the roof\n",
    "\n",
    "# Coord: 986252.724, 205516.404\n",
    "# Pixel: 1013, 1237\n",
    "# Height: 365.468789"
   ]
  },
  {
   "cell_type": "code",
   "execution_count": null,
   "metadata": {
    "collapsed": true
   },
   "outputs": [],
   "source": []
  }
 ],
 "metadata": {
  "anaconda-cloud": {},
  "kernelspec": {
   "display_name": "Python [conda root]",
   "language": "python",
   "name": "conda-root-py"
  },
  "language_info": {
   "codemirror_mode": {
    "name": "ipython",
    "version": 2
   },
   "file_extension": ".py",
   "mimetype": "text/x-python",
   "name": "python",
   "nbconvert_exporter": "python",
   "pygments_lexer": "ipython2",
   "version": "2.7.12"
  }
 },
 "nbformat": 4,
 "nbformat_minor": 0
}
