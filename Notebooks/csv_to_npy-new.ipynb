{
 "cells": [
  {
   "cell_type": "code",
   "execution_count": 1,
   "metadata": {
    "collapsed": false
   },
   "outputs": [],
   "source": [
    "import numpy as np\n",
    "import pandas as pd\n",
    "from numpy import genfromtxt\n",
    "import csv\n",
    "import glob"
   ]
  },
  {
   "cell_type": "code",
   "execution_count": 2,
   "metadata": {
    "collapsed": false
   },
   "outputs": [],
   "source": [
    "path = '../LowerMN_tiles/x-*_y-*.csv'\n",
    "flist = glob.glob(path)"
   ]
  },
  {
   "cell_type": "code",
   "execution_count": 3,
   "metadata": {
    "collapsed": false
   },
   "outputs": [
    {
     "name": "stdout",
     "output_type": "stream",
     "text": [
      "2\n",
      "3\n",
      "4\n",
      "5\n",
      "6\n",
      "7\n",
      "8\n",
      "9\n",
      "10\n",
      "11\n",
      "12\n",
      "13\n",
      "14\n",
      "15\n",
      "16\n",
      "17\n",
      "18\n",
      "19\n",
      "20\n",
      "21\n",
      "22\n",
      "23\n",
      "24\n",
      "25\n",
      "26\n",
      "27\n",
      "28\n",
      "29\n",
      "30\n",
      "31\n",
      "32\n",
      "34\n",
      "35\n",
      "36\n",
      "37\n",
      "38\n",
      "39\n",
      "40\n",
      "41\n",
      "42\n",
      "43\n",
      "44\n",
      "46\n",
      "47\n",
      "48\n",
      "49\n",
      "50\n",
      "51\n",
      "52\n",
      "53\n",
      "54\n",
      "55\n",
      "56\n",
      "58\n",
      "59\n",
      "60\n",
      "61\n",
      "62\n",
      "63\n",
      "64\n",
      "65\n",
      "66\n",
      "67\n",
      "68\n",
      "70\n",
      "71\n",
      "72\n",
      "73\n",
      "74\n",
      "75\n",
      "76\n",
      "77\n",
      "78\n",
      "80\n",
      "81\n",
      "82\n",
      "83\n",
      "85\n",
      "86\n",
      "87\n",
      "88\n",
      "90\n",
      "91\n",
      "92\n",
      "93\n",
      "95\n",
      "96\n",
      "97\n"
     ]
    }
   ],
   "source": [
    "file_number = []\n",
    "for i in range(len(flist)):\n",
    "#     if i == 2:\n",
    "#         continue\n",
    "    df = pd.read_csv(flist[i], header=None)\n",
    "    if ((len(df.columns) == 2048 ) & (len(df) == 2048)):\n",
    "        print i\n",
    "        file_number.append(i)"
   ]
  },
  {
   "cell_type": "code",
   "execution_count": 4,
   "metadata": {
    "collapsed": false
   },
   "outputs": [
    {
     "data": {
      "text/plain": [
       "['../LowerMN_tiles\\\\x-1001507.241501_y-219055.073690.csv',\n",
       " '../LowerMN_tiles\\\\x-1001507.241501_y-220149.073690.csv',\n",
       " '../LowerMN_tiles\\\\x-978979.241501_y-196527.073690.csv',\n",
       " '../LowerMN_tiles\\\\x-978979.241501_y-198575.073690.csv',\n",
       " '../LowerMN_tiles\\\\x-978979.241501_y-200623.073690.csv',\n",
       " '../LowerMN_tiles\\\\x-978979.241501_y-202671.073690.csv',\n",
       " '../LowerMN_tiles\\\\x-978979.241501_y-204719.073690.csv',\n",
       " '../LowerMN_tiles\\\\x-978979.241501_y-206767.073690.csv',\n",
       " '../LowerMN_tiles\\\\x-978979.241501_y-208815.073690.csv',\n",
       " '../LowerMN_tiles\\\\x-978979.241501_y-210863.073690.csv',\n",
       " '../LowerMN_tiles\\\\x-981027.241501_y-196527.073690.csv',\n",
       " '../LowerMN_tiles\\\\x-981027.241501_y-198575.073690.csv',\n",
       " '../LowerMN_tiles\\\\x-981027.241501_y-200623.073690.csv',\n",
       " '../LowerMN_tiles\\\\x-981027.241501_y-202671.073690.csv',\n",
       " '../LowerMN_tiles\\\\x-981027.241501_y-204719.073690.csv',\n",
       " '../LowerMN_tiles\\\\x-981027.241501_y-206767.073690.csv',\n",
       " '../LowerMN_tiles\\\\x-981027.241501_y-208815.073690.csv',\n",
       " '../LowerMN_tiles\\\\x-981027.241501_y-210863.073690.csv',\n",
       " '../LowerMN_tiles\\\\x-981027.241501_y-212911.073690.csv',\n",
       " '../LowerMN_tiles\\\\x-981027.241501_y-214959.073690.csv',\n",
       " '../LowerMN_tiles\\\\x-981027.241501_y-217007.073690.csv',\n",
       " '../LowerMN_tiles\\\\x-983075.241501_y-196527.073690.csv',\n",
       " '../LowerMN_tiles\\\\x-983075.241501_y-198575.073690.csv',\n",
       " '../LowerMN_tiles\\\\x-983075.241501_y-200623.073690.csv',\n",
       " '../LowerMN_tiles\\\\x-983075.241501_y-202671.073690.csv',\n",
       " '../LowerMN_tiles\\\\x-983075.241501_y-204719.073690.csv',\n",
       " '../LowerMN_tiles\\\\x-983075.241501_y-206767.073690.csv',\n",
       " '../LowerMN_tiles\\\\x-983075.241501_y-208815.073690.csv',\n",
       " '../LowerMN_tiles\\\\x-983075.241501_y-210863.073690.csv',\n",
       " '../LowerMN_tiles\\\\x-983075.241501_y-212911.073690.csv',\n",
       " '../LowerMN_tiles\\\\x-983075.241501_y-214959.073690.csv',\n",
       " '../LowerMN_tiles\\\\x-983075.241501_y-217007.073690.csv',\n",
       " '../LowerMN_tiles\\\\x-983075.241501_y-219055.073690.csv',\n",
       " '../LowerMN_tiles\\\\x-983075.241501_y-220149.073690.csv',\n",
       " '../LowerMN_tiles\\\\x-985123.241501_y-198575.073690.csv',\n",
       " '../LowerMN_tiles\\\\x-985123.241501_y-200623.073690.csv',\n",
       " '../LowerMN_tiles\\\\x-985123.241501_y-202671.073690.csv',\n",
       " '../LowerMN_tiles\\\\x-985123.241501_y-204719.073690.csv',\n",
       " '../LowerMN_tiles\\\\x-985123.241501_y-206767.073690.csv',\n",
       " '../LowerMN_tiles\\\\x-985123.241501_y-208815.073690.csv',\n",
       " '../LowerMN_tiles\\\\x-985123.241501_y-210863.073690.csv',\n",
       " '../LowerMN_tiles\\\\x-985123.241501_y-212911.073690.csv',\n",
       " '../LowerMN_tiles\\\\x-985123.241501_y-214959.073690.csv',\n",
       " '../LowerMN_tiles\\\\x-985123.241501_y-217007.073690.csv',\n",
       " '../LowerMN_tiles\\\\x-985123.241501_y-219055.073690.csv',\n",
       " '../LowerMN_tiles\\\\x-985123.241501_y-220149.073690.csv',\n",
       " '../LowerMN_tiles\\\\x-987171.241501_y-198575.073690.csv',\n",
       " '../LowerMN_tiles\\\\x-987171.241501_y-200623.073690.csv',\n",
       " '../LowerMN_tiles\\\\x-987171.241501_y-202671.073690.csv',\n",
       " '../LowerMN_tiles\\\\x-987171.241501_y-204719.073690.csv',\n",
       " '../LowerMN_tiles\\\\x-987171.241501_y-206767.073690.csv',\n",
       " '../LowerMN_tiles\\\\x-987171.241501_y-208815.073690.csv',\n",
       " '../LowerMN_tiles\\\\x-987171.241501_y-210863.073690.csv',\n",
       " '../LowerMN_tiles\\\\x-987171.241501_y-212911.073690.csv',\n",
       " '../LowerMN_tiles\\\\x-987171.241501_y-214959.073690.csv',\n",
       " '../LowerMN_tiles\\\\x-987171.241501_y-217007.073690.csv',\n",
       " '../LowerMN_tiles\\\\x-987171.241501_y-219055.073690.csv',\n",
       " '../LowerMN_tiles\\\\x-987171.241501_y-220149.073690.csv',\n",
       " '../LowerMN_tiles\\\\x-989219.241501_y-198575.073690.csv',\n",
       " '../LowerMN_tiles\\\\x-989219.241501_y-200623.073690.csv',\n",
       " '../LowerMN_tiles\\\\x-989219.241501_y-202671.073690.csv',\n",
       " '../LowerMN_tiles\\\\x-989219.241501_y-204719.073690.csv',\n",
       " '../LowerMN_tiles\\\\x-989219.241501_y-206767.073690.csv',\n",
       " '../LowerMN_tiles\\\\x-989219.241501_y-208815.073690.csv',\n",
       " '../LowerMN_tiles\\\\x-989219.241501_y-210863.073690.csv',\n",
       " '../LowerMN_tiles\\\\x-989219.241501_y-212911.073690.csv',\n",
       " '../LowerMN_tiles\\\\x-989219.241501_y-214959.073690.csv',\n",
       " '../LowerMN_tiles\\\\x-989219.241501_y-217007.073690.csv',\n",
       " '../LowerMN_tiles\\\\x-989219.241501_y-219055.073690.csv',\n",
       " '../LowerMN_tiles\\\\x-989219.241501_y-220149.073690.csv',\n",
       " '../LowerMN_tiles\\\\x-991267.241501_y-202671.073690.csv',\n",
       " '../LowerMN_tiles\\\\x-991267.241501_y-204719.073690.csv',\n",
       " '../LowerMN_tiles\\\\x-991267.241501_y-206767.073690.csv',\n",
       " '../LowerMN_tiles\\\\x-991267.241501_y-208815.073690.csv',\n",
       " '../LowerMN_tiles\\\\x-991267.241501_y-210863.073690.csv',\n",
       " '../LowerMN_tiles\\\\x-991267.241501_y-212911.073690.csv',\n",
       " '../LowerMN_tiles\\\\x-991267.241501_y-214959.073690.csv',\n",
       " '../LowerMN_tiles\\\\x-991267.241501_y-217007.073690.csv',\n",
       " '../LowerMN_tiles\\\\x-991267.241501_y-219055.073690.csv',\n",
       " '../LowerMN_tiles\\\\x-991267.241501_y-220149.073690.csv',\n",
       " '../LowerMN_tiles\\\\x-993315.241501_y-212911.073690.csv',\n",
       " '../LowerMN_tiles\\\\x-993315.241501_y-214959.073690.csv',\n",
       " '../LowerMN_tiles\\\\x-993315.241501_y-217007.073690.csv',\n",
       " '../LowerMN_tiles\\\\x-993315.241501_y-219055.073690.csv',\n",
       " '../LowerMN_tiles\\\\x-993315.241501_y-220149.073690.csv',\n",
       " '../LowerMN_tiles\\\\x-995363.241501_y-212911.073690.csv',\n",
       " '../LowerMN_tiles\\\\x-995363.241501_y-214959.073690.csv',\n",
       " '../LowerMN_tiles\\\\x-995363.241501_y-217007.073690.csv',\n",
       " '../LowerMN_tiles\\\\x-995363.241501_y-219055.073690.csv',\n",
       " '../LowerMN_tiles\\\\x-995363.241501_y-220149.073690.csv',\n",
       " '../LowerMN_tiles\\\\x-997411.241501_y-212911.073690.csv',\n",
       " '../LowerMN_tiles\\\\x-997411.241501_y-214959.073690.csv',\n",
       " '../LowerMN_tiles\\\\x-997411.241501_y-217007.073690.csv',\n",
       " '../LowerMN_tiles\\\\x-997411.241501_y-219055.073690.csv',\n",
       " '../LowerMN_tiles\\\\x-997411.241501_y-220149.073690.csv',\n",
       " '../LowerMN_tiles\\\\x-999459.241501_y-214959.073690.csv',\n",
       " '../LowerMN_tiles\\\\x-999459.241501_y-217007.073690.csv',\n",
       " '../LowerMN_tiles\\\\x-999459.241501_y-219055.073690.csv',\n",
       " '../LowerMN_tiles\\\\x-999459.241501_y-220149.073690.csv']"
      ]
     },
     "execution_count": 4,
     "metadata": {},
     "output_type": "execute_result"
    }
   ],
   "source": [
    "flist"
   ]
  },
  {
   "cell_type": "code",
   "execution_count": 5,
   "metadata": {
    "collapsed": true
   },
   "outputs": [],
   "source": [
    "x_val = []\n",
    "y_val = []\n",
    "for i in file_number:\n",
    "    x_val.append(float(flist[i][19:32]))\n",
    "    y_val.append(float(flist[i][35:48]))"
   ]
  },
  {
   "cell_type": "code",
   "execution_count": 6,
   "metadata": {
    "collapsed": false
   },
   "outputs": [
    {
     "data": {
      "text/plain": [
       "88"
      ]
     },
     "execution_count": 6,
     "metadata": {},
     "output_type": "execute_result"
    }
   ],
   "source": [
    "len(file_number)"
   ]
  },
  {
   "cell_type": "code",
   "execution_count": 7,
   "metadata": {
    "collapsed": false
   },
   "outputs": [
    {
     "name": "stdout",
     "output_type": "stream",
     "text": [
      "x-978979.241501_y-196527.073690_new.npy\n",
      "x-978979.241501_y-198575.073690_new.npy\n",
      "x-978979.241501_y-200623.073690_new.npy\n",
      "x-978979.241501_y-202671.073690_new.npy\n",
      "x-978979.241501_y-204719.073690_new.npy\n",
      "x-978979.241501_y-206767.073690_new.npy\n",
      "x-978979.241501_y-208815.073690_new.npy\n",
      "x-978979.241501_y-210863.073690_new.npy\n",
      "x-981027.241501_y-196527.073690_new.npy\n",
      "x-981027.241501_y-198575.073690_new.npy\n",
      "x-981027.241501_y-200623.073690_new.npy\n",
      "x-981027.241501_y-202671.073690_new.npy\n",
      "x-981027.241501_y-204719.073690_new.npy\n",
      "x-981027.241501_y-206767.073690_new.npy\n",
      "x-981027.241501_y-208815.073690_new.npy\n",
      "x-981027.241501_y-210863.073690_new.npy\n",
      "x-981027.241501_y-212911.073690_new.npy\n",
      "x-981027.241501_y-214959.073690_new.npy\n",
      "x-981027.241501_y-217007.073690_new.npy\n",
      "x-983075.241501_y-196527.073690_new.npy\n",
      "x-983075.241501_y-198575.073690_new.npy\n",
      "x-983075.241501_y-200623.073690_new.npy\n",
      "x-983075.241501_y-202671.073690_new.npy\n",
      "x-983075.241501_y-204719.073690_new.npy\n",
      "x-983075.241501_y-206767.073690_new.npy\n",
      "x-983075.241501_y-208815.073690_new.npy\n",
      "x-983075.241501_y-210863.073690_new.npy\n",
      "x-983075.241501_y-212911.073690_new.npy\n",
      "x-983075.241501_y-214959.073690_new.npy\n",
      "x-983075.241501_y-217007.073690_new.npy\n",
      "x-983075.241501_y-219055.073690_new.npy\n",
      "x-985123.241501_y-198575.073690_new.npy\n",
      "x-985123.241501_y-200623.073690_new.npy\n",
      "x-985123.241501_y-202671.073690_new.npy\n",
      "x-985123.241501_y-204719.073690_new.npy\n",
      "x-985123.241501_y-206767.073690_new.npy\n",
      "x-985123.241501_y-208815.073690_new.npy\n",
      "x-985123.241501_y-210863.073690_new.npy\n",
      "x-985123.241501_y-212911.073690_new.npy\n",
      "x-985123.241501_y-214959.073690_new.npy\n",
      "x-985123.241501_y-217007.073690_new.npy\n",
      "x-985123.241501_y-219055.073690_new.npy\n",
      "x-987171.241501_y-198575.073690_new.npy\n",
      "x-987171.241501_y-200623.073690_new.npy\n",
      "x-987171.241501_y-202671.073690_new.npy\n",
      "x-987171.241501_y-204719.073690_new.npy\n",
      "x-987171.241501_y-206767.073690_new.npy\n",
      "x-987171.241501_y-208815.073690_new.npy\n",
      "x-987171.241501_y-210863.073690_new.npy\n",
      "x-987171.241501_y-212911.073690_new.npy\n",
      "x-987171.241501_y-214959.073690_new.npy\n",
      "x-987171.241501_y-217007.073690_new.npy\n",
      "x-987171.241501_y-219055.073690_new.npy\n",
      "x-989219.241501_y-198575.073690_new.npy\n",
      "x-989219.241501_y-200623.073690_new.npy\n",
      "x-989219.241501_y-202671.073690_new.npy\n",
      "x-989219.241501_y-204719.073690_new.npy\n",
      "x-989219.241501_y-206767.073690_new.npy\n",
      "x-989219.241501_y-208815.073690_new.npy\n",
      "x-989219.241501_y-210863.073690_new.npy\n",
      "x-989219.241501_y-212911.073690_new.npy\n",
      "x-989219.241501_y-214959.073690_new.npy\n",
      "x-989219.241501_y-217007.073690_new.npy\n",
      "x-989219.241501_y-219055.073690_new.npy\n",
      "x-991267.241501_y-202671.073690_new.npy\n",
      "x-991267.241501_y-204719.073690_new.npy\n",
      "x-991267.241501_y-206767.073690_new.npy\n",
      "x-991267.241501_y-208815.073690_new.npy\n",
      "x-991267.241501_y-210863.073690_new.npy\n",
      "x-991267.241501_y-212911.073690_new.npy\n",
      "x-991267.241501_y-214959.073690_new.npy\n",
      "x-991267.241501_y-217007.073690_new.npy\n",
      "x-991267.241501_y-219055.073690_new.npy\n",
      "x-993315.241501_y-212911.073690_new.npy\n",
      "x-993315.241501_y-214959.073690_new.npy\n",
      "x-993315.241501_y-217007.073690_new.npy\n",
      "x-993315.241501_y-219055.073690_new.npy\n",
      "x-995363.241501_y-212911.073690_new.npy\n",
      "x-995363.241501_y-214959.073690_new.npy\n",
      "x-995363.241501_y-217007.073690_new.npy\n",
      "x-995363.241501_y-219055.073690_new.npy\n",
      "x-997411.241501_y-212911.073690_new.npy\n",
      "x-997411.241501_y-214959.073690_new.npy\n",
      "x-997411.241501_y-217007.073690_new.npy\n",
      "x-997411.241501_y-219055.073690_new.npy\n",
      "x-999459.241501_y-214959.073690_new.npy\n",
      "x-999459.241501_y-217007.073690_new.npy\n",
      "x-999459.241501_y-219055.073690_new.npy\n"
     ]
    }
   ],
   "source": [
    "for a, i in enumerate(file_number):\n",
    "    coordinate_X, coordinate_Y, file_ = x_val[a], y_val[a], flist[i]\n",
    "    x = np.linspace(coordinate_X, coordinate_X + 2048, 2048)\n",
    "    y = np.linspace(coordinate_Y, coordinate_Y - 2048, 2048)\n",
    "    xx, yy= np.meshgrid(x, y)\n",
    "\n",
    "    xx = xx.reshape(-1)\n",
    "    yy = yy.reshape(-1)\n",
    "    z_data = genfromtxt(flist[i], delimiter=',')\n",
    "    z = z_data.reshape(-1)\n",
    "\n",
    "    # x_val[0], y_val[0], flist[file_number[0]]\n",
    "\n",
    "    coordinates = np.zeros((4194304, 3))\n",
    "    coordinates[:,0] = xx\n",
    "    coordinates[:,1] = yy\n",
    "    coordinates[:,2] = z\n",
    "    filename = flist[i][17:-4] + \"_new.npy\"\n",
    "    print filename\n",
    "    np.save(filename, coordinates)"
   ]
  },
  {
   "cell_type": "code",
   "execution_count": 8,
   "metadata": {
    "collapsed": false
   },
   "outputs": [
    {
     "name": "stdout",
     "output_type": "stream",
     "text": [
      "columns:\n",
      "../LowerMN_tiles\\x-1001507.241501_y-219055.073690.csv : 1253\n",
      "columns:\n",
      "../LowerMN_tiles\\x-1001507.241501_y-220149.073690.csv : 1253\n",
      "rows:\n",
      "../LowerMN_tiles\\x-1001507.241501_y-220149.073690.csv : 1094\n",
      "rows:\n",
      "../LowerMN_tiles\\x-983075.241501_y-220149.073690.csv : 1094\n",
      "rows:\n",
      "../LowerMN_tiles\\x-985123.241501_y-220149.073690.csv : 1094\n",
      "rows:\n",
      "../LowerMN_tiles\\x-987171.241501_y-220149.073690.csv : 1094\n",
      "rows:\n",
      "../LowerMN_tiles\\x-989219.241501_y-220149.073690.csv : 1094\n",
      "rows:\n",
      "../LowerMN_tiles\\x-991267.241501_y-220149.073690.csv : 1094\n",
      "rows:\n",
      "../LowerMN_tiles\\x-993315.241501_y-220149.073690.csv : 1094\n",
      "rows:\n",
      "../LowerMN_tiles\\x-995363.241501_y-220149.073690.csv : 1094\n",
      "rows:\n",
      "../LowerMN_tiles\\x-997411.241501_y-220149.073690.csv : 1094\n",
      "rows:\n",
      "../LowerMN_tiles\\x-999459.241501_y-220149.073690.csv : 1094\n"
     ]
    }
   ],
   "source": [
    "for i in range(len(flist)):\n",
    "    df = pd.read_csv(flist[i], header=None)\n",
    "    if len(df.columns) != 2048:\n",
    "        print 'columns:'\n",
    "        print flist[i], \":\", len(df.columns)\n",
    "    if len(df) != 2048:    \n",
    "        print 'rows:'\n",
    "        print flist[i], \":\", len(df)"
   ]
  },
  {
   "cell_type": "code",
   "execution_count": 9,
   "metadata": {
    "collapsed": false
   },
   "outputs": [
    {
     "name": "stdout",
     "output_type": "stream",
     "text": [
      "0\n",
      "1\n",
      "33\n",
      "45\n",
      "57\n",
      "69\n",
      "79\n",
      "84\n",
      "89\n",
      "94\n",
      "98\n"
     ]
    }
   ],
   "source": [
    "file_number_not = []\n",
    "for i in range(len(flist)):\n",
    "    df = pd.read_csv(flist[i], header=None)\n",
    "    if ((len(df.columns) != 2048 ) | (len(df) != 2048)):\n",
    "        print i\n",
    "        file_number_not.append(i)"
   ]
  },
  {
   "cell_type": "code",
   "execution_count": 10,
   "metadata": {
    "collapsed": false
   },
   "outputs": [
    {
     "name": "stdout",
     "output_type": "stream",
     "text": [
      "../LowerMN_tiles\\x-1001507.241501_y-219055.073690.csv\n",
      "../LowerMN_tiles\\x-1001507.241501_y-220149.073690.csv\n",
      "../LowerMN_tiles\\x-983075.241501_y-220149.073690.csv\n",
      "../LowerMN_tiles\\x-985123.241501_y-220149.073690.csv\n",
      "../LowerMN_tiles\\x-987171.241501_y-220149.073690.csv\n",
      "../LowerMN_tiles\\x-989219.241501_y-220149.073690.csv\n",
      "../LowerMN_tiles\\x-991267.241501_y-220149.073690.csv\n",
      "../LowerMN_tiles\\x-993315.241501_y-220149.073690.csv\n",
      "../LowerMN_tiles\\x-995363.241501_y-220149.073690.csv\n",
      "../LowerMN_tiles\\x-997411.241501_y-220149.073690.csv\n",
      "../LowerMN_tiles\\x-999459.241501_y-220149.073690.csv\n"
     ]
    }
   ],
   "source": [
    "for i in file_number_not:\n",
    "    print flist[i]"
   ]
  },
  {
   "cell_type": "code",
   "execution_count": 11,
   "metadata": {
    "collapsed": true
   },
   "outputs": [],
   "source": [
    "x_val = []\n",
    "y_val = []\n",
    "for i in file_number_not:\n",
    "    if i < 2:\n",
    "        x_val.append(float(flist[i][19:33]))\n",
    "        y_val.append(float(flist[i][36:49]))\n",
    "    else:\n",
    "        x_val.append(float(flist[i][19:32]))\n",
    "        y_val.append(float(flist[i][35:48]))"
   ]
  },
  {
   "cell_type": "code",
   "execution_count": 12,
   "metadata": {
    "collapsed": false
   },
   "outputs": [
    {
     "data": {
      "text/plain": [
       "11"
      ]
     },
     "execution_count": 12,
     "metadata": {},
     "output_type": "execute_result"
    }
   ],
   "source": [
    "len(file_number_not)"
   ]
  },
  {
   "cell_type": "code",
   "execution_count": 13,
   "metadata": {
    "collapsed": false
   },
   "outputs": [
    {
     "data": {
      "text/plain": [
       "(2047, 1253)"
      ]
     },
     "execution_count": 13,
     "metadata": {},
     "output_type": "execute_result"
    }
   ],
   "source": [
    "pd.read_csv(flist[0]).shape"
   ]
  },
  {
   "cell_type": "code",
   "execution_count": 46,
   "metadata": {
    "collapsed": false
   },
   "outputs": [
    {
     "name": "stdout",
     "output_type": "stream",
     "text": [
      "(2566144,) (2566144,) (2566144,)\n",
      "x-1001507.241501_y-219055.073690_new.npy\n"
     ]
    }
   ],
   "source": [
    "coordinate_X, coordinate_Y, file_ = x_val[0], y_val[0], flist[0]\n",
    "x = np.linspace(coordinate_X, coordinate_X + 2048, 2048)\n",
    "y = np.linspace(coordinate_Y, coordinate_Y - 1253, 1253)\n",
    "xx, yy= np.meshgrid(x, y)\n",
    "\n",
    "xx = xx.reshape(-1)\n",
    "yy = yy.reshape(-1)\n",
    "z_data = genfromtxt(flist[0], delimiter=',')\n",
    "z = z_data.reshape(-1)\n",
    "print xx.shape, yy.shape, z.shape\n",
    "    # x_val[0], y_val[0], flist[file_number[0]]\n",
    "val = 2566144\n",
    "coordinates = np.zeros((val, 3))\n",
    "coordinates[:,0] = xx\n",
    "coordinates[:,1] = yy\n",
    "coordinates[:,2] = z\n",
    "filename = flist[0][17:-4] + \"_new.npy\"\n",
    "print filename\n",
    "np.save(filename, coordinates)"
   ]
  },
  {
   "cell_type": "code",
   "execution_count": 47,
   "metadata": {
    "collapsed": false
   },
   "outputs": [
    {
     "data": {
      "text/plain": [
       "(1093, 1253)"
      ]
     },
     "execution_count": 47,
     "metadata": {},
     "output_type": "execute_result"
    }
   ],
   "source": [
    "pd.read_csv(flist[1]).shape"
   ]
  },
  {
   "cell_type": "code",
   "execution_count": 48,
   "metadata": {
    "collapsed": false
   },
   "outputs": [
    {
     "name": "stdout",
     "output_type": "stream",
     "text": [
      "(1370782,) (1370782,) (1370782,)\n",
      "x-1001507.241501_y-220149.073690_new.npy\n"
     ]
    }
   ],
   "source": [
    "coordinate_X, coordinate_Y, file_ = x_val[1], y_val[1], flist[1]\n",
    "x = np.linspace(coordinate_X, coordinate_X + 1094, 1094)\n",
    "y = np.linspace(coordinate_Y, coordinate_Y - 1253, 1253)\n",
    "xx, yy= np.meshgrid(x, y)\n",
    "\n",
    "xx = xx.reshape(-1)\n",
    "yy = yy.reshape(-1)\n",
    "z_data = genfromtxt(flist[1], delimiter=',')\n",
    "z = z_data.reshape(-1)\n",
    "print xx.shape, yy.shape, z.shape\n",
    "    # x_val[0], y_val[0], flist[file_number[0]]\n",
    "val = 1094*1253\n",
    "coordinates = np.zeros((val, 3))\n",
    "coordinates[:,0] = xx\n",
    "coordinates[:,1] = yy\n",
    "coordinates[:,2] = z\n",
    "filename = flist[1][17:-4] + \"_new.npy\"\n",
    "print filename\n",
    "np.save(filename, coordinates)"
   ]
  },
  {
   "cell_type": "code",
   "execution_count": 49,
   "metadata": {
    "collapsed": false
   },
   "outputs": [
    {
     "data": {
      "text/plain": [
       "[0, 1, 33, 45, 57, 69, 79, 84, 89, 94, 98]"
      ]
     },
     "execution_count": 49,
     "metadata": {},
     "output_type": "execute_result"
    }
   ],
   "source": [
    "file_number_not"
   ]
  },
  {
   "cell_type": "code",
   "execution_count": 50,
   "metadata": {
    "collapsed": false
   },
   "outputs": [
    {
     "data": {
      "text/plain": [
       "(1094, 2048)"
      ]
     },
     "execution_count": 50,
     "metadata": {},
     "output_type": "execute_result"
    }
   ],
   "source": [
    "pd.read_csv(flist[33], header=None).shape"
   ]
  },
  {
   "cell_type": "code",
   "execution_count": 51,
   "metadata": {
    "collapsed": false
   },
   "outputs": [
    {
     "name": "stdout",
     "output_type": "stream",
     "text": [
      "(2240512,) (2240512,) (2240512,)\n",
      "x-983075.241501_y-220149.073690_new.npy\n"
     ]
    }
   ],
   "source": [
    "coordinate_X, coordinate_Y, file_ = x_val[2], y_val[2], flist[33]\n",
    "x = np.linspace(coordinate_X, coordinate_X + 1094, 1094)\n",
    "y = np.linspace(coordinate_Y, coordinate_Y - 2048, 2048)\n",
    "xx, yy= np.meshgrid(x, y)\n",
    "\n",
    "xx = xx.reshape(-1)\n",
    "yy = yy.reshape(-1)\n",
    "z_data = genfromtxt(flist[33], delimiter=',')\n",
    "z = z_data.reshape(-1)\n",
    "print xx.shape, yy.shape, z.shape\n",
    "    # x_val[0], y_val[0], flist[file_number[0]]\n",
    "val = 1094*2048\n",
    "coordinates = np.zeros((val, 3))\n",
    "coordinates[:,0] = xx\n",
    "coordinates[:,1] = yy\n",
    "coordinates[:,2] = z\n",
    "filename = flist[33][17:-4] + \"_new.npy\"\n",
    "print filename\n",
    "np.save(filename, coordinates)"
   ]
  },
  {
   "cell_type": "code",
   "execution_count": 52,
   "metadata": {
    "collapsed": false
   },
   "outputs": [
    {
     "data": {
      "text/plain": [
       "(1094, 2048)"
      ]
     },
     "execution_count": 52,
     "metadata": {},
     "output_type": "execute_result"
    }
   ],
   "source": [
    "pd.read_csv(flist[45], header=None).shape"
   ]
  },
  {
   "cell_type": "code",
   "execution_count": 53,
   "metadata": {
    "collapsed": false
   },
   "outputs": [
    {
     "name": "stdout",
     "output_type": "stream",
     "text": [
      "(2240512,) (2240512,) (2240512,)\n",
      "x-985123.241501_y-220149.073690_new.npy\n"
     ]
    }
   ],
   "source": [
    "coordinate_X, coordinate_Y, file_ = x_val[3], y_val[3], flist[45]\n",
    "x = np.linspace(coordinate_X, coordinate_X + 1094, 1094)\n",
    "y = np.linspace(coordinate_Y, coordinate_Y - 2048, 2048)\n",
    "xx, yy= np.meshgrid(x, y)\n",
    "\n",
    "xx = xx.reshape(-1)\n",
    "yy = yy.reshape(-1)\n",
    "z_data = genfromtxt(flist[45], delimiter=',')\n",
    "z = z_data.reshape(-1)\n",
    "print xx.shape, yy.shape, z.shape\n",
    "    # x_val[0], y_val[0], flist[file_number[0]]\n",
    "val = 1094*2048\n",
    "coordinates = np.zeros((val, 3))\n",
    "coordinates[:,0] = xx\n",
    "coordinates[:,1] = yy\n",
    "coordinates[:,2] = z\n",
    "filename = flist[45][17:-4] + \"_new.npy\"\n",
    "print filename\n",
    "np.save(filename, coordinates)"
   ]
  },
  {
   "cell_type": "code",
   "execution_count": 54,
   "metadata": {
    "collapsed": false
   },
   "outputs": [
    {
     "data": {
      "text/plain": [
       "(1094, 2048)"
      ]
     },
     "execution_count": 54,
     "metadata": {},
     "output_type": "execute_result"
    }
   ],
   "source": [
    "pd.read_csv(flist[57], header=None).shape"
   ]
  },
  {
   "cell_type": "code",
   "execution_count": 55,
   "metadata": {
    "collapsed": false
   },
   "outputs": [
    {
     "name": "stdout",
     "output_type": "stream",
     "text": [
      "(2240512,) (2240512,) (2240512,)\n",
      "x-987171.241501_y-220149.073690_new.npy\n"
     ]
    }
   ],
   "source": [
    "coordinate_X, coordinate_Y, file_ = x_val[4], y_val[4], flist[57]\n",
    "x = np.linspace(coordinate_X, coordinate_X + 1094, 1094)\n",
    "y = np.linspace(coordinate_Y, coordinate_Y - 2048, 2048)\n",
    "xx, yy= np.meshgrid(x, y)\n",
    "\n",
    "xx = xx.reshape(-1)\n",
    "yy = yy.reshape(-1)\n",
    "z_data = genfromtxt(flist[57], delimiter=',')\n",
    "z = z_data.reshape(-1)\n",
    "print xx.shape, yy.shape, z.shape\n",
    "    # x_val[0], y_val[0], flist[file_number[0]]\n",
    "val = 1094*2048\n",
    "coordinates = np.zeros((val, 3))\n",
    "coordinates[:,0] = xx\n",
    "coordinates[:,1] = yy\n",
    "coordinates[:,2] = z\n",
    "filename = flist[57][17:-4] + \"_new.npy\"\n",
    "print filename\n",
    "np.save(filename, coordinates)"
   ]
  },
  {
   "cell_type": "code",
   "execution_count": 56,
   "metadata": {
    "collapsed": false
   },
   "outputs": [
    {
     "data": {
      "text/plain": [
       "[0, 1, 33, 45, 57, 69, 79, 84, 89, 94, 98]"
      ]
     },
     "execution_count": 56,
     "metadata": {},
     "output_type": "execute_result"
    }
   ],
   "source": [
    "file_number_not"
   ]
  },
  {
   "cell_type": "code",
   "execution_count": 57,
   "metadata": {
    "collapsed": false
   },
   "outputs": [
    {
     "data": {
      "text/plain": [
       "(1094, 2048)"
      ]
     },
     "execution_count": 57,
     "metadata": {},
     "output_type": "execute_result"
    }
   ],
   "source": [
    "pd.read_csv(flist[69], header=None).shape"
   ]
  },
  {
   "cell_type": "code",
   "execution_count": 58,
   "metadata": {
    "collapsed": false
   },
   "outputs": [
    {
     "name": "stdout",
     "output_type": "stream",
     "text": [
      "(2240512,) (2240512,) (2240512,)\n",
      "x-989219.241501_y-220149.073690_new.npy\n"
     ]
    }
   ],
   "source": [
    "coordinate_X, coordinate_Y, file_ = x_val[5], y_val[5], flist[69]\n",
    "x = np.linspace(coordinate_X, coordinate_X + 1094, 1094)\n",
    "y = np.linspace(coordinate_Y, coordinate_Y - 2048, 2048)\n",
    "xx, yy= np.meshgrid(x, y)\n",
    "\n",
    "xx = xx.reshape(-1)\n",
    "yy = yy.reshape(-1)\n",
    "z_data = genfromtxt(flist[69], delimiter=',')\n",
    "z = z_data.reshape(-1)\n",
    "print xx.shape, yy.shape, z.shape\n",
    "    # x_val[0], y_val[0], flist[file_number[0]]\n",
    "val = 1094*2048\n",
    "coordinates = np.zeros((val, 3))\n",
    "coordinates[:,0] = xx\n",
    "coordinates[:,1] = yy\n",
    "coordinates[:,2] = z\n",
    "filename = flist[69][17:-4] + \"_new.npy\"\n",
    "print filename\n",
    "np.save(filename, coordinates)"
   ]
  },
  {
   "cell_type": "code",
   "execution_count": 59,
   "metadata": {
    "collapsed": false
   },
   "outputs": [
    {
     "data": {
      "text/plain": [
       "(1094, 2048)"
      ]
     },
     "execution_count": 59,
     "metadata": {},
     "output_type": "execute_result"
    }
   ],
   "source": [
    "pd.read_csv(flist[79], header=None).shape"
   ]
  },
  {
   "cell_type": "code",
   "execution_count": 60,
   "metadata": {
    "collapsed": false
   },
   "outputs": [
    {
     "name": "stdout",
     "output_type": "stream",
     "text": [
      "(2240512,) (2240512,) (2240512,)\n",
      "x-991267.241501_y-220149.073690_new.npy\n"
     ]
    }
   ],
   "source": [
    "coordinate_X, coordinate_Y, file_ = x_val[6], y_val[6], flist[79]\n",
    "x = np.linspace(coordinate_X, coordinate_X + 1094, 1094)\n",
    "y = np.linspace(coordinate_Y, coordinate_Y - 2048, 2048)\n",
    "xx, yy= np.meshgrid(x, y)\n",
    "\n",
    "xx = xx.reshape(-1)\n",
    "yy = yy.reshape(-1)\n",
    "z_data = genfromtxt(flist[79], delimiter=',')\n",
    "z = z_data.reshape(-1)\n",
    "print xx.shape, yy.shape, z.shape\n",
    "    # x_val[0], y_val[0], flist[file_number[0]]\n",
    "val = 1094*2048\n",
    "coordinates = np.zeros((val, 3))\n",
    "coordinates[:,0] = xx\n",
    "coordinates[:,1] = yy\n",
    "coordinates[:,2] = z\n",
    "filename = flist[79][17:-4] + \"_new.npy\"\n",
    "print filename\n",
    "np.save(filename, coordinates)"
   ]
  },
  {
   "cell_type": "code",
   "execution_count": 61,
   "metadata": {
    "collapsed": false
   },
   "outputs": [
    {
     "data": {
      "text/plain": [
       "[0, 1, 33, 45, 57, 69, 79, 84, 89, 94, 98]"
      ]
     },
     "execution_count": 61,
     "metadata": {},
     "output_type": "execute_result"
    }
   ],
   "source": [
    "file_number_not"
   ]
  },
  {
   "cell_type": "code",
   "execution_count": 62,
   "metadata": {
    "collapsed": false
   },
   "outputs": [
    {
     "data": {
      "text/plain": [
       "(1094, 2048)"
      ]
     },
     "execution_count": 62,
     "metadata": {},
     "output_type": "execute_result"
    }
   ],
   "source": [
    "pd.read_csv(flist[79], header=None).shape"
   ]
  },
  {
   "cell_type": "code",
   "execution_count": 63,
   "metadata": {
    "collapsed": false
   },
   "outputs": [
    {
     "name": "stdout",
     "output_type": "stream",
     "text": [
      "(2240512,) (2240512,) (2240512,)\n",
      "x-993315.241501_y-220149.073690_new.npy\n"
     ]
    }
   ],
   "source": [
    "coordinate_X, coordinate_Y, file_ = x_val[7], y_val[7], flist[84]\n",
    "x = np.linspace(coordinate_X, coordinate_X + 1094, 1094)\n",
    "y = np.linspace(coordinate_Y, coordinate_Y - 2048, 2048)\n",
    "xx, yy= np.meshgrid(x, y)\n",
    "\n",
    "xx = xx.reshape(-1)\n",
    "yy = yy.reshape(-1)\n",
    "z_data = genfromtxt(flist[84], delimiter=',')\n",
    "z = z_data.reshape(-1)\n",
    "print xx.shape, yy.shape, z.shape\n",
    "    # x_val[0], y_val[0], flist[file_number[0]]\n",
    "val = 1094*2048\n",
    "coordinates = np.zeros((val, 3))\n",
    "coordinates[:,0] = xx\n",
    "coordinates[:,1] = yy\n",
    "coordinates[:,2] = z\n",
    "filename = flist[84][17:-4] + \"_new.npy\"\n",
    "print filename\n",
    "np.save(filename, coordinates)"
   ]
  },
  {
   "cell_type": "code",
   "execution_count": 64,
   "metadata": {
    "collapsed": false
   },
   "outputs": [
    {
     "data": {
      "text/plain": [
       "(1094, 2048)"
      ]
     },
     "execution_count": 64,
     "metadata": {},
     "output_type": "execute_result"
    }
   ],
   "source": [
    "pd.read_csv(flist[89], header=None).shape"
   ]
  },
  {
   "cell_type": "code",
   "execution_count": 65,
   "metadata": {
    "collapsed": false
   },
   "outputs": [
    {
     "name": "stdout",
     "output_type": "stream",
     "text": [
      "(2240512,) (2240512,) (2240512,)\n",
      "x-995363.241501_y-220149.073690_new.npy\n"
     ]
    }
   ],
   "source": [
    "coordinate_X, coordinate_Y, file_ = x_val[8], y_val[8], flist[89]\n",
    "x = np.linspace(coordinate_X, coordinate_X + 1094, 1094)\n",
    "y = np.linspace(coordinate_Y, coordinate_Y - 2048, 2048)\n",
    "xx, yy= np.meshgrid(x, y)\n",
    "\n",
    "xx = xx.reshape(-1)\n",
    "yy = yy.reshape(-1)\n",
    "z_data = genfromtxt(flist[89], delimiter=',')\n",
    "z = z_data.reshape(-1)\n",
    "print xx.shape, yy.shape, z.shape\n",
    "    # x_val[0], y_val[0], flist[file_number[0]]\n",
    "val = 1094*2048\n",
    "coordinates = np.zeros((val, 3))\n",
    "coordinates[:,0] = xx\n",
    "coordinates[:,1] = yy\n",
    "coordinates[:,2] = z\n",
    "filename = flist[89][17:-4] + \"_new.npy\"\n",
    "print filename\n",
    "np.save(filename, coordinates)"
   ]
  },
  {
   "cell_type": "code",
   "execution_count": 66,
   "metadata": {
    "collapsed": false
   },
   "outputs": [
    {
     "data": {
      "text/plain": [
       "(1094, 2048)"
      ]
     },
     "execution_count": 66,
     "metadata": {},
     "output_type": "execute_result"
    }
   ],
   "source": [
    "pd.read_csv(flist[94], header=None).shape"
   ]
  },
  {
   "cell_type": "code",
   "execution_count": 67,
   "metadata": {
    "collapsed": false
   },
   "outputs": [
    {
     "name": "stdout",
     "output_type": "stream",
     "text": [
      "(2240512,) (2240512,) (2240512,)\n",
      "x-997411.241501_y-220149.073690_new.npy\n"
     ]
    }
   ],
   "source": [
    "coordinate_X, coordinate_Y, file_ = x_val[9], y_val[9], flist[94]\n",
    "x = np.linspace(coordinate_X, coordinate_X + 1094, 1094)\n",
    "y = np.linspace(coordinate_Y, coordinate_Y - 2048, 2048)\n",
    "xx, yy= np.meshgrid(x, y)\n",
    "\n",
    "xx = xx.reshape(-1)\n",
    "yy = yy.reshape(-1)\n",
    "z_data = genfromtxt(flist[94], delimiter=',')\n",
    "z = z_data.reshape(-1)\n",
    "print xx.shape, yy.shape, z.shape\n",
    "    # x_val[0], y_val[0], flist[file_number[0]]\n",
    "val = 1094*2048\n",
    "coordinates = np.zeros((val, 3))\n",
    "coordinates[:,0] = xx\n",
    "coordinates[:,1] = yy\n",
    "coordinates[:,2] = z\n",
    "filename = flist[94][17:-4] + \"_new.npy\"\n",
    "print filename\n",
    "np.save(filename, coordinates)"
   ]
  },
  {
   "cell_type": "code",
   "execution_count": 68,
   "metadata": {
    "collapsed": false
   },
   "outputs": [
    {
     "data": {
      "text/plain": [
       "(1094, 2048)"
      ]
     },
     "execution_count": 68,
     "metadata": {},
     "output_type": "execute_result"
    }
   ],
   "source": [
    "pd.read_csv(flist[98], header=None).shape"
   ]
  },
  {
   "cell_type": "code",
   "execution_count": 69,
   "metadata": {
    "collapsed": false
   },
   "outputs": [
    {
     "name": "stdout",
     "output_type": "stream",
     "text": [
      "(2240512,) (2240512,) (2240512,)\n",
      "x-999459.241501_y-220149.073690_new.npy\n"
     ]
    }
   ],
   "source": [
    "coordinate_X, coordinate_Y, file_ = x_val[10], y_val[10], flist[98]\n",
    "x = np.linspace(coordinate_X, coordinate_X + 1094, 1094)\n",
    "y = np.linspace(coordinate_Y, coordinate_Y - 2048, 2048)\n",
    "xx, yy= np.meshgrid(x, y)\n",
    "\n",
    "xx = xx.reshape(-1)\n",
    "yy = yy.reshape(-1)\n",
    "z_data = genfromtxt(flist[98], delimiter=',')\n",
    "z = z_data.reshape(-1)\n",
    "print xx.shape, yy.shape, z.shape\n",
    "    # x_val[0], y_val[0], flist[file_number[0]]\n",
    "val = 1094*2048\n",
    "coordinates = np.zeros((val, 3))\n",
    "coordinates[:,0] = xx\n",
    "coordinates[:,1] = yy\n",
    "coordinates[:,2] = z\n",
    "filename = flist[98][17:-4] + \"_new.npy\"\n",
    "print filename\n",
    "np.save(filename, coordinates)"
   ]
  },
  {
   "cell_type": "code",
   "execution_count": null,
   "metadata": {
    "collapsed": true
   },
   "outputs": [],
   "source": []
  },
  {
   "cell_type": "code",
   "execution_count": null,
   "metadata": {
    "collapsed": true
   },
   "outputs": [],
   "source": []
  }
 ],
 "metadata": {
  "anaconda-cloud": {},
  "kernelspec": {
   "display_name": "Python [default]",
   "language": "python",
   "name": "python2"
  },
  "language_info": {
   "codemirror_mode": {
    "name": "ipython",
    "version": 2
   },
   "file_extension": ".py",
   "mimetype": "text/x-python",
   "name": "python",
   "nbconvert_exporter": "python",
   "pygments_lexer": "ipython2",
   "version": "2.7.12"
  }
 },
 "nbformat": 4,
 "nbformat_minor": 2
}
