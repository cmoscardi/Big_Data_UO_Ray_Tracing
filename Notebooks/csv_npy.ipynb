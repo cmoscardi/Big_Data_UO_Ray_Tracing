{
 "cells": [
  {
   "cell_type": "markdown",
   "metadata": {},
   "source": [
    "## Script file to convert the rasterised 3D model csv files to numpy files.\n",
    "\n",
    "### There are 99 tiles (csv files) which have to be converted, most of these tiles are of size 2048 ft x 2048 ft with a resoultion of one ft.\n",
    "\n",
    "### A few edge cases do not have the typical 2048 ft x 2048 ft dimension are handled separately."
   ]
  },
  {
   "cell_type": "code",
   "execution_count": 1,
   "metadata": {
    "collapsed": true
   },
   "outputs": [],
   "source": [
    "import numpy as np\n",
    "import pandas as pd\n",
    "from numpy import genfromtxt\n",
    "import csv\n",
    "import glob"
   ]
  },
  {
   "cell_type": "code",
   "execution_count": 6,
   "metadata": {
    "collapsed": true
   },
   "outputs": [],
   "source": [
    "#Loading csv files into flist\n",
    "path = 'LowerMN_tiles/x-*_y-*.csv'\n",
    "flist = glob.glob(path)"
   ]
  },
  {
   "cell_type": "code",
   "execution_count": 15,
   "metadata": {
    "collapsed": false
   },
   "outputs": [],
   "source": [
    "length = len(flist)\n",
    "dimensions = np.zeros((length, 2))"
   ]
  },
  {
   "cell_type": "code",
   "execution_count": null,
   "metadata": {
    "collapsed": false
   },
   "outputs": [],
   "source": [
    "#Checking rows and columns for each file\n",
    "file_number = []\n",
    "for i in range(len(flist)):\n",
    "    df = pd.read_csv(flist[i], header=None)\n",
    "    dimensions[i][0] = len(df)\n",
    "    dimensions[i][1] = len(df.columns)\n",
    "    file_number.append(i)"
   ]
  },
  {
   "cell_type": "code",
   "execution_count": 51,
   "metadata": {
    "collapsed": false
   },
   "outputs": [],
   "source": [
    "#Capturing upper right corner longitude and latitude for each file      \n",
    "x_val = []\n",
    "y_val = []\n",
    "for i in file_number:\n",
    "    coordinate = flist[i][:-4].split('\\\\')[1].split('_')\n",
    "    x_val.append(float(coordinate[0].split('-')[1]))\n",
    "    y_val.append(float(coordinate[1].split('-')[1]))"
   ]
  },
  {
   "cell_type": "code",
   "execution_count": 61,
   "metadata": {
    "collapsed": false
   },
   "outputs": [
    {
     "name": "stderr",
     "output_type": "stream",
     "text": [
      "C:\\ProgramData\\Anaconda2\\lib\\site-packages\\ipykernel\\__main__.py:13: VisibleDeprecationWarning: using a non-integer number instead of an integer will result in an error in the future\n"
     ]
    },
    {
     "name": "stdout",
     "output_type": "stream",
     "text": [
      "new_x-1001507.241501_y-219055.073690.npy\n",
      "new_x-1001507.241501_y-220149.073690.npy\n",
      "new_x-978979.241501_y-196527.073690.npy\n",
      "new_x-978979.241501_y-198575.073690.npy\n",
      "new_x-978979.241501_y-200623.073690.npy\n",
      "new_x-978979.241501_y-202671.073690.npy\n",
      "new_x-978979.241501_y-204719.073690.npy\n",
      "new_x-978979.241501_y-206767.073690.npy\n",
      "new_x-978979.241501_y-208815.073690.npy\n",
      "new_x-978979.241501_y-210863.073690.npy\n",
      "new_x-981027.241501_y-196527.073690.npy\n"
     ]
    }
   ],
   "source": [
    "#Creating numpy files with long, lat and height with a resolution of 1 ft for the regular files\n",
    "for index, file_ in enumerate(file_number):\n",
    "    coordinate_X, coordinate_Y, file_ = x_val[index], y_val[index], flist[file_]\n",
    "    x = np.linspace(coordinate_X, coordinate_X + dimensions[index][0], dimensions[index][0])\n",
    "    y = np.linspace(coordinate_Y, coordinate_Y - dimensions[index][1], dimensions[index][1])\n",
    "    xx, yy= np.meshgrid(x, y)\n",
    "\n",
    "    xx = xx.reshape(-1)\n",
    "    yy = yy.reshape(-1)\n",
    "    z_data = genfromtxt(flist[index], delimiter=',')\n",
    "    z = z_data.reshape(-1)\n",
    "    \n",
    "    coordinates = np.zeros((dimensions[index][0]*dimensions[index][1], 3))\n",
    "    coordinates[:,0] = xx\n",
    "    coordinates[:,1] = yy\n",
    "    coordinates[:,2] = z\n",
    "    filename = flist[index].split('\\\\')[1][:-4] + \".npy\"\n",
    "    filenameNew = 'new_'+filename\n",
    "    print filenameNew\n",
    "    np.save(filenameNew, coordinates)"
   ]
  }
 ],
 "metadata": {
  "kernelspec": {
   "display_name": "Python 2",
   "language": "python",
   "name": "python2"
  },
  "language_info": {
   "codemirror_mode": {
    "name": "ipython",
    "version": 2
   },
   "file_extension": ".py",
   "mimetype": "text/x-python",
   "name": "python",
   "nbconvert_exporter": "python",
   "pygments_lexer": "ipython2",
   "version": "2.7.13"
  }
 },
 "nbformat": 4,
 "nbformat_minor": 2
}
